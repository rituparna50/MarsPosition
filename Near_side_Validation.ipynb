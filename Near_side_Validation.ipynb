{
  "nbformat": 4,
  "nbformat_minor": 0,
  "metadata": {
    "colab": {
      "provenance": [],
      "authorship_tag": "ABX9TyNvYGv4AJeNLVBaEGIE24hR",
      "include_colab_link": true
    },
    "kernelspec": {
      "name": "python3",
      "display_name": "Python 3"
    },
    "language_info": {
      "name": "python"
    }
  },
  "cells": [
    {
      "cell_type": "markdown",
      "metadata": {
        "id": "view-in-github",
        "colab_type": "text"
      },
      "source": [
        "<a href=\"https://colab.research.google.com/github/rituparna50/MarsPosition/blob/main/Near_side_Validation.ipynb\" target=\"_parent\"><img src=\"https://colab.research.google.com/assets/colab-badge.svg\" alt=\"Open In Colab\"/></a>"
      ]
    },
    {
      "cell_type": "markdown",
      "source": [
        "Using HMI near side images to validate MarsCam near side images.\n",
        "We have already figured out a way to identify dates when the opening angle is between 90-270 degrees. But that is for far-side. In order to validate the utilisation of the MarsCam images, we first need to do near-side validation."
      ],
      "metadata": {
        "id": "ZpzYaolqsF3D"
      }
    },
    {
      "cell_type": "code",
      "execution_count": 6,
      "metadata": {
        "id": "XJmqb1MVDKpO"
      },
      "outputs": [],
      "source": [
        "import astropy\n",
        "import numpy as np"
      ]
    },
    {
      "cell_type": "code",
      "source": [
        "from astropy.time import Time\n",
        "from astropy import units as u"
      ],
      "metadata": {
        "id": "NRB1WSwCsFV7"
      },
      "execution_count": 4,
      "outputs": []
    },
    {
      "cell_type": "code",
      "source": [
        "DateTime = \"2023-11-01 09:00:00\"\n",
        "when = Time(DateTime)\n",
        "print(when)"
      ],
      "metadata": {
        "colab": {
          "base_uri": "https://localhost:8080/"
        },
        "id": "HxoYBVOq1Mio",
        "outputId": "d50f13a9-1f1b-4591-ba46-b0ac6875f7c3"
      },
      "execution_count": 10,
      "outputs": [
        {
          "output_type": "stream",
          "name": "stdout",
          "text": [
            "2023-11-01 09:00:00.000\n"
          ]
        }
      ]
    },
    {
      "cell_type": "markdown",
      "source": [
        "# Difference between Astropy and Skyfield libraries, even though both are Python packages\n",
        "\n",
        "Astropy - Designed to handle a wide range of astronomical tasks from time and coordinate trasnformations to unit conversions, data visualization, cosmological calcualtions etc. Aims to provide a one-stop solution for many of the routine tasks in astronomy and astrophysics. Large and complex as it has a wide range of functionalities.\n",
        "\n",
        "Skyfield - More focsed. Primary goal is to provide accurate and high-performance tools for computing the *positions of celestial bodies*. Much more high precision in terms of speed when computing positions using the JPL ephemerides.\n",
        "\n"
      ],
      "metadata": {
        "id": "dIzzmAqf3XRb"
      }
    },
    {
      "cell_type": "code",
      "source": [
        "pip install skyfield datetime\n",
        "\n",
        "# Skyfield and datetime are two different python packages we will need.\n",
        "# Could not write as\n",
        "    # pip install skyfield\n",
        "    # pip install datetime\n",
        "\n",
        "  # Have to write as -- pip install skyfield datetime --> Together"
      ],
      "metadata": {
        "id": "rLwavdwV4j8K"
      },
      "execution_count": null,
      "outputs": []
    },
    {
      "cell_type": "code",
      "source": [],
      "metadata": {
        "id": "1nwp01T941Q3"
      },
      "execution_count": null,
      "outputs": []
    }
  ]
}