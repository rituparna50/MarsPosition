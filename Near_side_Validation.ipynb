{
  "nbformat": 4,
  "nbformat_minor": 0,
  "metadata": {
    "colab": {
      "provenance": [],
      "authorship_tag": "ABX9TyPgK2vvWj6BNSrMn9L+63s8",
      "include_colab_link": true
    },
    "kernelspec": {
      "name": "python3",
      "display_name": "Python 3"
    },
    "language_info": {
      "name": "python"
    }
  },
  "cells": [
    {
      "cell_type": "markdown",
      "metadata": {
        "id": "view-in-github",
        "colab_type": "text"
      },
      "source": [
        "<a href=\"https://colab.research.google.com/github/rituparna50/MarsPosition/blob/main/Near_side_Validation.ipynb\" target=\"_parent\"><img src=\"https://colab.research.google.com/assets/colab-badge.svg\" alt=\"Open In Colab\"/></a>"
      ]
    },
    {
      "cell_type": "markdown",
      "source": [
        "Using HMI near side images to validate MarsCam near side images.\n",
        "We have already figured out a way to identify dates when the opening angle is between 90-270 degrees. But that is for far-side. In order to validate the utilisation of the MarsCam images, we first need to do near-side validation."
      ],
      "metadata": {
        "id": "ZpzYaolqsF3D"
      }
    },
    {
      "cell_type": "code",
      "execution_count": 6,
      "metadata": {
        "id": "XJmqb1MVDKpO"
      },
      "outputs": [],
      "source": [
        "import astropy\n",
        "import numpy as np"
      ]
    },
    {
      "cell_type": "code",
      "source": [
        "from astropy.time import Time\n",
        "from astropy import units as u"
      ],
      "metadata": {
        "id": "NRB1WSwCsFV7"
      },
      "execution_count": 7,
      "outputs": []
    },
    {
      "cell_type": "code",
      "source": [
        "DateTime = \"2023-11-01 09:00:00\"\n",
        "when = Time(DateTime)\n",
        "print(when)"
      ],
      "metadata": {
        "colab": {
          "base_uri": "https://localhost:8080/"
        },
        "id": "HxoYBVOq1Mio",
        "outputId": "dd6b2987-1dff-4a9c-dd86-49c8f444de0c"
      },
      "execution_count": 8,
      "outputs": [
        {
          "output_type": "stream",
          "name": "stdout",
          "text": [
            "2023-11-01 09:00:00.000\n"
          ]
        }
      ]
    },
    {
      "cell_type": "markdown",
      "source": [
        "# Difference between Astropy and Skyfield libraries, even though both are Python packages\n",
        "\n",
        "Astropy - Designed to handle a wide range of astronomical tasks from time and coordinate trasnformations to unit conversions, data visualization, cosmological calcualtions etc. Aims to provide a one-stop solution for many of the routine tasks in astronomy and astrophysics. Large and complex as it has a wide range of functionalities.\n",
        "\n",
        "Skyfield - More focsed. Primary goal is to provide accurate and high-performance tools for computing the *positions of celestial bodies*. Much more high precision in terms of speed when computing positions using the JPL ephemerides.\n",
        "\n"
      ],
      "metadata": {
        "id": "dIzzmAqf3XRb"
      }
    },
    {
      "cell_type": "code",
      "source": [
        "!pip install skyfield datetime\n",
        "#pip install datetime\n",
        "\n",
        "# Skyfield and datetime are two different python packages we will need.\n",
        "# Could not write as\n",
        "    # pip install skyfield\n",
        "    # pip install datetime\n",
        "\n",
        "  # Have to write as -- pip install skyfield datetime --> Together"
      ],
      "metadata": {
        "id": "rLwavdwV4j8K"
      },
      "execution_count": null,
      "outputs": []
    },
    {
      "cell_type": "code",
      "source": [
        "from skyfield.api import load, Topos\n",
        "  #Load and topos are being imported from the skyfield.api module\n",
        "  # skyfield.api is a module within the skyfield astronomical library. The term API is Application Programming Interface\",\n",
        "  #which is a set of predefined classes, functions and methods"
      ],
      "metadata": {
        "id": "1nwp01T941Q3"
      },
      "execution_count": 17,
      "outputs": []
    },
    {
      "cell_type": "markdown",
      "source": [
        "Load function is used to fetch and manage various astronomical data files, like the ephemerides from JPL. These files contain the data necessary for Skyfield to compute the positions of celestial bodies.\n",
        "\n",
        "Topos Class - allows users to specifiy a location on the earth's surface using latitude and longitutde (sometimes also elevation). This is useful when you want to comute the psoition of celestial objects as seen from a specific place on earth.\n",
        "\n",
        "**Overall, skyfield.api aims to simplify the user's interaction with the library by providing a set of high-level tools and interfaces. It abstracts away many of the intricacies and lets users perform common astronomical tasks with ease.**"
      ],
      "metadata": {
        "id": "fAXelSi2-_G1"
      }
    },
    {
      "cell_type": "markdown",
      "source": [
        "# **HMI Image Lookup**"
      ],
      "metadata": {
        "id": "G3Az0UbAABSt"
      }
    },
    {
      "cell_type": "markdown",
      "source": [
        "The Helioseismic and Magnetic Imager (HMI) on the Solar Dynamics Observatory (SDO) provides high resolution images of the Sun in different observble, including magentograms, dopplergrams and continuum intensity"
      ],
      "metadata": {
        "id": "1FGd2BVDDU9h"
      }
    },
    {
      "cell_type": "code",
      "source": [
        "pip install sunpy"
      ],
      "metadata": {
        "id": "coupKVvr-9Ji"
      },
      "execution_count": null,
      "outputs": []
    },
    {
      "cell_type": "code",
      "source": [
        "pip install drms"
      ],
      "metadata": {
        "id": "SKZFiMejAJqr"
      },
      "execution_count": null,
      "outputs": []
    },
    {
      "cell_type": "code",
      "source": [
        "pip install zeep"
      ],
      "metadata": {
        "id": "T3N4KsygDmj5",
        "colab": {
          "base_uri": "https://localhost:8080/"
        },
        "outputId": "772dc2fe-a680-4dd4-e2a1-9e9284635b57"
      },
      "execution_count": 21,
      "outputs": [
        {
          "output_type": "stream",
          "name": "stdout",
          "text": [
            "Installing collected packages: isodate, requests-toolbelt, requests-file, zeep\n",
            "Successfully installed isodate-0.6.1 requests-file-1.5.1 requests-toolbelt-1.0.0 zeep-4.2.1\n"
          ]
        }
      ]
    },
    {
      "cell_type": "code",
      "source": [
        "# Import installed libraries\n",
        "import drms\n",
        "import sunpy"
      ],
      "metadata": {
        "id": "tpMATJ28BhUN"
      },
      "execution_count": 22,
      "outputs": []
    },
    {
      "cell_type": "markdown",
      "source": [
        "DRMS stands for Data Record Management System. Provides a means to access solar data fromt the Joint Science Operations Center (JSOC). This is useful for researchers who want to access images captured by HMI, AIA\n",
        "\n",
        "Zeep is a Python SOAP client. Simple Object Access Protocol is a messaging protocol that allows programs to communicate over the internet. Zeep helps you send SOAP requests and handle the responses in Python."
      ],
      "metadata": {
        "id": "QkI_f6QgETAn"
      }
    },
    {
      "cell_type": "code",
      "source": [
        "from sunpy.net import Fido, attrs as a"
      ],
      "metadata": {
        "id": "GwF6oGbxDOkQ"
      },
      "execution_count": 25,
      "outputs": []
    },
    {
      "cell_type": "code",
      "source": [
        "# Set up the connection to JSOC\n",
        "c = drms.Client(email='ritu@sun.stanford.edu')\n",
        "\n",
        "  #Thic code creates a connection to the JSOC using the drms library.\n",
        "  # drms.Cient() creates an instance of the Client class provided by the drms library.\n",
        "  #The \"Client\" class is designed to establish a connection to the JSOC database,\n",
        "  # allowing me to subsequently query and request data from JSOC using the connection\n"
      ],
      "metadata": {
        "id": "ZNMVuKekDjT0"
      },
      "execution_count": 26,
      "outputs": []
    },
    {
      "cell_type": "code",
      "source": [
        "# Mention user defined or desired date for which solar image is neeed\n",
        "date = '2023-11-01 09:00'\n",
        "\n",
        "# Construct the data series string for HMI near-side continuum images\n",
        "series = 'hmi.Ic_45s'\n",
        "time_string = f'{date}T00:00:00z/{date}T23:59:59Z'  #This willc over the entire day"
      ],
      "metadata": {
        "id": "rsaT7sCiGkey"
      },
      "execution_count": 27,
      "outputs": []
    },
    {
      "cell_type": "code",
      "source": [
        "#Semd the data export request to JSOC\n",
        "jsoc_series = 'hmi.td_fsi_12h'\n",
        "jsoc_email = 'ritu@sun.stanford.edu'\n",
        "first_rec = '2023.05.01_00:00:00_TAI'\n",
        "last_rec = '2023.05.31_12:00:00_TAI'\n",
        "\n"
      ],
      "metadata": {
        "id": "ChweKYLMHirM"
      },
      "execution_count": 28,
      "outputs": []
    },
    {
      "cell_type": "code",
      "source": [
        "query = Fido.search(\n",
        "    a.Time(first_rec, last_rec),\n",
        "    a.jsoc.Series(jsoc_series),\n",
        "    a.jsoc.Notify(jsoc_email)\n",
        ")\n",
        "print(query)"
      ],
      "metadata": {
        "colab": {
          "base_uri": "https://localhost:8080/"
        },
        "id": "yuh7tQaGGzYP",
        "outputId": "4f7face2-25e3-4f26-ecbb-e3555b578151"
      },
      "execution_count": 29,
      "outputs": [
        {
          "output_type": "stream",
          "name": "stdout",
          "text": [
            "Results from 1 Provider:\n",
            "\n",
            "62 Results from the JSOCClient:\n",
            "Source: http://jsoc.stanford.edu\n",
            "\n",
            "         T_REC          TELESCOP  INSTRUME  CAR_ROT\n",
            "----------------------- -------- ---------- -------\n",
            "2023.05.01_00:00:00_TAI  SDO/HMI HMI_FRONT2    2270\n",
            "2023.05.01_12:00:00_TAI  SDO/HMI HMI_FRONT2    2270\n",
            "2023.05.02_00:00:00_TAI  SDO/HMI HMI_FRONT2    2270\n",
            "2023.05.02_12:00:00_TAI  SDO/HMI HMI_FRONT2    2270\n",
            "2023.05.03_00:00:00_TAI  SDO/HMI HMI_FRONT2    2270\n",
            "2023.05.03_12:00:00_TAI  SDO/HMI HMI_FRONT2    2270\n",
            "2023.05.04_00:00:00_TAI  SDO/HMI HMI_FRONT2    2270\n",
            "2023.05.04_12:00:00_TAI  SDO/HMI HMI_FRONT2    2270\n",
            "2023.05.05_00:00:00_TAI  SDO/HMI HMI_FRONT2    2270\n",
            "2023.05.05_12:00:00_TAI  SDO/HMI HMI_FRONT2    2270\n",
            "                    ...      ...        ...     ...\n",
            "2023.05.26_12:00:00_TAI  SDO/HMI HMI_FRONT2    2271\n",
            "2023.05.27_00:00:00_TAI  SDO/HMI HMI_FRONT2    2271\n",
            "2023.05.27_12:00:00_TAI  SDO/HMI HMI_FRONT2    2271\n",
            "2023.05.28_00:00:00_TAI  SDO/HMI HMI_FRONT2    2271\n",
            "2023.05.28_12:00:00_TAI  SDO/HMI HMI_FRONT2    2271\n",
            "2023.05.29_00:00:00_TAI  SDO/HMI HMI_FRONT2    2271\n",
            "2023.05.29_12:00:00_TAI  SDO/HMI HMI_FRONT2    2271\n",
            "2023.05.30_00:00:00_TAI  SDO/HMI HMI_FRONT2    2271\n",
            "2023.05.30_12:00:00_TAI  SDO/HMI HMI_FRONT2    2271\n",
            "2023.05.31_00:00:00_TAI  SDO/HMI HMI_FRONT2    2271\n",
            "2023.05.31_12:00:00_TAI  SDO/HMI HMI_FRONT2    2271\n",
            "Length = 62 rows\n",
            "\n",
            "\n"
          ]
        }
      ]
    },
    {
      "cell_type": "code",
      "source": [
        "import os\n",
        "from astropy.io import fits"
      ],
      "metadata": {
        "id": "IUwSImwuIcCe"
      },
      "execution_count": 30,
      "outputs": []
    },
    {
      "cell_type": "code",
      "source": [
        "import matplotlib.pyplot as plt\n",
        "import sunpy.map\n",
        "from scipy import ndimage"
      ],
      "metadata": {
        "id": "-UBxFqlYG5AH"
      },
      "execution_count": 32,
      "outputs": []
    },
    {
      "cell_type": "code",
      "source": [
        "from matplotlib import ticker"
      ],
      "metadata": {
        "id": "yNVOtjtsIkWC"
      },
      "execution_count": 33,
      "outputs": []
    },
    {
      "cell_type": "code",
      "source": [],
      "metadata": {
        "id": "MAjrZO5GIvna"
      },
      "execution_count": null,
      "outputs": []
    }
  ]
}