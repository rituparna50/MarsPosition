{
  "nbformat": 4,
  "nbformat_minor": 0,
  "metadata": {
    "colab": {
      "provenance": [],
      "authorship_tag": "ABX9TyNN/nWjVc2hwOPV465xHn7f",
      "include_colab_link": true
    },
    "kernelspec": {
      "name": "python3",
      "display_name": "Python 3"
    },
    "language_info": {
      "name": "python"
    }
  },
  "cells": [
    {
      "cell_type": "markdown",
      "metadata": {
        "id": "view-in-github",
        "colab_type": "text"
      },
      "source": [
        "<a href=\"https://colab.research.google.com/github/rituparna50/MarsPosition/blob/main/Near_side_Validation.ipynb\" target=\"_parent\"><img src=\"https://colab.research.google.com/assets/colab-badge.svg\" alt=\"Open In Colab\"/></a>"
      ]
    },
    {
      "cell_type": "markdown",
      "source": [
        "Using HMI near side images to validate MarsCam near side images.\n",
        "We have already figured out a way to identify dates when the opening angle is between 90-270 degrees. But that is for far-side. In order to validate the utilisation of the MarsCam images, we first need to do near-side validation."
      ],
      "metadata": {
        "id": "ZpzYaolqsF3D"
      }
    },
    {
      "cell_type": "code",
      "execution_count": 6,
      "metadata": {
        "id": "XJmqb1MVDKpO"
      },
      "outputs": [],
      "source": [
        "import astropy\n",
        "import numpy as np"
      ]
    },
    {
      "cell_type": "code",
      "source": [
        "from astropy.time import Time\n",
        "from astropy import units as u"
      ],
      "metadata": {
        "id": "NRB1WSwCsFV7"
      },
      "execution_count": 4,
      "outputs": []
    },
    {
      "cell_type": "code",
      "source": [
        "DateTime = \"2023-11-01 09:00:00\"\n",
        "when = Time(DateTime)\n",
        "print(when)"
      ],
      "metadata": {
        "colab": {
          "base_uri": "https://localhost:8080/"
        },
        "id": "HxoYBVOq1Mio",
        "outputId": "d50f13a9-1f1b-4591-ba46-b0ac6875f7c3"
      },
      "execution_count": 10,
      "outputs": [
        {
          "output_type": "stream",
          "name": "stdout",
          "text": [
            "2023-11-01 09:00:00.000\n"
          ]
        }
      ]
    },
    {
      "cell_type": "markdown",
      "source": [
        "# Difference between Astropy and Skyfield libraries, even though both are Python packages\n",
        "\n",
        "Astropy - Designed to handle a wide range of astronomical tasks from time and coordinate trasnformations to unit conversions, data visualization, cosmological calcualtions etc. Aims to provide a one-stop solution for many of the routine tasks in astronomy and astrophysics. Large and complex as it has a wide range of functionalities.\n",
        "\n",
        "Skyfield - More focsed. Primary goal is to provide accurate and high-performance tools for computing the *positions of celestial bodies*. Much more high precision in terms of speed when computing positions using the JPL ephemerides.\n",
        "\n"
      ],
      "metadata": {
        "id": "dIzzmAqf3XRb"
      }
    },
    {
      "cell_type": "code",
      "source": [
        "pip install skyfield datetime\n",
        "\n",
        "# Skyfield and datetime are two different python packages we will need.\n",
        "# Could not write as\n",
        "    # pip install skyfield\n",
        "    # pip install datetime\n",
        "\n",
        "  # Have to write as -- pip install skyfield datetime --> Together"
      ],
      "metadata": {
        "id": "rLwavdwV4j8K"
      },
      "execution_count": null,
      "outputs": []
    },
    {
      "cell_type": "code",
      "source": [
        "from skyfield.api import load, Topos\n",
        "  #Load and topos are being imported from the skyfield.api module\n",
        "  # skyfield.api is a module within the skyfield astronomical library. The term API is Application Programming Interface\",\n",
        "  #which is a set of predefined classes, functions and methods"
      ],
      "metadata": {
        "id": "1nwp01T941Q3"
      },
      "execution_count": 18,
      "outputs": []
    },
    {
      "cell_type": "markdown",
      "source": [
        "Load function is used to fetch and manage various astronomical data files, like the ephemerides from JPL. These files contain the data necessary for Skyfield to compute the positions of celestial bodies.\n",
        "\n",
        "Topos Class - allows users to specifiy a location on the earth's surface using latitude and longitutde (sometimes also elevation). This is useful when you want to comute the psoition of celestial objects as seen from a specific place on earth.\n",
        "\n",
        "**Overall, skyfield.api aims to simplify the user's interaction with the library by providing a set of high-level tools and interfaces. It abstracts away many of the intricacies and lets users perform common astronomical tasks with ease.**"
      ],
      "metadata": {
        "id": "fAXelSi2-_G1"
      }
    },
    {
      "cell_type": "markdown",
      "source": [
        "# **HMI Image Lookup**"
      ],
      "metadata": {
        "id": "G3Az0UbAABSt"
      }
    },
    {
      "cell_type": "markdown",
      "source": [
        "The Helioseismic and Magnetic Imager (HMI) on the Solar Dynamics Observatory (SDO) provides high resolution images of the Sun in different observble, including magentograms, dopplergrams and continuum intensity"
      ],
      "metadata": {
        "id": "1FGd2BVDDU9h"
      }
    },
    {
      "cell_type": "code",
      "source": [
        "pip install sunpy"
      ],
      "metadata": {
        "id": "coupKVvr-9Ji"
      },
      "execution_count": null,
      "outputs": []
    },
    {
      "cell_type": "code",
      "source": [
        "pip install drms"
      ],
      "metadata": {
        "id": "SKZFiMejAJqr"
      },
      "execution_count": null,
      "outputs": []
    },
    {
      "cell_type": "code",
      "source": [
        "pip install zeep"
      ],
      "metadata": {
        "id": "T3N4KsygDmj5"
      },
      "execution_count": null,
      "outputs": []
    },
    {
      "cell_type": "code",
      "source": [
        "# Import installed libraries\n",
        "import drms\n",
        "import sunpy"
      ],
      "metadata": {
        "id": "tpMATJ28BhUN"
      },
      "execution_count": 24,
      "outputs": []
    },
    {
      "cell_type": "markdown",
      "source": [
        "DRMS stands for Data Record Management System. Provides a means to access solar data fromt the Joint Science Operations Center (JSOC). This is useful for researchers who want to access images captured by HMI, AIA\n",
        "\n",
        "Zeep is a Python SOAP client. Simple Object Access Protocol is a messaging protocol that allows programs to communicate over the internet. Zeep helps you send SOAP requests and handle the responses in Python."
      ],
      "metadata": {
        "id": "QkI_f6QgETAn"
      }
    },
    {
      "cell_type": "code",
      "source": [
        "from sunpy.net import Fido, attrs"
      ],
      "metadata": {
        "id": "GwF6oGbxDOkQ"
      },
      "execution_count": 27,
      "outputs": []
    },
    {
      "cell_type": "code",
      "source": [
        "# Set up the connection to JSOC\n",
        "c = drms.Client()\n",
        "\n",
        "  #Thic code creates a connection to the JSOC using the drms library.\n",
        "  # drms.Cient() creates an instance of the Client class provided by the drms library.\n",
        "  #The \"Client\" class is designed to establish a connection to the JSOC database,\n",
        "  # allowing me to subsequently query and request data from JSOC using the connection\n"
      ],
      "metadata": {
        "id": "ZNMVuKekDjT0"
      },
      "execution_count": 28,
      "outputs": []
    },
    {
      "cell_type": "code",
      "source": [],
      "metadata": {
        "id": "rsaT7sCiGkey"
      },
      "execution_count": null,
      "outputs": []
    }
  ]
}