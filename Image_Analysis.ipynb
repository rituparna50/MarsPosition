{
  "cells": [
    {
      "cell_type": "markdown",
      "metadata": {
        "id": "view-in-github",
        "colab_type": "text"
      },
      "source": [
        "<a href=\"https://colab.research.google.com/github/rituparna50/MarsPosition/blob/main/Image_Analysis.ipynb\" target=\"_parent\"><img src=\"https://colab.research.google.com/assets/colab-badge.svg\" alt=\"Open In Colab\"/></a>"
      ]
    },
    {
      "cell_type": "code",
      "execution_count": null,
      "metadata": {
        "id": "RKnxAOxhWIrl"
      },
      "outputs": [],
      "source": [
        "from google.colab import files\n",
        "uploaded = files.upload"
      ]
    },
    {
      "cell_type": "code",
      "execution_count": null,
      "metadata": {
        "id": "6omDj_iYqHvC"
      },
      "outputs": [],
      "source": [
        "from PIL import Image"
      ]
    },
    {
      "cell_type": "code",
      "execution_count": null,
      "metadata": {
        "id": "U3EhYeESqrLQ"
      },
      "outputs": [],
      "source": [
        "import matplotlib.pyplot as plt"
      ]
    },
    {
      "cell_type": "code",
      "execution_count": null,
      "metadata": {
        "id": "mU4_YMGhwAsY"
      },
      "outputs": [],
      "source": [
        "!pip install sunpy\n",
        "!pip install drms\n",
        "!pip install zeep"
      ]
    },
    {
      "cell_type": "code",
      "execution_count": null,
      "metadata": {
        "id": "Cp6Er_vOw_8_"
      },
      "outputs": [],
      "source": [
        "from sunpy.net import attrs as a\n",
        "from sunpy.net import Fido"
      ]
    },
    {
      "cell_type": "code",
      "execution_count": null,
      "metadata": {
        "id": "k_wo7tfbxQLc"
      },
      "outputs": [],
      "source": [
        "from sunpy.net import Fido"
      ]
    },
    {
      "cell_type": "code",
      "execution_count": null,
      "metadata": {
        "id": "pmXBnwLMxXLQ"
      },
      "outputs": [],
      "source": [
        "print(a.jsoc.Series)"
      ]
    },
    {
      "cell_type": "code",
      "execution_count": null,
      "metadata": {
        "colab": {
          "base_uri": "https://localhost:8080/"
        },
        "id": "8P2BbSr-xeUx",
        "outputId": "3d723a3a-f3a7-426d-e107-b2d9d7e93fdd"
      },
      "outputs": [
        {
          "output_type": "stream",
          "name": "stdout",
          "text": [
            "['T_REC']\n"
          ]
        }
      ],
      "source": [
        "import drms\n",
        "client = drms.Client()\n",
        "print(client.pkeys('hmi.td_fsi_12h'))"
      ]
    },
    {
      "cell_type": "code",
      "execution_count": null,
      "metadata": {
        "colab": {
          "base_uri": "https://localhost:8080/"
        },
        "id": "R9m6TpNTx52n",
        "outputId": "c7118686-6554-468d-bba4-b3aad848925c"
      },
      "outputs": [
        {
          "output_type": "stream",
          "name": "stdout",
          "text": [
            "Results from 1 Provider:\n",
            "\n",
            "27 Results from the JSOCClient:\n",
            "Source: http://jsoc.stanford.edu\n",
            "\n",
            "         T_REC          TELESCOP  INSTRUME  CAR_ROT\n",
            "----------------------- -------- ---------- -------\n",
            "2022.12.01_00:00:00_TAI  SDO/HMI HMI_FRONT2    2264\n",
            "2022.12.01_12:00:00_TAI  SDO/HMI HMI_FRONT2    2264\n",
            "2022.12.02_00:00:00_TAI  SDO/HMI HMI_FRONT2    2264\n",
            "2022.12.02_12:00:00_TAI  SDO/HMI HMI_FRONT2    2264\n",
            "2022.12.03_00:00:00_TAI  SDO/HMI HMI_FRONT2    2264\n",
            "2022.12.03_12:00:00_TAI  SDO/HMI HMI_FRONT2    2264\n",
            "2022.12.04_00:00:00_TAI  SDO/HMI HMI_FRONT2    2264\n",
            "2022.12.04_12:00:00_TAI  SDO/HMI HMI_FRONT2    2264\n",
            "2022.12.05_00:00:00_TAI  SDO/HMI HMI_FRONT2    2264\n",
            "2022.12.05_12:00:00_TAI  SDO/HMI HMI_FRONT2    2265\n",
            "                    ...      ...        ...     ...\n",
            "2022.12.09_00:00:00_TAI  SDO/HMI HMI_FRONT2    2265\n",
            "2022.12.09_12:00:00_TAI  SDO/HMI HMI_FRONT2    2265\n",
            "2022.12.10_00:00:00_TAI  SDO/HMI HMI_FRONT2    2265\n",
            "2022.12.10_12:00:00_TAI  SDO/HMI HMI_FRONT2    2265\n",
            "2022.12.11_00:00:00_TAI  SDO/HMI HMI_FRONT2    2265\n",
            "2022.12.11_12:00:00_TAI  SDO/HMI HMI_FRONT2    2265\n",
            "2022.12.12_00:00:00_TAI  SDO/HMI HMI_FRONT2    2265\n",
            "2022.12.12_12:00:00_TAI  SDO/HMI HMI_FRONT2    2265\n",
            "2022.12.13_00:00:00_TAI  SDO/HMI HMI_FRONT2    2265\n",
            "2022.12.13_12:00:00_TAI  SDO/HMI HMI_FRONT2    2265\n",
            "2022.12.14_00:00:00_TAI  SDO/HMI HMI_FRONT2    2265\n",
            "Length = 27 rows\n",
            "\n",
            "\n"
          ]
        }
      ],
      "source": [
        "query = Fido.search(a.Time('2022-12-01T00:00:00', '2022-12-14T01:00:00'), a.jsoc.Series('hmi.td_fsi_12h'))\n",
        "print(query)"
      ]
    },
    {
      "cell_type": "code",
      "execution_count": null,
      "metadata": {
        "id": "kRp_41isyW1p"
      },
      "outputs": [],
      "source": []
    },
    {
      "cell_type": "code",
      "execution_count": null,
      "metadata": {
        "id": "VPEAXCndzFIn"
      },
      "outputs": [],
      "source": [
        "#Semd the data export request to JSOC\n",
        "jsoc_series = 'hmi.Ic_720s'\n",
        "jsoc_email = 'ritu@sun.stanford.edu'\n",
        "first_rec = '2022.12.01_00:00:00_TAI'\n",
        "last_rec = '2022.12.14_12:00:00_TAI'"
      ]
    },
    {
      "cell_type": "code",
      "execution_count": null,
      "metadata": {
        "colab": {
          "base_uri": "https://localhost:8080/"
        },
        "id": "ZY3ATpslzfK9",
        "outputId": "b6f45ffc-b937-404c-8b86-fd09db0763f5"
      },
      "outputs": [
        {
          "output_type": "stream",
          "name": "stdout",
          "text": [
            "Results from 1 Provider:\n",
            "\n",
            "1621 Results from the JSOCClient:\n",
            "Source: http://jsoc.stanford.edu\n",
            "\n",
            "         T_REC          TELESCOP   INSTRUME   WAVELNTH CAR_ROT\n",
            "----------------------- -------- ------------ -------- -------\n",
            "2022.12.01_00:00:00_TAI  SDO/HMI HMI_COMBINED   6173.0  2264.0\n",
            "2022.12.01_00:12:00_TAI  SDO/HMI HMI_COMBINED   6173.0  2264.0\n",
            "2022.12.01_00:24:00_TAI  SDO/HMI HMI_COMBINED   6173.0  2264.0\n",
            "2022.12.01_00:36:00_TAI  SDO/HMI HMI_COMBINED   6173.0  2264.0\n",
            "2022.12.01_00:48:00_TAI  SDO/HMI HMI_COMBINED   6173.0  2264.0\n",
            "2022.12.01_01:00:00_TAI  SDO/HMI HMI_COMBINED   6173.0  2264.0\n",
            "2022.12.01_01:12:00_TAI  SDO/HMI HMI_COMBINED   6173.0  2264.0\n",
            "2022.12.01_01:24:00_TAI  SDO/HMI HMI_COMBINED   6173.0  2264.0\n",
            "2022.12.01_01:36:00_TAI  SDO/HMI HMI_COMBINED   6173.0  2264.0\n",
            "2022.12.01_01:48:00_TAI  SDO/HMI HMI_COMBINED   6173.0  2264.0\n",
            "                    ...      ...          ...      ...     ...\n",
            "2022.12.14_10:00:00_TAI  SDO/HMI HMI_COMBINED   6173.0  2265.0\n",
            "2022.12.14_10:12:00_TAI  SDO/HMI HMI_COMBINED   6173.0  2265.0\n",
            "2022.12.14_10:24:00_TAI  SDO/HMI HMI_COMBINED   6173.0  2265.0\n",
            "2022.12.14_10:36:00_TAI  SDO/HMI HMI_COMBINED   6173.0  2265.0\n",
            "2022.12.14_10:48:00_TAI  SDO/HMI HMI_COMBINED   6173.0  2265.0\n",
            "2022.12.14_11:00:00_TAI  SDO/HMI HMI_COMBINED   6173.0  2265.0\n",
            "2022.12.14_11:12:00_TAI  SDO/HMI HMI_COMBINED   6173.0  2265.0\n",
            "2022.12.14_11:24:00_TAI  SDO/HMI HMI_COMBINED   6173.0  2265.0\n",
            "2022.12.14_11:36:00_TAI  SDO/HMI HMI_COMBINED   6173.0  2265.0\n",
            "2022.12.14_11:48:00_TAI  SDO/HMI HMI_COMBINED   6173.0  2265.0\n",
            "2022.12.14_12:00:00_TAI  SDO/HMI HMI_COMBINED   6173.0  2265.0\n",
            "Length = 1621 rows\n",
            "\n",
            "\n"
          ]
        }
      ],
      "source": [
        "query = Fido.search(\n",
        "    a.Time(first_rec, last_rec),\n",
        "    a.jsoc.Series(jsoc_series),\n",
        "    a.jsoc.Notify(jsoc_email)\n",
        ")\n",
        "print(query)"
      ]
    },
    {
      "cell_type": "code",
      "execution_count": null,
      "metadata": {
        "colab": {
          "base_uri": "https://localhost:8080/",
          "height": 138,
          "referenced_widgets": [
            "a30090a0af6d49f1b130991d56717bcd",
            "9cb019a3552046bf9a9a479face5e231",
            "a9694f0ff3594eb0a06761c18d8842e0",
            "ab9ef7d3b27d4ecb93a8be47e24e862d",
            "797f8025491f417e994e51024752cb7c",
            "051b0bbb27e64583aec5d1cc57f6304b",
            "609cf0add2a44970a88756d2bb24158a",
            "a990a0b150ba4b068b821541cbf51abf",
            "328e1bb62d4a4612a35bcdab17fdab62",
            "4782ac99dd5846f8a527d4c4c295b942",
            "a023f4cd90a74d27af2e0e7012fcbc63"
          ]
        },
        "id": "c81b5yj7zjtZ",
        "outputId": "f76d288d-609d-4d86-e871-f4c97255543b"
      },
      "outputs": [
        {
          "output_type": "stream",
          "name": "stdout",
          "text": [
            "Export request pending. [id=JSOC_20231109_093, status=2]\n",
            "Waiting for 0 seconds...\n",
            "1608 URLs found for download. Full request totalling 23380MB\n"
          ]
        },
        {
          "output_type": "display_data",
          "data": {
            "text/plain": [
              "Files Downloaded:   0%|          | 0/1608 [00:00<?, ?file/s]"
            ],
            "application/vnd.jupyter.widget-view+json": {
              "version_major": 2,
              "version_minor": 0,
              "model_id": "a30090a0af6d49f1b130991d56717bcd"
            }
          },
          "metadata": {}
        },
        {
          "output_type": "stream",
          "name": "stdout",
          "text": [
            "['/root/sunpy/data/hmi.ic_720s.20221201_000000_TAI.3.continuum.fits', '/root/sunpy/data/hmi.ic_720s.20221201_001200_TAI.3.continuum.fits', '/root/sunpy/data/hmi.ic_720s.20221201_002400_TAI.3.continuum.fits', '/root/sunpy/data/hmi.ic_720s.20221201_003600_TAI.3.continuum.fits', '/root/sunpy/data/hmi.ic_720s.20221201_004800_TAI.3.continuum.fits', '/root/sunpy/data/hmi.ic_720s.20221201_010000_TAI.3.continuum.fits', '/root/sunpy/data/hmi.ic_720s.20221201_011200_TAI.3.continuum.fits', '/root/sunpy/data/hmi.ic_720s.20221201_012400_TAI.3.continuum.fits', '/root/sunpy/data/hmi.ic_720s.20221201_013600_TAI.3.continuum.fits', '/root/sunpy/data/hmi.ic_720s.20221201_014800_TAI.3.continuum.fits', '/root/sunpy/data/hmi.ic_720s.20221201_020000_TAI.3.continuum.fits', '/root/sunpy/data/hmi.ic_720s.20221201_021200_TAI.3.continuum.fits', '/root/sunpy/data/hmi.ic_720s.20221201_022400_TAI.3.continuum.fits', '/root/sunpy/data/hmi.ic_720s.20221201_023600_TAI.3.continuum.fits', '/root/sunpy/data/hmi.ic_720s.20221201_024800_TAI.3.continuum.fits', '/root/sunpy/data/hmi.ic_720s.20221201_030000_TAI.3.continuum.fits', '/root/sunpy/data/hmi.ic_720s.20221201_031200_TAI.3.continuum.fits', '/root/sunpy/data/hmi.ic_720s.20221201_032400_TAI.3.continuum.fits', '/root/sunpy/data/hmi.ic_720s.20221201_033600_TAI.3.continuum.fits', '/root/sunpy/data/hmi.ic_720s.20221201_034800_TAI.3.continuum.fits', '/root/sunpy/data/hmi.ic_720s.20221201_040000_TAI.3.continuum.fits', '/root/sunpy/data/hmi.ic_720s.20221201_041200_TAI.3.continuum.fits', '/root/sunpy/data/hmi.ic_720s.20221201_042400_TAI.3.continuum.fits', '/root/sunpy/data/hmi.ic_720s.20221201_043600_TAI.3.continuum.fits', '/root/sunpy/data/hmi.ic_720s.20221201_044800_TAI.3.continuum.fits', '/root/sunpy/data/hmi.ic_720s.20221201_050000_TAI.3.continuum.fits', '/root/sunpy/data/hmi.ic_720s.20221201_051200_TAI.3.continuum.fits', '/root/sunpy/data/hmi.ic_720s.20221201_052400_TAI.3.continuum.fits', '/root/sunpy/data/hmi.ic_720s.20221201_053600_TAI.3.continuum.fits', '/root/sunpy/data/hmi.ic_720s.20221201_054800_TAI.3.continuum.fits', '/root/sunpy/data/hmi.ic_720s.20221201_060000_TAI.3.continuum.fits', '/root/sunpy/data/hmi.ic_720s.20221201_061200_TAI.3.continuum.fits', '/root/sunpy/data/hmi.ic_720s.20221201_062400_TAI.3.continuum.fits', '/root/sunpy/data/hmi.ic_720s.20221201_063600_TAI.3.continuum.fits', '/root/sunpy/data/hmi.ic_720s.20221201_064800_TAI.3.continuum.fits', '/root/sunpy/data/hmi.ic_720s.20221201_070000_TAI.3.continuum.fits', '/root/sunpy/data/hmi.ic_720s.20221201_071200_TAI.3.continuum.fits', '/root/sunpy/data/hmi.ic_720s.20221201_072400_TAI.3.continuum.fits', '/root/sunpy/data/hmi.ic_720s.20221201_073600_TAI.3.continuum.fits', '/root/sunpy/data/hmi.ic_720s.20221201_074800_TAI.3.continuum.fits', '/root/sunpy/data/hmi.ic_720s.20221201_080000_TAI.3.continuum.fits', '/root/sunpy/data/hmi.ic_720s.20221201_081200_TAI.3.continuum.fits', '/root/sunpy/data/hmi.ic_720s.20221201_082400_TAI.3.continuum.fits', '/root/sunpy/data/hmi.ic_720s.20221201_083600_TAI.3.continuum.fits', '/root/sunpy/data/hmi.ic_720s.20221201_084800_TAI.3.continuum.fits', '/root/sunpy/data/hmi.ic_720s.20221201_090000_TAI.3.continuum.fits', '/root/sunpy/data/hmi.ic_720s.20221201_091200_TAI.3.continuum.fits', '/root/sunpy/data/hmi.ic_720s.20221201_092400_TAI.3.continuum.fits', '/root/sunpy/data/hmi.ic_720s.20221201_093600_TAI.3.continuum.fits', '/root/sunpy/data/hmi.ic_720s.20221201_094800_TAI.3.continuum.fits', '/root/sunpy/data/hmi.ic_720s.20221201_100000_TAI.3.continuum.fits', '/root/sunpy/data/hmi.ic_720s.20221201_101200_TAI.3.continuum.fits', '/root/sunpy/data/hmi.ic_720s.20221201_102400_TAI.3.continuum.fits', '/root/sunpy/data/hmi.ic_720s.20221201_103600_TAI.3.continuum.fits', '/root/sunpy/data/hmi.ic_720s.20221201_104800_TAI.3.continuum.fits', '/root/sunpy/data/hmi.ic_720s.20221201_110000_TAI.3.continuum.fits', '/root/sunpy/data/hmi.ic_720s.20221201_111200_TAI.3.continuum.fits', '/root/sunpy/data/hmi.ic_720s.20221201_112400_TAI.3.continuum.fits', '/root/sunpy/data/hmi.ic_720s.20221201_113600_TAI.3.continuum.fits', '/root/sunpy/data/hmi.ic_720s.20221201_114800_TAI.3.continuum.fits', '/root/sunpy/data/hmi.ic_720s.20221201_120000_TAI.3.continuum.fits', '/root/sunpy/data/hmi.ic_720s.20221201_121200_TAI.3.continuum.fits', '/root/sunpy/data/hmi.ic_720s.20221201_122400_TAI.3.continuum.fits', '/root/sunpy/data/hmi.ic_720s.20221201_123600_TAI.3.continuum.fits', '/root/sunpy/data/hmi.ic_720s.20221201_124800_TAI.3.continuum.fits', '/root/sunpy/data/hmi.ic_720s.20221201_130000_TAI.3.continuum.fits', '/root/sunpy/data/hmi.ic_720s.20221201_131200_TAI.3.continuum.fits', '/root/sunpy/data/hmi.ic_720s.20221201_132400_TAI.3.continuum.fits', '/root/sunpy/data/hmi.ic_720s.20221201_133600_TAI.3.continuum.fits', '/root/sunpy/data/hmi.ic_720s.20221201_134800_TAI.3.continuum.fits', '/root/sunpy/data/hmi.ic_720s.20221201_140000_TAI.3.continuum.fits', '/root/sunpy/data/hmi.ic_720s.20221201_141200_TAI.3.continuum.fits', '/root/sunpy/data/hmi.ic_720s.20221201_142400_TAI.3.continuum.fits', '/root/sunpy/data/hmi.ic_720s.20221201_143600_TAI.3.continuum.fits', '/root/sunpy/data/hmi.ic_720s.20221201_144800_TAI.3.continuum.fits', '/root/sunpy/data/hmi.ic_720s.20221201_150000_TAI.3.continuum.fits', '/root/sunpy/data/hmi.ic_720s.20221201_151200_TAI.3.continuum.fits', '/root/sunpy/data/hmi.ic_720s.20221201_152400_TAI.3.continuum.fits', '/root/sunpy/data/hmi.ic_720s.20221201_153600_TAI.3.continuum.fits', '/root/sunpy/data/hmi.ic_720s.20221201_154800_TAI.3.continuum.fits', '/root/sunpy/data/hmi.ic_720s.20221201_160000_TAI.3.continuum.fits', '/root/sunpy/data/hmi.ic_720s.20221201_161200_TAI.3.continuum.fits', '/root/sunpy/data/hmi.ic_720s.20221201_162400_TAI.3.continuum.fits', '/root/sunpy/data/hmi.ic_720s.20221201_163600_TAI.3.continuum.fits', '/root/sunpy/data/hmi.ic_720s.20221201_164800_TAI.3.continuum.fits', '/root/sunpy/data/hmi.ic_720s.20221201_170000_TAI.3.continuum.fits', '/root/sunpy/data/hmi.ic_720s.20221201_171200_TAI.3.continuum.fits', '/root/sunpy/data/hmi.ic_720s.20221201_172400_TAI.3.continuum.fits', '/root/sunpy/data/hmi.ic_720s.20221201_173600_TAI.3.continuum.fits', '/root/sunpy/data/hmi.ic_720s.20221201_174800_TAI.3.continuum.fits', '/root/sunpy/data/hmi.ic_720s.20221201_180000_TAI.3.continuum.fits', '/root/sunpy/data/hmi.ic_720s.20221201_181200_TAI.3.continuum.fits', '/root/sunpy/data/hmi.ic_720s.20221201_182400_TAI.3.continuum.fits', '/root/sunpy/data/hmi.ic_720s.20221201_183600_TAI.3.continuum.fits', '/root/sunpy/data/hmi.ic_720s.20221201_184800_TAI.3.continuum.fits', '/root/sunpy/data/hmi.ic_720s.20221201_190000_TAI.3.continuum.fits', '/root/sunpy/data/hmi.ic_720s.20221201_191200_TAI.3.continuum.fits', '/root/sunpy/data/hmi.ic_720s.20221201_192400_TAI.3.continuum.fits', '/root/sunpy/data/hmi.ic_720s.20221201_193600_TAI.3.continuum.fits', '/root/sunpy/data/hmi.ic_720s.20221201_194800_TAI.3.continuum.fits', '/root/sunpy/data/hmi.ic_720s.20221201_200000_TAI.3.continuum.fits', '/root/sunpy/data/hmi.ic_720s.20221201_201200_TAI.3.continuum.fits', '/root/sunpy/data/hmi.ic_720s.20221201_202400_TAI.3.continuum.fits', '/root/sunpy/data/hmi.ic_720s.20221201_203600_TAI.3.continuum.fits', '/root/sunpy/data/hmi.ic_720s.20221201_204800_TAI.3.continuum.fits', '/root/sunpy/data/hmi.ic_720s.20221201_210000_TAI.3.continuum.fits', '/root/sunpy/data/hmi.ic_720s.20221201_211200_TAI.3.continuum.fits', '/root/sunpy/data/hmi.ic_720s.20221201_212400_TAI.3.continuum.fits', '/root/sunpy/data/hmi.ic_720s.20221201_213600_TAI.3.continuum.fits', '/root/sunpy/data/hmi.ic_720s.20221201_214800_TAI.3.continuum.fits', '/root/sunpy/data/hmi.ic_720s.20221201_220000_TAI.3.continuum.fits', '/root/sunpy/data/hmi.ic_720s.20221201_221200_TAI.3.continuum.fits', '/root/sunpy/data/hmi.ic_720s.20221201_222400_TAI.3.continuum.fits', '/root/sunpy/data/hmi.ic_720s.20221201_223600_TAI.3.continuum.fits', '/root/sunpy/data/hmi.ic_720s.20221201_224800_TAI.3.continuum.fits', '/root/sunpy/data/hmi.ic_720s.20221201_230000_TAI.3.continuum.fits', '/root/sunpy/data/hmi.ic_720s.20221201_231200_TAI.3.continuum.fits', '/root/sunpy/data/hmi.ic_720s.20221201_232400_TAI.3.continuum.fits', '/root/sunpy/data/hmi.ic_720s.20221201_233600_TAI.3.continuum.fits', '/root/sunpy/data/hmi.ic_720s.20221201_234800_TAI.3.continuum.fits', '/root/sunpy/data/hmi.ic_720s.20221202_000000_TAI.3.continuum.fits', '/root/sunpy/data/hmi.ic_720s.20221202_001200_TAI.3.continuum.fits', '/root/sunpy/data/hmi.ic_720s.20221202_002400_TAI.3.continuum.fits', '/root/sunpy/data/hmi.ic_720s.20221202_003600_TAI.3.continuum.fits', '/root/sunpy/data/hmi.ic_720s.20221202_004800_TAI.3.continuum.fits', '/root/sunpy/data/hmi.ic_720s.20221202_010000_TAI.3.continuum.fits', '/root/sunpy/data/hmi.ic_720s.20221202_011200_TAI.3.continuum.fits', '/root/sunpy/data/hmi.ic_720s.20221202_012400_TAI.3.continuum.fits', '/root/sunpy/data/hmi.ic_720s.20221202_013600_TAI.3.continuum.fits', '/root/sunpy/data/hmi.ic_720s.20221202_014800_TAI.3.continuum.fits', '/root/sunpy/data/hmi.ic_720s.20221202_020000_TAI.3.continuum.fits', '/root/sunpy/data/hmi.ic_720s.20221202_021200_TAI.3.continuum.fits', '/root/sunpy/data/hmi.ic_720s.20221202_022400_TAI.3.continuum.fits', '/root/sunpy/data/hmi.ic_720s.20221202_023600_TAI.3.continuum.fits', '/root/sunpy/data/hmi.ic_720s.20221202_024800_TAI.3.continuum.fits', '/root/sunpy/data/hmi.ic_720s.20221202_030000_TAI.3.continuum.fits', '/root/sunpy/data/hmi.ic_720s.20221202_031200_TAI.3.continuum.fits', '/root/sunpy/data/hmi.ic_720s.20221202_032400_TAI.3.continuum.fits', '/root/sunpy/data/hmi.ic_720s.20221202_033600_TAI.3.continuum.fits', '/root/sunpy/data/hmi.ic_720s.20221202_034800_TAI.3.continuum.fits', '/root/sunpy/data/hmi.ic_720s.20221202_040000_TAI.3.continuum.fits', '/root/sunpy/data/hmi.ic_720s.20221202_041200_TAI.3.continuum.fits', '/root/sunpy/data/hmi.ic_720s.20221202_042400_TAI.3.continuum.fits', '/root/sunpy/data/hmi.ic_720s.20221202_043600_TAI.3.continuum.fits', '/root/sunpy/data/hmi.ic_720s.20221202_044800_TAI.3.continuum.fits', '/root/sunpy/data/hmi.ic_720s.20221202_050000_TAI.3.continuum.fits', '/root/sunpy/data/hmi.ic_720s.20221202_051200_TAI.3.continuum.fits', '/root/sunpy/data/hmi.ic_720s.20221202_052400_TAI.3.continuum.fits', '/root/sunpy/data/hmi.ic_720s.20221202_053600_TAI.3.continuum.fits', '/root/sunpy/data/hmi.ic_720s.20221202_054800_TAI.3.continuum.fits', '/root/sunpy/data/hmi.ic_720s.20221202_060000_TAI.3.continuum.fits', '/root/sunpy/data/hmi.ic_720s.20221202_061200_TAI.3.continuum.fits', '/root/sunpy/data/hmi.ic_720s.20221202_062400_TAI.3.continuum.fits', '/root/sunpy/data/hmi.ic_720s.20221202_063600_TAI.3.continuum.fits', '/root/sunpy/data/hmi.ic_720s.20221202_064800_TAI.3.continuum.fits', '/root/sunpy/data/hmi.ic_720s.20221202_070000_TAI.3.continuum.fits', '/root/sunpy/data/hmi.ic_720s.20221202_071200_TAI.3.continuum.fits', '/root/sunpy/data/hmi.ic_720s.20221202_072400_TAI.3.continuum.fits', '/root/sunpy/data/hmi.ic_720s.20221202_073600_TAI.3.continuum.fits', '/root/sunpy/data/hmi.ic_720s.20221202_074800_TAI.3.continuum.fits', '/root/sunpy/data/hmi.ic_720s.20221202_080000_TAI.3.continuum.fits', '/root/sunpy/data/hmi.ic_720s.20221202_081200_TAI.3.continuum.fits', '/root/sunpy/data/hmi.ic_720s.20221202_082400_TAI.3.continuum.fits', '/root/sunpy/data/hmi.ic_720s.20221202_083600_TAI.3.continuum.fits', '/root/sunpy/data/hmi.ic_720s.20221202_084800_TAI.3.continuum.fits', '/root/sunpy/data/hmi.ic_720s.20221202_090000_TAI.3.continuum.fits', '/root/sunpy/data/hmi.ic_720s.20221202_091200_TAI.3.continuum.fits', '/root/sunpy/data/hmi.ic_720s.20221202_092400_TAI.3.continuum.fits', '/root/sunpy/data/hmi.ic_720s.20221202_093600_TAI.3.continuum.fits', '/root/sunpy/data/hmi.ic_720s.20221202_094800_TAI.3.continuum.fits', '/root/sunpy/data/hmi.ic_720s.20221202_100000_TAI.3.continuum.fits', '/root/sunpy/data/hmi.ic_720s.20221202_101200_TAI.3.continuum.fits', '/root/sunpy/data/hmi.ic_720s.20221202_102400_TAI.3.continuum.fits', '/root/sunpy/data/hmi.ic_720s.20221202_103600_TAI.3.continuum.fits', '/root/sunpy/data/hmi.ic_720s.20221202_104800_TAI.3.continuum.fits', '/root/sunpy/data/hmi.ic_720s.20221202_110000_TAI.3.continuum.fits', '/root/sunpy/data/hmi.ic_720s.20221202_111200_TAI.3.continuum.fits', '/root/sunpy/data/hmi.ic_720s.20221202_112400_TAI.3.continuum.fits', '/root/sunpy/data/hmi.ic_720s.20221202_113600_TAI.3.continuum.fits', '/root/sunpy/data/hmi.ic_720s.20221202_114800_TAI.3.continuum.fits', '/root/sunpy/data/hmi.ic_720s.20221202_120000_TAI.3.continuum.fits', '/root/sunpy/data/hmi.ic_720s.20221202_121200_TAI.3.continuum.fits', '/root/sunpy/data/hmi.ic_720s.20221202_122400_TAI.3.continuum.fits', '/root/sunpy/data/hmi.ic_720s.20221202_123600_TAI.3.continuum.fits', '/root/sunpy/data/hmi.ic_720s.20221202_124800_TAI.3.continuum.fits', '/root/sunpy/data/hmi.ic_720s.20221202_130000_TAI.3.continuum.fits', '/root/sunpy/data/hmi.ic_720s.20221202_131200_TAI.3.continuum.fits', '/root/sunpy/data/hmi.ic_720s.20221202_132400_TAI.3.continuum.fits', '/root/sunpy/data/hmi.ic_720s.20221202_133600_TAI.3.continuum.fits', '/root/sunpy/data/hmi.ic_720s.20221202_134800_TAI.3.continuum.fits', '/root/sunpy/data/hmi.ic_720s.20221202_140000_TAI.3.continuum.fits', '/root/sunpy/data/hmi.ic_720s.20221202_141200_TAI.3.continuum.fits', '/root/sunpy/data/hmi.ic_720s.20221202_142400_TAI.3.continuum.fits', '/root/sunpy/data/hmi.ic_720s.20221202_143600_TAI.3.continuum.fits', '/root/sunpy/data/hmi.ic_720s.20221202_144800_TAI.3.continuum.fits', '/root/sunpy/data/hmi.ic_720s.20221202_150000_TAI.3.continuum.fits', '/root/sunpy/data/hmi.ic_720s.20221202_151200_TAI.3.continuum.fits', '/root/sunpy/data/hmi.ic_720s.20221202_152400_TAI.3.continuum.fits', '/root/sunpy/data/hmi.ic_720s.20221202_153600_TAI.3.continuum.fits', '/root/sunpy/data/hmi.ic_720s.20221202_154800_TAI.3.continuum.fits', '/root/sunpy/data/hmi.ic_720s.20221202_160000_TAI.3.continuum.fits', '/root/sunpy/data/hmi.ic_720s.20221202_161200_TAI.3.continuum.fits', '/root/sunpy/data/hmi.ic_720s.20221202_162400_TAI.3.continuum.fits', '/root/sunpy/data/hmi.ic_720s.20221202_163600_TAI.3.continuum.fits', '/root/sunpy/data/hmi.ic_720s.20221202_164800_TAI.3.continuum.fits', '/root/sunpy/data/hmi.ic_720s.20221202_170000_TAI.3.continuum.fits', '/root/sunpy/data/hmi.ic_720s.20221202_171200_TAI.3.continuum.fits', '/root/sunpy/data/hmi.ic_720s.20221202_172400_TAI.3.continuum.fits', '/root/sunpy/data/hmi.ic_720s.20221202_173600_TAI.3.continuum.fits', '/root/sunpy/data/hmi.ic_720s.20221202_174800_TAI.3.continuum.fits', '/root/sunpy/data/hmi.ic_720s.20221202_180000_TAI.3.continuum.fits', '/root/sunpy/data/hmi.ic_720s.20221202_181200_TAI.3.continuum.fits', '/root/sunpy/data/hmi.ic_720s.20221202_182400_TAI.3.continuum.fits', '/root/sunpy/data/hmi.ic_720s.20221202_183600_TAI.3.continuum.fits', '/root/sunpy/data/hmi.ic_720s.20221202_184800_TAI.3.continuum.fits', '/root/sunpy/data/hmi.ic_720s.20221202_190000_TAI.3.continuum.fits', '/root/sunpy/data/hmi.ic_720s.20221202_191200_TAI.3.continuum.fits', '/root/sunpy/data/hmi.ic_720s.20221202_192400_TAI.3.continuum.fits', '/root/sunpy/data/hmi.ic_720s.20221202_193600_TAI.3.continuum.fits', '/root/sunpy/data/hmi.ic_720s.20221202_194800_TAI.3.continuum.fits', '/root/sunpy/data/hmi.ic_720s.20221202_200000_TAI.3.continuum.fits', '/root/sunpy/data/hmi.ic_720s.20221202_201200_TAI.3.continuum.fits', '/root/sunpy/data/hmi.ic_720s.20221202_202400_TAI.3.continuum.fits', '/root/sunpy/data/hmi.ic_720s.20221202_203600_TAI.3.continuum.fits', '/root/sunpy/data/hmi.ic_720s.20221202_204800_TAI.3.continuum.fits', '/root/sunpy/data/hmi.ic_720s.20221202_210000_TAI.3.continuum.fits', '/root/sunpy/data/hmi.ic_720s.20221202_211200_TAI.3.continuum.fits', '/root/sunpy/data/hmi.ic_720s.20221202_212400_TAI.3.continuum.fits', '/root/sunpy/data/hmi.ic_720s.20221202_213600_TAI.3.continuum.fits', '/root/sunpy/data/hmi.ic_720s.20221202_214800_TAI.3.continuum.fits', '/root/sunpy/data/hmi.ic_720s.20221202_220000_TAI.3.continuum.fits', '/root/sunpy/data/hmi.ic_720s.20221202_221200_TAI.3.continuum.fits', '/root/sunpy/data/hmi.ic_720s.20221202_222400_TAI.3.continuum.fits', '/root/sunpy/data/hmi.ic_720s.20221202_223600_TAI.3.continuum.fits', '/root/sunpy/data/hmi.ic_720s.20221202_224800_TAI.3.continuum.fits', '/root/sunpy/data/hmi.ic_720s.20221202_230000_TAI.3.continuum.fits', '/root/sunpy/data/hmi.ic_720s.20221202_231200_TAI.3.continuum.fits', '/root/sunpy/data/hmi.ic_720s.20221202_232400_TAI.3.continuum.fits', '/root/sunpy/data/hmi.ic_720s.20221202_233600_TAI.3.continuum.fits', '/root/sunpy/data/hmi.ic_720s.20221202_234800_TAI.3.continuum.fits', '/root/sunpy/data/hmi.ic_720s.20221203_000000_TAI.3.continuum.fits', '/root/sunpy/data/hmi.ic_720s.20221203_001200_TAI.3.continuum.fits', '/root/sunpy/data/hmi.ic_720s.20221203_002400_TAI.3.continuum.fits', '/root/sunpy/data/hmi.ic_720s.20221203_003600_TAI.3.continuum.fits', '/root/sunpy/data/hmi.ic_720s.20221203_004800_TAI.3.continuum.fits', '/root/sunpy/data/hmi.ic_720s.20221203_010000_TAI.3.continuum.fits', '/root/sunpy/data/hmi.ic_720s.20221203_011200_TAI.3.continuum.fits', '/root/sunpy/data/hmi.ic_720s.20221203_012400_TAI.3.continuum.fits', '/root/sunpy/data/hmi.ic_720s.20221203_013600_TAI.3.continuum.fits', '/root/sunpy/data/hmi.ic_720s.20221203_014800_TAI.3.continuum.fits', '/root/sunpy/data/hmi.ic_720s.20221203_020000_TAI.3.continuum.fits', '/root/sunpy/data/hmi.ic_720s.20221203_021200_TAI.3.continuum.fits', '/root/sunpy/data/hmi.ic_720s.20221203_022400_TAI.3.continuum.fits', '/root/sunpy/data/hmi.ic_720s.20221203_023600_TAI.3.continuum.fits', '/root/sunpy/data/hmi.ic_720s.20221203_024800_TAI.3.continuum.fits', '/root/sunpy/data/hmi.ic_720s.20221203_030000_TAI.3.continuum.fits', '/root/sunpy/data/hmi.ic_720s.20221203_031200_TAI.3.continuum.fits', '/root/sunpy/data/hmi.ic_720s.20221203_032400_TAI.3.continuum.fits', '/root/sunpy/data/hmi.ic_720s.20221203_033600_TAI.3.continuum.fits', '/root/sunpy/data/hmi.ic_720s.20221203_034800_TAI.3.continuum.fits', '/root/sunpy/data/hmi.ic_720s.20221203_040000_TAI.3.continuum.fits', '/root/sunpy/data/hmi.ic_720s.20221203_041200_TAI.3.continuum.fits', '/root/sunpy/data/hmi.ic_720s.20221203_042400_TAI.3.continuum.fits', '/root/sunpy/data/hmi.ic_720s.20221203_043600_TAI.3.continuum.fits', '/root/sunpy/data/hmi.ic_720s.20221203_044800_TAI.3.continuum.fits', '/root/sunpy/data/hmi.ic_720s.20221203_050000_TAI.3.continuum.fits', '/root/sunpy/data/hmi.ic_720s.20221203_051200_TAI.3.continuum.fits', '/root/sunpy/data/hmi.ic_720s.20221203_052400_TAI.3.continuum.fits', '/root/sunpy/data/hmi.ic_720s.20221203_053600_TAI.3.continuum.fits', '/root/sunpy/data/hmi.ic_720s.20221203_054800_TAI.3.continuum.fits', '/root/sunpy/data/hmi.ic_720s.20221203_060000_TAI.3.continuum.fits', '/root/sunpy/data/hmi.ic_720s.20221203_061200_TAI.3.continuum.fits', '/root/sunpy/data/hmi.ic_720s.20221203_062400_TAI.3.continuum.fits', '/root/sunpy/data/hmi.ic_720s.20221203_063600_TAI.3.continuum.fits', '/root/sunpy/data/hmi.ic_720s.20221203_064800_TAI.3.continuum.fits', '/root/sunpy/data/hmi.ic_720s.20221203_070000_TAI.3.continuum.fits', '/root/sunpy/data/hmi.ic_720s.20221203_071200_TAI.3.continuum.fits', '/root/sunpy/data/hmi.ic_720s.20221203_072400_TAI.3.continuum.fits', '/root/sunpy/data/hmi.ic_720s.20221203_073600_TAI.3.continuum.fits', '/root/sunpy/data/hmi.ic_720s.20221203_074800_TAI.3.continuum.fits', '/root/sunpy/data/hmi.ic_720s.20221203_080000_TAI.3.continuum.fits', '/root/sunpy/data/hmi.ic_720s.20221203_081200_TAI.3.continuum.fits', '/root/sunpy/data/hmi.ic_720s.20221203_082400_TAI.3.continuum.fits', '/root/sunpy/data/hmi.ic_720s.20221203_083600_TAI.3.continuum.fits', '/root/sunpy/data/hmi.ic_720s.20221203_084800_TAI.3.continuum.fits', '/root/sunpy/data/hmi.ic_720s.20221203_090000_TAI.3.continuum.fits', '/root/sunpy/data/hmi.ic_720s.20221203_091200_TAI.3.continuum.fits', '/root/sunpy/data/hmi.ic_720s.20221203_092400_TAI.3.continuum.fits', '/root/sunpy/data/hmi.ic_720s.20221203_093600_TAI.3.continuum.fits', '/root/sunpy/data/hmi.ic_720s.20221203_094800_TAI.3.continuum.fits', '/root/sunpy/data/hmi.ic_720s.20221203_100000_TAI.3.continuum.fits', '/root/sunpy/data/hmi.ic_720s.20221203_101200_TAI.3.continuum.fits', '/root/sunpy/data/hmi.ic_720s.20221203_102400_TAI.3.continuum.fits', '/root/sunpy/data/hmi.ic_720s.20221203_103600_TAI.3.continuum.fits', '/root/sunpy/data/hmi.ic_720s.20221203_104800_TAI.3.continuum.fits', '/root/sunpy/data/hmi.ic_720s.20221203_110000_TAI.3.continuum.fits', '/root/sunpy/data/hmi.ic_720s.20221203_111200_TAI.3.continuum.fits', '/root/sunpy/data/hmi.ic_720s.20221203_112400_TAI.3.continuum.fits', '/root/sunpy/data/hmi.ic_720s.20221203_113600_TAI.3.continuum.fits', '/root/sunpy/data/hmi.ic_720s.20221203_114800_TAI.3.continuum.fits', '/root/sunpy/data/hmi.ic_720s.20221203_120000_TAI.3.continuum.fits', '/root/sunpy/data/hmi.ic_720s.20221203_121200_TAI.3.continuum.fits', '/root/sunpy/data/hmi.ic_720s.20221203_122400_TAI.3.continuum.fits', '/root/sunpy/data/hmi.ic_720s.20221203_123600_TAI.3.continuum.fits', '/root/sunpy/data/hmi.ic_720s.20221203_124800_TAI.3.continuum.fits', '/root/sunpy/data/hmi.ic_720s.20221203_130000_TAI.3.continuum.fits', '/root/sunpy/data/hmi.ic_720s.20221203_131200_TAI.3.continuum.fits', '/root/sunpy/data/hmi.ic_720s.20221203_132400_TAI.3.continuum.fits', '/root/sunpy/data/hmi.ic_720s.20221203_133600_TAI.3.continuum.fits', '/root/sunpy/data/hmi.ic_720s.20221203_134800_TAI.3.continuum.fits', '/root/sunpy/data/hmi.ic_720s.20221203_140000_TAI.3.continuum.fits', '/root/sunpy/data/hmi.ic_720s.20221203_141200_TAI.3.continuum.fits', '/root/sunpy/data/hmi.ic_720s.20221203_142400_TAI.3.continuum.fits', '/root/sunpy/data/hmi.ic_720s.20221203_143600_TAI.3.continuum.fits', '/root/sunpy/data/hmi.ic_720s.20221203_144800_TAI.3.continuum.fits', '/root/sunpy/data/hmi.ic_720s.20221203_150000_TAI.3.continuum.fits', '/root/sunpy/data/hmi.ic_720s.20221203_151200_TAI.3.continuum.fits', '/root/sunpy/data/hmi.ic_720s.20221203_152400_TAI.3.continuum.fits', '/root/sunpy/data/hmi.ic_720s.20221203_153600_TAI.3.continuum.fits', '/root/sunpy/data/hmi.ic_720s.20221203_154800_TAI.3.continuum.fits', '/root/sunpy/data/hmi.ic_720s.20221203_160000_TAI.3.continuum.fits', '/root/sunpy/data/hmi.ic_720s.20221203_161200_TAI.3.continuum.fits', '/root/sunpy/data/hmi.ic_720s.20221203_162400_TAI.3.continuum.fits', '/root/sunpy/data/hmi.ic_720s.20221203_163600_TAI.3.continuum.fits', '/root/sunpy/data/hmi.ic_720s.20221203_164800_TAI.3.continuum.fits', '/root/sunpy/data/hmi.ic_720s.20221203_170000_TAI.3.continuum.fits', '/root/sunpy/data/hmi.ic_720s.20221203_171200_TAI.3.continuum.fits', '/root/sunpy/data/hmi.ic_720s.20221203_172400_TAI.3.continuum.fits', '/root/sunpy/data/hmi.ic_720s.20221203_173600_TAI.3.continuum.fits', '/root/sunpy/data/hmi.ic_720s.20221203_174800_TAI.3.continuum.fits', '/root/sunpy/data/hmi.ic_720s.20221203_180000_TAI.3.continuum.fits', '/root/sunpy/data/hmi.ic_720s.20221203_181200_TAI.3.continuum.fits', '/root/sunpy/data/hmi.ic_720s.20221203_182400_TAI.3.continuum.fits', '/root/sunpy/data/hmi.ic_720s.20221203_183600_TAI.3.continuum.fits', '/root/sunpy/data/hmi.ic_720s.20221203_184800_TAI.3.continuum.fits', '/root/sunpy/data/hmi.ic_720s.20221203_190000_TAI.3.continuum.fits', '/root/sunpy/data/hmi.ic_720s.20221203_191200_TAI.3.continuum.fits', '/root/sunpy/data/hmi.ic_720s.20221203_192400_TAI.3.continuum.fits', '/root/sunpy/data/hmi.ic_720s.20221203_193600_TAI.3.continuum.fits', '/root/sunpy/data/hmi.ic_720s.20221203_194800_TAI.3.continuum.fits', '/root/sunpy/data/hmi.ic_720s.20221203_200000_TAI.3.continuum.fits', '/root/sunpy/data/hmi.ic_720s.20221203_201200_TAI.3.continuum.fits', '/root/sunpy/data/hmi.ic_720s.20221203_202400_TAI.3.continuum.fits', '/root/sunpy/data/hmi.ic_720s.20221203_203600_TAI.3.continuum.fits', '/root/sunpy/data/hmi.ic_720s.20221203_204800_TAI.3.continuum.fits', '/root/sunpy/data/hmi.ic_720s.20221203_210000_TAI.3.continuum.fits', '/root/sunpy/data/hmi.ic_720s.20221203_211200_TAI.3.continuum.fits', '/root/sunpy/data/hmi.ic_720s.20221203_212400_TAI.3.continuum.fits', '/root/sunpy/data/hmi.ic_720s.20221203_213600_TAI.3.continuum.fits', '/root/sunpy/data/hmi.ic_720s.20221203_214800_TAI.3.continuum.fits', '/root/sunpy/data/hmi.ic_720s.20221203_220000_TAI.3.continuum.fits', '/root/sunpy/data/hmi.ic_720s.20221203_221200_TAI.3.continuum.fits', '/root/sunpy/data/hmi.ic_720s.20221203_222400_TAI.3.continuum.fits', '/root/sunpy/data/hmi.ic_720s.20221203_223600_TAI.3.continuum.fits', '/root/sunpy/data/hmi.ic_720s.20221203_224800_TAI.3.continuum.fits', '/root/sunpy/data/hmi.ic_720s.20221203_230000_TAI.3.continuum.fits', '/root/sunpy/data/hmi.ic_720s.20221203_231200_TAI.3.continuum.fits', '/root/sunpy/data/hmi.ic_720s.20221203_232400_TAI.3.continuum.fits', '/root/sunpy/data/hmi.ic_720s.20221203_233600_TAI.3.continuum.fits', '/root/sunpy/data/hmi.ic_720s.20221203_234800_TAI.3.continuum.fits', '/root/sunpy/data/hmi.ic_720s.20221204_000000_TAI.3.continuum.fits', '/root/sunpy/data/hmi.ic_720s.20221204_001200_TAI.3.continuum.fits', '/root/sunpy/data/hmi.ic_720s.20221204_002400_TAI.3.continuum.fits', '/root/sunpy/data/hmi.ic_720s.20221204_003600_TAI.3.continuum.fits', '/root/sunpy/data/hmi.ic_720s.20221204_004800_TAI.3.continuum.fits', '/root/sunpy/data/hmi.ic_720s.20221204_010000_TAI.3.continuum.fits', '/root/sunpy/data/hmi.ic_720s.20221204_011200_TAI.3.continuum.fits', '/root/sunpy/data/hmi.ic_720s.20221204_012400_TAI.3.continuum.fits', '/root/sunpy/data/hmi.ic_720s.20221204_013600_TAI.3.continuum.fits', '/root/sunpy/data/hmi.ic_720s.20221204_014800_TAI.3.continuum.fits', '/root/sunpy/data/hmi.ic_720s.20221204_020000_TAI.3.continuum.fits', '/root/sunpy/data/hmi.ic_720s.20221204_021200_TAI.3.continuum.fits', '/root/sunpy/data/hmi.ic_720s.20221204_022400_TAI.3.continuum.fits', '/root/sunpy/data/hmi.ic_720s.20221204_023600_TAI.3.continuum.fits', '/root/sunpy/data/hmi.ic_720s.20221204_024800_TAI.3.continuum.fits', '/root/sunpy/data/hmi.ic_720s.20221204_030000_TAI.3.continuum.fits', '/root/sunpy/data/hmi.ic_720s.20221204_031200_TAI.3.continuum.fits', '/root/sunpy/data/hmi.ic_720s.20221204_032400_TAI.3.continuum.fits', '/root/sunpy/data/hmi.ic_720s.20221204_033600_TAI.3.continuum.fits', '/root/sunpy/data/hmi.ic_720s.20221204_034800_TAI.3.continuum.fits', '/root/sunpy/data/hmi.ic_720s.20221204_040000_TAI.3.continuum.fits', '/root/sunpy/data/hmi.ic_720s.20221204_041200_TAI.3.continuum.fits', '/root/sunpy/data/hmi.ic_720s.20221204_042400_TAI.3.continuum.fits', '/root/sunpy/data/hmi.ic_720s.20221204_043600_TAI.3.continuum.fits', '/root/sunpy/data/hmi.ic_720s.20221204_044800_TAI.3.continuum.fits', '/root/sunpy/data/hmi.ic_720s.20221204_050000_TAI.3.continuum.fits', '/root/sunpy/data/hmi.ic_720s.20221204_051200_TAI.3.continuum.fits', '/root/sunpy/data/hmi.ic_720s.20221204_052400_TAI.3.continuum.fits', '/root/sunpy/data/hmi.ic_720s.20221204_053600_TAI.3.continuum.fits', '/root/sunpy/data/hmi.ic_720s.20221204_054800_TAI.3.continuum.fits', '/root/sunpy/data/hmi.ic_720s.20221204_060000_TAI.3.continuum.fits', '/root/sunpy/data/hmi.ic_720s.20221204_061200_TAI.3.continuum.fits', '/root/sunpy/data/hmi.ic_720s.20221204_062400_TAI.3.continuum.fits', '/root/sunpy/data/hmi.ic_720s.20221204_063600_TAI.3.continuum.fits', '/root/sunpy/data/hmi.ic_720s.20221204_064800_TAI.3.continuum.fits', '/root/sunpy/data/hmi.ic_720s.20221204_070000_TAI.3.continuum.fits', '/root/sunpy/data/hmi.ic_720s.20221204_071200_TAI.3.continuum.fits', '/root/sunpy/data/hmi.ic_720s.20221204_072400_TAI.3.continuum.fits', '/root/sunpy/data/hmi.ic_720s.20221204_073600_TAI.3.continuum.fits', '/root/sunpy/data/hmi.ic_720s.20221204_074800_TAI.3.continuum.fits', '/root/sunpy/data/hmi.ic_720s.20221204_080000_TAI.3.continuum.fits', '/root/sunpy/data/hmi.ic_720s.20221204_081200_TAI.3.continuum.fits', '/root/sunpy/data/hmi.ic_720s.20221204_082400_TAI.3.continuum.fits', '/root/sunpy/data/hmi.ic_720s.20221204_083600_TAI.3.continuum.fits', '/root/sunpy/data/hmi.ic_720s.20221204_084800_TAI.3.continuum.fits', '/root/sunpy/data/hmi.ic_720s.20221204_090000_TAI.3.continuum.fits', '/root/sunpy/data/hmi.ic_720s.20221204_091200_TAI.3.continuum.fits', '/root/sunpy/data/hmi.ic_720s.20221204_092400_TAI.3.continuum.fits', '/root/sunpy/data/hmi.ic_720s.20221204_093600_TAI.3.continuum.fits', '/root/sunpy/data/hmi.ic_720s.20221204_094800_TAI.3.continuum.fits', '/root/sunpy/data/hmi.ic_720s.20221204_100000_TAI.3.continuum.fits', '/root/sunpy/data/hmi.ic_720s.20221204_101200_TAI.3.continuum.fits', '/root/sunpy/data/hmi.ic_720s.20221204_102400_TAI.3.continuum.fits', '/root/sunpy/data/hmi.ic_720s.20221204_103600_TAI.3.continuum.fits', '/root/sunpy/data/hmi.ic_720s.20221204_104800_TAI.3.continuum.fits', '/root/sunpy/data/hmi.ic_720s.20221204_110000_TAI.3.continuum.fits', '/root/sunpy/data/hmi.ic_720s.20221204_111200_TAI.3.continuum.fits', '/root/sunpy/data/hmi.ic_720s.20221204_112400_TAI.3.continuum.fits', '/root/sunpy/data/hmi.ic_720s.20221204_113600_TAI.3.continuum.fits', '/root/sunpy/data/hmi.ic_720s.20221204_114800_TAI.3.continuum.fits', '/root/sunpy/data/hmi.ic_720s.20221204_120000_TAI.3.continuum.fits', '/root/sunpy/data/hmi.ic_720s.20221204_121200_TAI.3.continuum.fits', '/root/sunpy/data/hmi.ic_720s.20221204_122400_TAI.3.continuum.fits', '/root/sunpy/data/hmi.ic_720s.20221204_123600_TAI.3.continuum.fits', '/root/sunpy/data/hmi.ic_720s.20221204_124800_TAI.3.continuum.fits', '/root/sunpy/data/hmi.ic_720s.20221204_130000_TAI.3.continuum.fits', '/root/sunpy/data/hmi.ic_720s.20221204_131200_TAI.3.continuum.fits', '/root/sunpy/data/hmi.ic_720s.20221204_132400_TAI.3.continuum.fits', '/root/sunpy/data/hmi.ic_720s.20221204_133600_TAI.3.continuum.fits', '/root/sunpy/data/hmi.ic_720s.20221204_134800_TAI.3.continuum.fits', '/root/sunpy/data/hmi.ic_720s.20221204_140000_TAI.3.continuum.fits', '/root/sunpy/data/hmi.ic_720s.20221204_141200_TAI.3.continuum.fits', '/root/sunpy/data/hmi.ic_720s.20221204_142400_TAI.3.continuum.fits', '/root/sunpy/data/hmi.ic_720s.20221204_143600_TAI.3.continuum.fits', '/root/sunpy/data/hmi.ic_720s.20221204_144800_TAI.3.continuum.fits', '/root/sunpy/data/hmi.ic_720s.20221204_150000_TAI.3.continuum.fits', '/root/sunpy/data/hmi.ic_720s.20221204_151200_TAI.3.continuum.fits', '/root/sunpy/data/hmi.ic_720s.20221204_152400_TAI.3.continuum.fits', '/root/sunpy/data/hmi.ic_720s.20221204_153600_TAI.3.continuum.fits', '/root/sunpy/data/hmi.ic_720s.20221204_154800_TAI.3.continuum.fits', '/root/sunpy/data/hmi.ic_720s.20221204_160000_TAI.3.continuum.fits', '/root/sunpy/data/hmi.ic_720s.20221204_161200_TAI.3.continuum.fits', '/root/sunpy/data/hmi.ic_720s.20221204_162400_TAI.3.continuum.fits', '/root/sunpy/data/hmi.ic_720s.20221204_163600_TAI.3.continuum.fits', '/root/sunpy/data/hmi.ic_720s.20221204_164800_TAI.3.continuum.fits', '/root/sunpy/data/hmi.ic_720s.20221204_170000_TAI.3.continuum.fits', '/root/sunpy/data/hmi.ic_720s.20221204_171200_TAI.3.continuum.fits', '/root/sunpy/data/hmi.ic_720s.20221204_172400_TAI.3.continuum.fits', '/root/sunpy/data/hmi.ic_720s.20221204_173600_TAI.3.continuum.fits', '/root/sunpy/data/hmi.ic_720s.20221204_174800_TAI.3.continuum.fits', '/root/sunpy/data/hmi.ic_720s.20221204_180000_TAI.3.continuum.fits', '/root/sunpy/data/hmi.ic_720s.20221204_181200_TAI.3.continuum.fits', '/root/sunpy/data/hmi.ic_720s.20221204_182400_TAI.3.continuum.fits', '/root/sunpy/data/hmi.ic_720s.20221204_183600_TAI.3.continuum.fits', '/root/sunpy/data/hmi.ic_720s.20221204_184800_TAI.3.continuum.fits', '/root/sunpy/data/hmi.ic_720s.20221204_190000_TAI.3.continuum.fits', '/root/sunpy/data/hmi.ic_720s.20221204_191200_TAI.3.continuum.fits', '/root/sunpy/data/hmi.ic_720s.20221204_192400_TAI.3.continuum.fits', '/root/sunpy/data/hmi.ic_720s.20221204_193600_TAI.3.continuum.fits', '/root/sunpy/data/hmi.ic_720s.20221204_194800_TAI.3.continuum.fits', '/root/sunpy/data/hmi.ic_720s.20221204_200000_TAI.3.continuum.fits', '/root/sunpy/data/hmi.ic_720s.20221204_201200_TAI.3.continuum.fits', '/root/sunpy/data/hmi.ic_720s.20221204_202400_TAI.3.continuum.fits', '/root/sunpy/data/hmi.ic_720s.20221204_203600_TAI.3.continuum.fits', '/root/sunpy/data/hmi.ic_720s.20221204_204800_TAI.3.continuum.fits', '/root/sunpy/data/hmi.ic_720s.20221204_210000_TAI.3.continuum.fits', '/root/sunpy/data/hmi.ic_720s.20221204_211200_TAI.3.continuum.fits', '/root/sunpy/data/hmi.ic_720s.20221204_212400_TAI.3.continuum.fits', '/root/sunpy/data/hmi.ic_720s.20221204_213600_TAI.3.continuum.fits', '/root/sunpy/data/hmi.ic_720s.20221204_214800_TAI.3.continuum.fits', '/root/sunpy/data/hmi.ic_720s.20221204_220000_TAI.3.continuum.fits', '/root/sunpy/data/hmi.ic_720s.20221204_221200_TAI.3.continuum.fits', '/root/sunpy/data/hmi.ic_720s.20221204_222400_TAI.3.continuum.fits', '/root/sunpy/data/hmi.ic_720s.20221204_223600_TAI.3.continuum.fits', '/root/sunpy/data/hmi.ic_720s.20221204_224800_TAI.3.continuum.fits', '/root/sunpy/data/hmi.ic_720s.20221204_230000_TAI.3.continuum.fits', '/root/sunpy/data/hmi.ic_720s.20221204_231200_TAI.3.continuum.fits', '/root/sunpy/data/hmi.ic_720s.20221204_232400_TAI.3.continuum.fits', '/root/sunpy/data/hmi.ic_720s.20221204_233600_TAI.3.continuum.fits', '/root/sunpy/data/hmi.ic_720s.20221204_234800_TAI.3.continuum.fits', '/root/sunpy/data/hmi.ic_720s.20221205_000000_TAI.3.continuum.fits', '/root/sunpy/data/hmi.ic_720s.20221205_001200_TAI.3.continuum.fits', '/root/sunpy/data/hmi.ic_720s.20221205_002400_TAI.3.continuum.fits', '/root/sunpy/data/hmi.ic_720s.20221205_003600_TAI.3.continuum.fits', '/root/sunpy/data/hmi.ic_720s.20221205_004800_TAI.3.continuum.fits', '/root/sunpy/data/hmi.ic_720s.20221205_010000_TAI.3.continuum.fits', '/root/sunpy/data/hmi.ic_720s.20221205_011200_TAI.3.continuum.fits', '/root/sunpy/data/hmi.ic_720s.20221205_012400_TAI.3.continuum.fits', '/root/sunpy/data/hmi.ic_720s.20221205_013600_TAI.3.continuum.fits', '/root/sunpy/data/hmi.ic_720s.20221205_014800_TAI.3.continuum.fits', '/root/sunpy/data/hmi.ic_720s.20221205_020000_TAI.3.continuum.fits', '/root/sunpy/data/hmi.ic_720s.20221205_021200_TAI.3.continuum.fits', '/root/sunpy/data/hmi.ic_720s.20221205_022400_TAI.3.continuum.fits', '/root/sunpy/data/hmi.ic_720s.20221205_023600_TAI.3.continuum.fits', '/root/sunpy/data/hmi.ic_720s.20221205_024800_TAI.3.continuum.fits', '/root/sunpy/data/hmi.ic_720s.20221205_030000_TAI.3.continuum.fits', '/root/sunpy/data/hmi.ic_720s.20221205_031200_TAI.3.continuum.fits', '/root/sunpy/data/hmi.ic_720s.20221205_032400_TAI.3.continuum.fits', '/root/sunpy/data/hmi.ic_720s.20221205_033600_TAI.3.continuum.fits', '/root/sunpy/data/hmi.ic_720s.20221205_034800_TAI.3.continuum.fits', '/root/sunpy/data/hmi.ic_720s.20221205_040000_TAI.3.continuum.fits', '/root/sunpy/data/hmi.ic_720s.20221205_041200_TAI.3.continuum.fits', '/root/sunpy/data/hmi.ic_720s.20221205_042400_TAI.3.continuum.fits', '/root/sunpy/data/hmi.ic_720s.20221205_043600_TAI.3.continuum.fits', '/root/sunpy/data/hmi.ic_720s.20221205_044800_TAI.3.continuum.fits', '/root/sunpy/data/hmi.ic_720s.20221205_050000_TAI.3.continuum.fits', '/root/sunpy/data/hmi.ic_720s.20221205_051200_TAI.3.continuum.fits', '/root/sunpy/data/hmi.ic_720s.20221205_052400_TAI.3.continuum.fits', '/root/sunpy/data/hmi.ic_720s.20221205_053600_TAI.3.continuum.fits', '/root/sunpy/data/hmi.ic_720s.20221205_054800_TAI.3.continuum.fits', '/root/sunpy/data/hmi.ic_720s.20221205_060000_TAI.3.continuum.fits', '/root/sunpy/data/hmi.ic_720s.20221205_061200_TAI.3.continuum.fits', '/root/sunpy/data/hmi.ic_720s.20221205_062400_TAI.3.continuum.fits', '/root/sunpy/data/hmi.ic_720s.20221205_063600_TAI.3.continuum.fits', '/root/sunpy/data/hmi.ic_720s.20221205_064800_TAI.3.continuum.fits', '/root/sunpy/data/hmi.ic_720s.20221205_070000_TAI.3.continuum.fits', '/root/sunpy/data/hmi.ic_720s.20221205_071200_TAI.3.continuum.fits', '/root/sunpy/data/hmi.ic_720s.20221205_072400_TAI.3.continuum.fits', '/root/sunpy/data/hmi.ic_720s.20221205_073600_TAI.3.continuum.fits', '/root/sunpy/data/hmi.ic_720s.20221205_074800_TAI.3.continuum.fits', '/root/sunpy/data/hmi.ic_720s.20221205_080000_TAI.3.continuum.fits', '/root/sunpy/data/hmi.ic_720s.20221205_081200_TAI.3.continuum.fits', '/root/sunpy/data/hmi.ic_720s.20221205_082400_TAI.3.continuum.fits', '/root/sunpy/data/hmi.ic_720s.20221205_083600_TAI.3.continuum.fits', '/root/sunpy/data/hmi.ic_720s.20221205_084800_TAI.3.continuum.fits', '/root/sunpy/data/hmi.ic_720s.20221205_090000_TAI.3.continuum.fits', '/root/sunpy/data/hmi.ic_720s.20221205_091200_TAI.3.continuum.fits', '/root/sunpy/data/hmi.ic_720s.20221205_092400_TAI.3.continuum.fits', '/root/sunpy/data/hmi.ic_720s.20221205_093600_TAI.3.continuum.fits', '/root/sunpy/data/hmi.ic_720s.20221205_094800_TAI.3.continuum.fits', '/root/sunpy/data/hmi.ic_720s.20221205_100000_TAI.3.continuum.fits', '/root/sunpy/data/hmi.ic_720s.20221205_101200_TAI.3.continuum.fits', '/root/sunpy/data/hmi.ic_720s.20221205_102400_TAI.3.continuum.fits', '/root/sunpy/data/hmi.ic_720s.20221205_103600_TAI.3.continuum.fits', '/root/sunpy/data/hmi.ic_720s.20221205_104800_TAI.3.continuum.fits', '/root/sunpy/data/hmi.ic_720s.20221205_110000_TAI.3.continuum.fits', '/root/sunpy/data/hmi.ic_720s.20221205_111200_TAI.3.continuum.fits', '/root/sunpy/data/hmi.ic_720s.20221205_112400_TAI.3.continuum.fits', '/root/sunpy/data/hmi.ic_720s.20221205_113600_TAI.3.continuum.fits', '/root/sunpy/data/hmi.ic_720s.20221205_114800_TAI.3.continuum.fits', '/root/sunpy/data/hmi.ic_720s.20221205_120000_TAI.3.continuum.fits', '/root/sunpy/data/hmi.ic_720s.20221205_121200_TAI.3.continuum.fits', '/root/sunpy/data/hmi.ic_720s.20221205_122400_TAI.3.continuum.fits', '/root/sunpy/data/hmi.ic_720s.20221205_123600_TAI.3.continuum.fits', '/root/sunpy/data/hmi.ic_720s.20221205_124800_TAI.3.continuum.fits', '/root/sunpy/data/hmi.ic_720s.20221205_130000_TAI.3.continuum.fits', '/root/sunpy/data/hmi.ic_720s.20221205_131200_TAI.3.continuum.fits', '/root/sunpy/data/hmi.ic_720s.20221205_132400_TAI.3.continuum.fits', '/root/sunpy/data/hmi.ic_720s.20221205_133600_TAI.3.continuum.fits', '/root/sunpy/data/hmi.ic_720s.20221205_134800_TAI.3.continuum.fits', '/root/sunpy/data/hmi.ic_720s.20221205_140000_TAI.3.continuum.fits', '/root/sunpy/data/hmi.ic_720s.20221205_141200_TAI.3.continuum.fits', '/root/sunpy/data/hmi.ic_720s.20221205_142400_TAI.3.continuum.fits', '/root/sunpy/data/hmi.ic_720s.20221205_143600_TAI.3.continuum.fits', '/root/sunpy/data/hmi.ic_720s.20221205_144800_TAI.3.continuum.fits', '/root/sunpy/data/hmi.ic_720s.20221205_150000_TAI.3.continuum.fits', '/root/sunpy/data/hmi.ic_720s.20221205_151200_TAI.3.continuum.fits', '/root/sunpy/data/hmi.ic_720s.20221205_152400_TAI.3.continuum.fits', '/root/sunpy/data/hmi.ic_720s.20221205_153600_TAI.3.continuum.fits', '/root/sunpy/data/hmi.ic_720s.20221205_154800_TAI.3.continuum.fits', '/root/sunpy/data/hmi.ic_720s.20221205_160000_TAI.3.continuum.fits', '/root/sunpy/data/hmi.ic_720s.20221205_161200_TAI.3.continuum.fits', '/root/sunpy/data/hmi.ic_720s.20221205_162400_TAI.3.continuum.fits', '/root/sunpy/data/hmi.ic_720s.20221205_163600_TAI.3.continuum.fits', '/root/sunpy/data/hmi.ic_720s.20221205_164800_TAI.3.continuum.fits', '/root/sunpy/data/hmi.ic_720s.20221205_170000_TAI.3.continuum.fits', '/root/sunpy/data/hmi.ic_720s.20221205_171200_TAI.3.continuum.fits', '/root/sunpy/data/hmi.ic_720s.20221205_172400_TAI.3.continuum.fits', '/root/sunpy/data/hmi.ic_720s.20221205_173600_TAI.3.continuum.fits', '/root/sunpy/data/hmi.ic_720s.20221205_174800_TAI.3.continuum.fits', '/root/sunpy/data/hmi.ic_720s.20221205_180000_TAI.3.continuum.fits', '/root/sunpy/data/hmi.ic_720s.20221205_181200_TAI.3.continuum.fits', '/root/sunpy/data/hmi.ic_720s.20221205_182400_TAI.3.continuum.fits', '/root/sunpy/data/hmi.ic_720s.20221205_183600_TAI.3.continuum.fits', '/root/sunpy/data/hmi.ic_720s.20221205_184800_TAI.3.continuum.fits', '/root/sunpy/data/hmi.ic_720s.20221205_190000_TAI.3.continuum.fits', '/root/sunpy/data/hmi.ic_720s.20221205_191200_TAI.3.continuum.fits', '/root/sunpy/data/hmi.ic_720s.20221205_192400_TAI.3.continuum.fits', '/root/sunpy/data/hmi.ic_720s.20221205_193600_TAI.3.continuum.fits', '/root/sunpy/data/hmi.ic_720s.20221205_194800_TAI.3.continuum.fits', '/root/sunpy/data/hmi.ic_720s.20221205_200000_TAI.3.continuum.fits', '/root/sunpy/data/hmi.ic_720s.20221205_201200_TAI.3.continuum.fits', '/root/sunpy/data/hmi.ic_720s.20221205_202400_TAI.3.continuum.fits', '/root/sunpy/data/hmi.ic_720s.20221205_203600_TAI.3.continuum.fits', '/root/sunpy/data/hmi.ic_720s.20221205_204800_TAI.3.continuum.fits', '/root/sunpy/data/hmi.ic_720s.20221205_210000_TAI.3.continuum.fits', '/root/sunpy/data/hmi.ic_720s.20221205_211200_TAI.3.continuum.fits', '/root/sunpy/data/hmi.ic_720s.20221205_212400_TAI.3.continuum.fits', '/root/sunpy/data/hmi.ic_720s.20221205_213600_TAI.3.continuum.fits', '/root/sunpy/data/hmi.ic_720s.20221205_214800_TAI.3.continuum.fits', '/root/sunpy/data/hmi.ic_720s.20221205_220000_TAI.3.continuum.fits', '/root/sunpy/data/hmi.ic_720s.20221205_221200_TAI.3.continuum.fits', '/root/sunpy/data/hmi.ic_720s.20221205_222400_TAI.3.continuum.fits', '/root/sunpy/data/hmi.ic_720s.20221205_223600_TAI.3.continuum.fits', '/root/sunpy/data/hmi.ic_720s.20221205_224800_TAI.3.continuum.fits', '/root/sunpy/data/hmi.ic_720s.20221205_230000_TAI.3.continuum.fits', '/root/sunpy/data/hmi.ic_720s.20221205_231200_TAI.3.continuum.fits', '/root/sunpy/data/hmi.ic_720s.20221205_232400_TAI.3.continuum.fits', '/root/sunpy/data/hmi.ic_720s.20221205_233600_TAI.3.continuum.fits', '/root/sunpy/data/hmi.ic_720s.20221205_234800_TAI.3.continuum.fits', '/root/sunpy/data/hmi.ic_720s.20221206_000000_TAI.3.continuum.fits', '/root/sunpy/data/hmi.ic_720s.20221206_001200_TAI.3.continuum.fits', '/root/sunpy/data/hmi.ic_720s.20221206_002400_TAI.3.continuum.fits', '/root/sunpy/data/hmi.ic_720s.20221206_003600_TAI.3.continuum.fits', '/root/sunpy/data/hmi.ic_720s.20221206_004800_TAI.3.continuum.fits', '/root/sunpy/data/hmi.ic_720s.20221206_010000_TAI.3.continuum.fits', '/root/sunpy/data/hmi.ic_720s.20221206_011200_TAI.3.continuum.fits', '/root/sunpy/data/hmi.ic_720s.20221206_012400_TAI.3.continuum.fits', '/root/sunpy/data/hmi.ic_720s.20221206_013600_TAI.3.continuum.fits', '/root/sunpy/data/hmi.ic_720s.20221206_014800_TAI.3.continuum.fits', '/root/sunpy/data/hmi.ic_720s.20221206_020000_TAI.3.continuum.fits', '/root/sunpy/data/hmi.ic_720s.20221206_021200_TAI.3.continuum.fits', '/root/sunpy/data/hmi.ic_720s.20221206_022400_TAI.3.continuum.fits', '/root/sunpy/data/hmi.ic_720s.20221206_023600_TAI.3.continuum.fits', '/root/sunpy/data/hmi.ic_720s.20221206_024800_TAI.3.continuum.fits', '/root/sunpy/data/hmi.ic_720s.20221206_030000_TAI.3.continuum.fits', '/root/sunpy/data/hmi.ic_720s.20221206_031200_TAI.3.continuum.fits', '/root/sunpy/data/hmi.ic_720s.20221206_032400_TAI.3.continuum.fits', '/root/sunpy/data/hmi.ic_720s.20221206_033600_TAI.3.continuum.fits', '/root/sunpy/data/hmi.ic_720s.20221206_034800_TAI.3.continuum.fits', '/root/sunpy/data/hmi.ic_720s.20221206_040000_TAI.3.continuum.fits', '/root/sunpy/data/hmi.ic_720s.20221206_041200_TAI.3.continuum.fits', '/root/sunpy/data/hmi.ic_720s.20221206_042400_TAI.3.continuum.fits', '/root/sunpy/data/hmi.ic_720s.20221206_043600_TAI.3.continuum.fits', '/root/sunpy/data/hmi.ic_720s.20221206_044800_TAI.3.continuum.fits', '/root/sunpy/data/hmi.ic_720s.20221206_050000_TAI.3.continuum.fits', '/root/sunpy/data/hmi.ic_720s.20221206_051200_TAI.3.continuum.fits', '/root/sunpy/data/hmi.ic_720s.20221206_052400_TAI.3.continuum.fits', '/root/sunpy/data/hmi.ic_720s.20221206_053600_TAI.3.continuum.fits', '/root/sunpy/data/hmi.ic_720s.20221206_054800_TAI.3.continuum.fits', '/root/sunpy/data/hmi.ic_720s.20221206_060000_TAI.3.continuum.fits', '/root/sunpy/data/hmi.ic_720s.20221206_061200_TAI.3.continuum.fits', '/root/sunpy/data/hmi.ic_720s.20221206_062400_TAI.3.continuum.fits', '/root/sunpy/data/hmi.ic_720s.20221206_063600_TAI.3.continuum.fits', '/root/sunpy/data/hmi.ic_720s.20221206_064800_TAI.3.continuum.fits', '/root/sunpy/data/hmi.ic_720s.20221206_070000_TAI.3.continuum.fits', '/root/sunpy/data/hmi.ic_720s.20221206_071200_TAI.3.continuum.fits', '/root/sunpy/data/hmi.ic_720s.20221206_072400_TAI.3.continuum.fits', '/root/sunpy/data/hmi.ic_720s.20221206_073600_TAI.3.continuum.fits', '/root/sunpy/data/hmi.ic_720s.20221206_074800_TAI.3.continuum.fits', '/root/sunpy/data/hmi.ic_720s.20221206_080000_TAI.3.continuum.fits', '/root/sunpy/data/hmi.ic_720s.20221206_081200_TAI.3.continuum.fits', '/root/sunpy/data/hmi.ic_720s.20221206_082400_TAI.3.continuum.fits', '/root/sunpy/data/hmi.ic_720s.20221206_083600_TAI.3.continuum.fits', '/root/sunpy/data/hmi.ic_720s.20221206_084800_TAI.3.continuum.fits', '/root/sunpy/data/hmi.ic_720s.20221206_090000_TAI.3.continuum.fits', '/root/sunpy/data/hmi.ic_720s.20221206_091200_TAI.3.continuum.fits', '/root/sunpy/data/hmi.ic_720s.20221206_092400_TAI.3.continuum.fits', '/root/sunpy/data/hmi.ic_720s.20221206_093600_TAI.3.continuum.fits', '/root/sunpy/data/hmi.ic_720s.20221206_094800_TAI.3.continuum.fits', '/root/sunpy/data/hmi.ic_720s.20221206_100000_TAI.3.continuum.fits', '/root/sunpy/data/hmi.ic_720s.20221206_101200_TAI.3.continuum.fits', '/root/sunpy/data/hmi.ic_720s.20221206_102400_TAI.3.continuum.fits', '/root/sunpy/data/hmi.ic_720s.20221206_103600_TAI.3.continuum.fits', '/root/sunpy/data/hmi.ic_720s.20221206_104800_TAI.3.continuum.fits', '/root/sunpy/data/hmi.ic_720s.20221206_110000_TAI.3.continuum.fits', '/root/sunpy/data/hmi.ic_720s.20221206_111200_TAI.3.continuum.fits', '/root/sunpy/data/hmi.ic_720s.20221206_112400_TAI.3.continuum.fits', '/root/sunpy/data/hmi.ic_720s.20221206_113600_TAI.3.continuum.fits', '/root/sunpy/data/hmi.ic_720s.20221206_114800_TAI.3.continuum.fits', '/root/sunpy/data/hmi.ic_720s.20221206_120000_TAI.3.continuum.fits', '/root/sunpy/data/hmi.ic_720s.20221206_121200_TAI.3.continuum.fits', '/root/sunpy/data/hmi.ic_720s.20221206_122400_TAI.3.continuum.fits', '/root/sunpy/data/hmi.ic_720s.20221206_123600_TAI.3.continuum.fits', '/root/sunpy/data/hmi.ic_720s.20221206_124800_TAI.3.continuum.fits', '/root/sunpy/data/hmi.ic_720s.20221206_130000_TAI.3.continuum.fits', '/root/sunpy/data/hmi.ic_720s.20221206_131200_TAI.3.continuum.fits', '/root/sunpy/data/hmi.ic_720s.20221206_132400_TAI.3.continuum.fits', '/root/sunpy/data/hmi.ic_720s.20221206_133600_TAI.3.continuum.fits', '/root/sunpy/data/hmi.ic_720s.20221206_134800_TAI.3.continuum.fits', '/root/sunpy/data/hmi.ic_720s.20221206_140000_TAI.3.continuum.fits', '/root/sunpy/data/hmi.ic_720s.20221206_141200_TAI.3.continuum.fits', '/root/sunpy/data/hmi.ic_720s.20221206_142400_TAI.3.continuum.fits', '/root/sunpy/data/hmi.ic_720s.20221206_143600_TAI.3.continuum.fits', '/root/sunpy/data/hmi.ic_720s.20221206_144800_TAI.3.continuum.fits', '/root/sunpy/data/hmi.ic_720s.20221206_150000_TAI.3.continuum.fits', '/root/sunpy/data/hmi.ic_720s.20221206_151200_TAI.3.continuum.fits', '/root/sunpy/data/hmi.ic_720s.20221206_152400_TAI.3.continuum.fits', '/root/sunpy/data/hmi.ic_720s.20221206_153600_TAI.3.continuum.fits', '/root/sunpy/data/hmi.ic_720s.20221206_154800_TAI.3.continuum.fits', '/root/sunpy/data/hmi.ic_720s.20221206_160000_TAI.3.continuum.fits', '/root/sunpy/data/hmi.ic_720s.20221206_161200_TAI.3.continuum.fits', '/root/sunpy/data/hmi.ic_720s.20221206_162400_TAI.3.continuum.fits', '/root/sunpy/data/hmi.ic_720s.20221206_163600_TAI.3.continuum.fits', '/root/sunpy/data/hmi.ic_720s.20221206_164800_TAI.3.continuum.fits', '/root/sunpy/data/hmi.ic_720s.20221206_170000_TAI.3.continuum.fits', '/root/sunpy/data/hmi.ic_720s.20221206_171200_TAI.3.continuum.fits', '/root/sunpy/data/hmi.ic_720s.20221206_172400_TAI.3.continuum.fits', '/root/sunpy/data/hmi.ic_720s.20221206_173600_TAI.3.continuum.fits', '/root/sunpy/data/hmi.ic_720s.20221206_174800_TAI.3.continuum.fits', '/root/sunpy/data/hmi.ic_720s.20221206_180000_TAI.3.continuum.fits', '/root/sunpy/data/hmi.ic_720s.20221206_181200_TAI.3.continuum.fits', '/root/sunpy/data/hmi.ic_720s.20221206_182400_TAI.3.continuum.fits', '/root/sunpy/data/hmi.ic_720s.20221206_183600_TAI.3.continuum.fits', '/root/sunpy/data/hmi.ic_720s.20221206_184800_TAI.3.continuum.fits', '/root/sunpy/data/hmi.ic_720s.20221206_190000_TAI.3.continuum.fits', '/root/sunpy/data/hmi.ic_720s.20221206_191200_TAI.3.continuum.fits', '/root/sunpy/data/hmi.ic_720s.20221206_192400_TAI.3.continuum.fits', '/root/sunpy/data/hmi.ic_720s.20221206_193600_TAI.3.continuum.fits', '/root/sunpy/data/hmi.ic_720s.20221206_194800_TAI.3.continuum.fits', '/root/sunpy/data/hmi.ic_720s.20221206_202400_TAI.3.continuum.fits', '/root/sunpy/data/hmi.ic_720s.20221206_203600_TAI.3.continuum.fits', '/root/sunpy/data/hmi.ic_720s.20221206_204800_TAI.3.continuum.fits', '/root/sunpy/data/hmi.ic_720s.20221206_210000_TAI.3.continuum.fits', '/root/sunpy/data/hmi.ic_720s.20221206_211200_TAI.3.continuum.fits', '/root/sunpy/data/hmi.ic_720s.20221206_212400_TAI.3.continuum.fits', '/root/sunpy/data/hmi.ic_720s.20221206_213600_TAI.3.continuum.fits', '/root/sunpy/data/hmi.ic_720s.20221206_214800_TAI.3.continuum.fits', '/root/sunpy/data/hmi.ic_720s.20221206_220000_TAI.3.continuum.fits', '/root/sunpy/data/hmi.ic_720s.20221206_221200_TAI.3.continuum.fits', '/root/sunpy/data/hmi.ic_720s.20221206_222400_TAI.3.continuum.fits', '/root/sunpy/data/hmi.ic_720s.20221206_223600_TAI.3.continuum.fits', '/root/sunpy/data/hmi.ic_720s.20221206_224800_TAI.3.continuum.fits', '/root/sunpy/data/hmi.ic_720s.20221206_230000_TAI.3.continuum.fits', '/root/sunpy/data/hmi.ic_720s.20221206_231200_TAI.3.continuum.fits', '/root/sunpy/data/hmi.ic_720s.20221206_232400_TAI.3.continuum.fits', '/root/sunpy/data/hmi.ic_720s.20221206_233600_TAI.3.continuum.fits', '/root/sunpy/data/hmi.ic_720s.20221206_234800_TAI.3.continuum.fits', '/root/sunpy/data/hmi.ic_720s.20221207_000000_TAI.3.continuum.fits', '/root/sunpy/data/hmi.ic_720s.20221207_001200_TAI.3.continuum.fits', '/root/sunpy/data/hmi.ic_720s.20221207_002400_TAI.3.continuum.fits', '/root/sunpy/data/hmi.ic_720s.20221207_003600_TAI.3.continuum.fits', '/root/sunpy/data/hmi.ic_720s.20221207_004800_TAI.3.continuum.fits', '/root/sunpy/data/hmi.ic_720s.20221207_010000_TAI.3.continuum.fits', '/root/sunpy/data/hmi.ic_720s.20221207_011200_TAI.3.continuum.fits', '/root/sunpy/data/hmi.ic_720s.20221207_012400_TAI.3.continuum.fits', '/root/sunpy/data/hmi.ic_720s.20221207_013600_TAI.3.continuum.fits', '/root/sunpy/data/hmi.ic_720s.20221207_014800_TAI.3.continuum.fits', '/root/sunpy/data/hmi.ic_720s.20221207_020000_TAI.3.continuum.fits', '/root/sunpy/data/hmi.ic_720s.20221207_021200_TAI.3.continuum.fits', '/root/sunpy/data/hmi.ic_720s.20221207_022400_TAI.3.continuum.fits', '/root/sunpy/data/hmi.ic_720s.20221207_023600_TAI.3.continuum.fits', '/root/sunpy/data/hmi.ic_720s.20221207_024800_TAI.3.continuum.fits', '/root/sunpy/data/hmi.ic_720s.20221207_030000_TAI.3.continuum.fits', '/root/sunpy/data/hmi.ic_720s.20221207_031200_TAI.3.continuum.fits', '/root/sunpy/data/hmi.ic_720s.20221207_032400_TAI.3.continuum.fits', '/root/sunpy/data/hmi.ic_720s.20221207_033600_TAI.3.continuum.fits', '/root/sunpy/data/hmi.ic_720s.20221207_034800_TAI.3.continuum.fits', '/root/sunpy/data/hmi.ic_720s.20221207_040000_TAI.3.continuum.fits', '/root/sunpy/data/hmi.ic_720s.20221207_041200_TAI.3.continuum.fits', '/root/sunpy/data/hmi.ic_720s.20221207_042400_TAI.3.continuum.fits', '/root/sunpy/data/hmi.ic_720s.20221207_043600_TAI.3.continuum.fits', '/root/sunpy/data/hmi.ic_720s.20221207_044800_TAI.3.continuum.fits', '/root/sunpy/data/hmi.ic_720s.20221207_050000_TAI.3.continuum.fits', '/root/sunpy/data/hmi.ic_720s.20221207_051200_TAI.3.continuum.fits', '/root/sunpy/data/hmi.ic_720s.20221207_052400_TAI.3.continuum.fits', '/root/sunpy/data/hmi.ic_720s.20221207_053600_TAI.3.continuum.fits', '/root/sunpy/data/hmi.ic_720s.20221207_054800_TAI.3.continuum.fits', '/root/sunpy/data/hmi.ic_720s.20221207_060000_TAI.3.continuum.fits', '/root/sunpy/data/hmi.ic_720s.20221207_061200_TAI.3.continuum.fits', '/root/sunpy/data/hmi.ic_720s.20221207_062400_TAI.3.continuum.fits', '/root/sunpy/data/hmi.ic_720s.20221207_063600_TAI.3.continuum.fits', '/root/sunpy/data/hmi.ic_720s.20221207_064800_TAI.3.continuum.fits', '/root/sunpy/data/hmi.ic_720s.20221207_070000_TAI.3.continuum.fits', '/root/sunpy/data/hmi.ic_720s.20221207_071200_TAI.3.continuum.fits', '/root/sunpy/data/hmi.ic_720s.20221207_072400_TAI.3.continuum.fits', '/root/sunpy/data/hmi.ic_720s.20221207_073600_TAI.3.continuum.fits', '/root/sunpy/data/hmi.ic_720s.20221207_074800_TAI.3.continuum.fits', '/root/sunpy/data/hmi.ic_720s.20221207_080000_TAI.3.continuum.fits', '/root/sunpy/data/hmi.ic_720s.20221207_081200_TAI.3.continuum.fits', '/root/sunpy/data/hmi.ic_720s.20221207_082400_TAI.3.continuum.fits', '/root/sunpy/data/hmi.ic_720s.20221207_083600_TAI.3.continuum.fits', '/root/sunpy/data/hmi.ic_720s.20221207_084800_TAI.3.continuum.fits', '/root/sunpy/data/hmi.ic_720s.20221207_090000_TAI.3.continuum.fits', '/root/sunpy/data/hmi.ic_720s.20221207_091200_TAI.3.continuum.fits', '/root/sunpy/data/hmi.ic_720s.20221207_092400_TAI.3.continuum.fits', '/root/sunpy/data/hmi.ic_720s.20221207_093600_TAI.3.continuum.fits', '/root/sunpy/data/hmi.ic_720s.20221207_094800_TAI.3.continuum.fits', '/root/sunpy/data/hmi.ic_720s.20221207_100000_TAI.3.continuum.fits', '/root/sunpy/data/hmi.ic_720s.20221207_101200_TAI.3.continuum.fits', '/root/sunpy/data/hmi.ic_720s.20221207_102400_TAI.3.continuum.fits', '/root/sunpy/data/hmi.ic_720s.20221207_103600_TAI.3.continuum.fits', '/root/sunpy/data/hmi.ic_720s.20221207_104800_TAI.3.continuum.fits', '/root/sunpy/data/hmi.ic_720s.20221207_110000_TAI.3.continuum.fits', '/root/sunpy/data/hmi.ic_720s.20221207_111200_TAI.3.continuum.fits', '/root/sunpy/data/hmi.ic_720s.20221207_112400_TAI.3.continuum.fits', '/root/sunpy/data/hmi.ic_720s.20221207_113600_TAI.3.continuum.fits', '/root/sunpy/data/hmi.ic_720s.20221207_114800_TAI.3.continuum.fits', '/root/sunpy/data/hmi.ic_720s.20221207_120000_TAI.3.continuum.fits', '/root/sunpy/data/hmi.ic_720s.20221207_121200_TAI.3.continuum.fits', '/root/sunpy/data/hmi.ic_720s.20221207_122400_TAI.3.continuum.fits', '/root/sunpy/data/hmi.ic_720s.20221207_123600_TAI.3.continuum.fits', '/root/sunpy/data/hmi.ic_720s.20221207_124800_TAI.3.continuum.fits', '/root/sunpy/data/hmi.ic_720s.20221207_130000_TAI.3.continuum.fits', '/root/sunpy/data/hmi.ic_720s.20221207_131200_TAI.3.continuum.fits', '/root/sunpy/data/hmi.ic_720s.20221207_132400_TAI.3.continuum.fits', '/root/sunpy/data/hmi.ic_720s.20221207_133600_TAI.3.continuum.fits', '/root/sunpy/data/hmi.ic_720s.20221207_134800_TAI.3.continuum.fits', '/root/sunpy/data/hmi.ic_720s.20221207_140000_TAI.3.continuum.fits', '/root/sunpy/data/hmi.ic_720s.20221207_141200_TAI.3.continuum.fits', '/root/sunpy/data/hmi.ic_720s.20221207_142400_TAI.3.continuum.fits', '/root/sunpy/data/hmi.ic_720s.20221207_143600_TAI.3.continuum.fits', '/root/sunpy/data/hmi.ic_720s.20221207_144800_TAI.3.continuum.fits', '/root/sunpy/data/hmi.ic_720s.20221207_150000_TAI.3.continuum.fits', '/root/sunpy/data/hmi.ic_720s.20221207_151200_TAI.3.continuum.fits', '/root/sunpy/data/hmi.ic_720s.20221207_152400_TAI.3.continuum.fits', '/root/sunpy/data/hmi.ic_720s.20221207_153600_TAI.3.continuum.fits', '/root/sunpy/data/hmi.ic_720s.20221207_154800_TAI.3.continuum.fits', '/root/sunpy/data/hmi.ic_720s.20221207_160000_TAI.3.continuum.fits', '/root/sunpy/data/hmi.ic_720s.20221207_161200_TAI.3.continuum.fits', '/root/sunpy/data/hmi.ic_720s.20221207_162400_TAI.3.continuum.fits', '/root/sunpy/data/hmi.ic_720s.20221207_163600_TAI.3.continuum.fits', '/root/sunpy/data/hmi.ic_720s.20221207_164800_TAI.3.continuum.fits', '/root/sunpy/data/hmi.ic_720s.20221207_170000_TAI.3.continuum.fits', '/root/sunpy/data/hmi.ic_720s.20221207_171200_TAI.3.continuum.fits', '/root/sunpy/data/hmi.ic_720s.20221207_172400_TAI.3.continuum.fits', '/root/sunpy/data/hmi.ic_720s.20221207_173600_TAI.3.continuum.fits', '/root/sunpy/data/hmi.ic_720s.20221207_174800_TAI.3.continuum.fits', '/root/sunpy/data/hmi.ic_720s.20221207_180000_TAI.3.continuum.fits', '/root/sunpy/data/hmi.ic_720s.20221207_181200_TAI.3.continuum.fits', '/root/sunpy/data/hmi.ic_720s.20221207_182400_TAI.3.continuum.fits', '/root/sunpy/data/hmi.ic_720s.20221207_183600_TAI.3.continuum.fits', '/root/sunpy/data/hmi.ic_720s.20221207_184800_TAI.3.continuum.fits', '/root/sunpy/data/hmi.ic_720s.20221207_190000_TAI.3.continuum.fits', '/root/sunpy/data/hmi.ic_720s.20221207_191200_TAI.3.continuum.fits', '/root/sunpy/data/hmi.ic_720s.20221207_192400_TAI.3.continuum.fits', '/root/sunpy/data/hmi.ic_720s.20221207_193600_TAI.3.continuum.fits', '/root/sunpy/data/hmi.ic_720s.20221207_201200_TAI.3.continuum.fits', '/root/sunpy/data/hmi.ic_720s.20221207_202400_TAI.3.continuum.fits', '/root/sunpy/data/hmi.ic_720s.20221207_203600_TAI.3.continuum.fits', '/root/sunpy/data/hmi.ic_720s.20221207_204800_TAI.3.continuum.fits', '/root/sunpy/data/hmi.ic_720s.20221207_210000_TAI.3.continuum.fits', '/root/sunpy/data/hmi.ic_720s.20221207_211200_TAI.3.continuum.fits', '/root/sunpy/data/hmi.ic_720s.20221207_212400_TAI.3.continuum.fits', '/root/sunpy/data/hmi.ic_720s.20221207_213600_TAI.3.continuum.fits', '/root/sunpy/data/hmi.ic_720s.20221207_214800_TAI.3.continuum.fits', '/root/sunpy/data/hmi.ic_720s.20221207_220000_TAI.3.continuum.fits', '/root/sunpy/data/hmi.ic_720s.20221207_221200_TAI.3.continuum.fits', '/root/sunpy/data/hmi.ic_720s.20221207_222400_TAI.3.continuum.fits', '/root/sunpy/data/hmi.ic_720s.20221207_223600_TAI.3.continuum.fits', '/root/sunpy/data/hmi.ic_720s.20221207_224800_TAI.3.continuum.fits', '/root/sunpy/data/hmi.ic_720s.20221207_230000_TAI.3.continuum.fits', '/root/sunpy/data/hmi.ic_720s.20221207_231200_TAI.3.continuum.fits', '/root/sunpy/data/hmi.ic_720s.20221207_232400_TAI.3.continuum.fits', '/root/sunpy/data/hmi.ic_720s.20221207_233600_TAI.3.continuum.fits', '/root/sunpy/data/hmi.ic_720s.20221207_234800_TAI.3.continuum.fits', '/root/sunpy/data/hmi.ic_720s.20221208_000000_TAI.3.continuum.fits', '/root/sunpy/data/hmi.ic_720s.20221208_001200_TAI.3.continuum.fits', '/root/sunpy/data/hmi.ic_720s.20221208_002400_TAI.3.continuum.fits', '/root/sunpy/data/hmi.ic_720s.20221208_003600_TAI.3.continuum.fits', '/root/sunpy/data/hmi.ic_720s.20221208_004800_TAI.3.continuum.fits', '/root/sunpy/data/hmi.ic_720s.20221208_010000_TAI.3.continuum.fits', '/root/sunpy/data/hmi.ic_720s.20221208_011200_TAI.3.continuum.fits', '/root/sunpy/data/hmi.ic_720s.20221208_012400_TAI.3.continuum.fits', '/root/sunpy/data/hmi.ic_720s.20221208_013600_TAI.3.continuum.fits', '/root/sunpy/data/hmi.ic_720s.20221208_014800_TAI.3.continuum.fits', '/root/sunpy/data/hmi.ic_720s.20221208_020000_TAI.3.continuum.fits', '/root/sunpy/data/hmi.ic_720s.20221208_021200_TAI.3.continuum.fits', '/root/sunpy/data/hmi.ic_720s.20221208_022400_TAI.3.continuum.fits', '/root/sunpy/data/hmi.ic_720s.20221208_023600_TAI.3.continuum.fits', '/root/sunpy/data/hmi.ic_720s.20221208_024800_TAI.3.continuum.fits', '/root/sunpy/data/hmi.ic_720s.20221208_030000_TAI.3.continuum.fits', '/root/sunpy/data/hmi.ic_720s.20221208_031200_TAI.3.continuum.fits', '/root/sunpy/data/hmi.ic_720s.20221208_032400_TAI.3.continuum.fits', '/root/sunpy/data/hmi.ic_720s.20221208_033600_TAI.3.continuum.fits', '/root/sunpy/data/hmi.ic_720s.20221208_034800_TAI.3.continuum.fits', '/root/sunpy/data/hmi.ic_720s.20221208_040000_TAI.3.continuum.fits', '/root/sunpy/data/hmi.ic_720s.20221208_041200_TAI.3.continuum.fits', '/root/sunpy/data/hmi.ic_720s.20221208_042400_TAI.3.continuum.fits', '/root/sunpy/data/hmi.ic_720s.20221208_043600_TAI.3.continuum.fits', '/root/sunpy/data/hmi.ic_720s.20221208_044800_TAI.3.continuum.fits', '/root/sunpy/data/hmi.ic_720s.20221208_050000_TAI.3.continuum.fits', '/root/sunpy/data/hmi.ic_720s.20221208_051200_TAI.3.continuum.fits', '/root/sunpy/data/hmi.ic_720s.20221208_052400_TAI.3.continuum.fits', '/root/sunpy/data/hmi.ic_720s.20221208_053600_TAI.3.continuum.fits', '/root/sunpy/data/hmi.ic_720s.20221208_054800_TAI.3.continuum.fits', '/root/sunpy/data/hmi.ic_720s.20221208_060000_TAI.3.continuum.fits', '/root/sunpy/data/hmi.ic_720s.20221208_061200_TAI.3.continuum.fits', '/root/sunpy/data/hmi.ic_720s.20221208_062400_TAI.3.continuum.fits', '/root/sunpy/data/hmi.ic_720s.20221208_063600_TAI.3.continuum.fits', '/root/sunpy/data/hmi.ic_720s.20221208_064800_TAI.3.continuum.fits', '/root/sunpy/data/hmi.ic_720s.20221208_070000_TAI.3.continuum.fits', '/root/sunpy/data/hmi.ic_720s.20221208_071200_TAI.3.continuum.fits', '/root/sunpy/data/hmi.ic_720s.20221208_072400_TAI.3.continuum.fits', '/root/sunpy/data/hmi.ic_720s.20221208_073600_TAI.3.continuum.fits', '/root/sunpy/data/hmi.ic_720s.20221208_074800_TAI.3.continuum.fits', '/root/sunpy/data/hmi.ic_720s.20221208_080000_TAI.3.continuum.fits', '/root/sunpy/data/hmi.ic_720s.20221208_081200_TAI.3.continuum.fits', '/root/sunpy/data/hmi.ic_720s.20221208_082400_TAI.3.continuum.fits', '/root/sunpy/data/hmi.ic_720s.20221208_083600_TAI.3.continuum.fits', '/root/sunpy/data/hmi.ic_720s.20221208_084800_TAI.3.continuum.fits', '/root/sunpy/data/hmi.ic_720s.20221208_090000_TAI.3.continuum.fits', '/root/sunpy/data/hmi.ic_720s.20221208_091200_TAI.3.continuum.fits', '/root/sunpy/data/hmi.ic_720s.20221208_092400_TAI.3.continuum.fits', '/root/sunpy/data/hmi.ic_720s.20221208_093600_TAI.3.continuum.fits', '/root/sunpy/data/hmi.ic_720s.20221208_094800_TAI.3.continuum.fits', '/root/sunpy/data/hmi.ic_720s.20221208_100000_TAI.3.continuum.fits', '/root/sunpy/data/hmi.ic_720s.20221208_101200_TAI.3.continuum.fits', '/root/sunpy/data/hmi.ic_720s.20221208_102400_TAI.3.continuum.fits', '/root/sunpy/data/hmi.ic_720s.20221208_103600_TAI.3.continuum.fits', '/root/sunpy/data/hmi.ic_720s.20221208_104800_TAI.3.continuum.fits', '/root/sunpy/data/hmi.ic_720s.20221208_110000_TAI.3.continuum.fits', '/root/sunpy/data/hmi.ic_720s.20221208_111200_TAI.3.continuum.fits', '/root/sunpy/data/hmi.ic_720s.20221208_112400_TAI.3.continuum.fits', '/root/sunpy/data/hmi.ic_720s.20221208_113600_TAI.3.continuum.fits', '/root/sunpy/data/hmi.ic_720s.20221208_114800_TAI.3.continuum.fits', '/root/sunpy/data/hmi.ic_720s.20221208_120000_TAI.3.continuum.fits', '/root/sunpy/data/hmi.ic_720s.20221208_121200_TAI.3.continuum.fits', '/root/sunpy/data/hmi.ic_720s.20221208_122400_TAI.3.continuum.fits', '/root/sunpy/data/hmi.ic_720s.20221208_123600_TAI.3.continuum.fits', '/root/sunpy/data/hmi.ic_720s.20221208_124800_TAI.3.continuum.fits', '/root/sunpy/data/hmi.ic_720s.20221208_130000_TAI.3.continuum.fits', '/root/sunpy/data/hmi.ic_720s.20221208_131200_TAI.3.continuum.fits', '/root/sunpy/data/hmi.ic_720s.20221208_132400_TAI.3.continuum.fits', '/root/sunpy/data/hmi.ic_720s.20221208_133600_TAI.3.continuum.fits', '/root/sunpy/data/hmi.ic_720s.20221208_134800_TAI.3.continuum.fits', '/root/sunpy/data/hmi.ic_720s.20221208_140000_TAI.3.continuum.fits', '/root/sunpy/data/hmi.ic_720s.20221208_141200_TAI.3.continuum.fits', '/root/sunpy/data/hmi.ic_720s.20221208_142400_TAI.3.continuum.fits', '/root/sunpy/data/hmi.ic_720s.20221208_143600_TAI.3.continuum.fits', '/root/sunpy/data/hmi.ic_720s.20221208_144800_TAI.3.continuum.fits', '/root/sunpy/data/hmi.ic_720s.20221208_150000_TAI.3.continuum.fits', '/root/sunpy/data/hmi.ic_720s.20221208_151200_TAI.3.continuum.fits', '/root/sunpy/data/hmi.ic_720s.20221208_152400_TAI.3.continuum.fits', '/root/sunpy/data/hmi.ic_720s.20221208_153600_TAI.3.continuum.fits', '/root/sunpy/data/hmi.ic_720s.20221208_154800_TAI.3.continuum.fits', '/root/sunpy/data/hmi.ic_720s.20221208_160000_TAI.3.continuum.fits', '/root/sunpy/data/hmi.ic_720s.20221208_161200_TAI.3.continuum.fits', '/root/sunpy/data/hmi.ic_720s.20221208_162400_TAI.3.continuum.fits', '/root/sunpy/data/hmi.ic_720s.20221208_163600_TAI.3.continuum.fits', '/root/sunpy/data/hmi.ic_720s.20221208_164800_TAI.3.continuum.fits', '/root/sunpy/data/hmi.ic_720s.20221208_170000_TAI.3.continuum.fits', '/root/sunpy/data/hmi.ic_720s.20221208_171200_TAI.3.continuum.fits', '/root/sunpy/data/hmi.ic_720s.20221208_172400_TAI.3.continuum.fits', '/root/sunpy/data/hmi.ic_720s.20221208_173600_TAI.3.continuum.fits', '/root/sunpy/data/hmi.ic_720s.20221208_174800_TAI.3.continuum.fits', '/root/sunpy/data/hmi.ic_720s.20221208_180000_TAI.3.continuum.fits', '/root/sunpy/data/hmi.ic_720s.20221208_181200_TAI.3.continuum.fits', '/root/sunpy/data/hmi.ic_720s.20221208_182400_TAI.3.continuum.fits', '/root/sunpy/data/hmi.ic_720s.20221208_183600_TAI.3.continuum.fits', '/root/sunpy/data/hmi.ic_720s.20221208_184800_TAI.3.continuum.fits', '/root/sunpy/data/hmi.ic_720s.20221208_190000_TAI.3.continuum.fits', '/root/sunpy/data/hmi.ic_720s.20221208_191200_TAI.3.continuum.fits', '/root/sunpy/data/hmi.ic_720s.20221208_192400_TAI.3.continuum.fits', '/root/sunpy/data/hmi.ic_720s.20221208_193600_TAI.3.continuum.fits', '/root/sunpy/data/hmi.ic_720s.20221208_194800_TAI.3.continuum.fits', '/root/sunpy/data/hmi.ic_720s.20221208_200000_TAI.3.continuum.fits', '/root/sunpy/data/hmi.ic_720s.20221208_201200_TAI.3.continuum.fits', '/root/sunpy/data/hmi.ic_720s.20221208_202400_TAI.3.continuum.fits', '/root/sunpy/data/hmi.ic_720s.20221208_203600_TAI.3.continuum.fits', '/root/sunpy/data/hmi.ic_720s.20221208_204800_TAI.3.continuum.fits', '/root/sunpy/data/hmi.ic_720s.20221208_210000_TAI.3.continuum.fits', '/root/sunpy/data/hmi.ic_720s.20221208_211200_TAI.3.continuum.fits', '/root/sunpy/data/hmi.ic_720s.20221208_212400_TAI.3.continuum.fits', '/root/sunpy/data/hmi.ic_720s.20221208_213600_TAI.3.continuum.fits', '/root/sunpy/data/hmi.ic_720s.20221208_214800_TAI.3.continuum.fits', '/root/sunpy/data/hmi.ic_720s.20221208_220000_TAI.3.continuum.fits', '/root/sunpy/data/hmi.ic_720s.20221208_221200_TAI.3.continuum.fits', '/root/sunpy/data/hmi.ic_720s.20221208_222400_TAI.3.continuum.fits', '/root/sunpy/data/hmi.ic_720s.20221208_223600_TAI.3.continuum.fits', '/root/sunpy/data/hmi.ic_720s.20221208_224800_TAI.3.continuum.fits', '/root/sunpy/data/hmi.ic_720s.20221208_230000_TAI.3.continuum.fits', '/root/sunpy/data/hmi.ic_720s.20221208_231200_TAI.3.continuum.fits', '/root/sunpy/data/hmi.ic_720s.20221208_232400_TAI.3.continuum.fits', '/root/sunpy/data/hmi.ic_720s.20221208_233600_TAI.3.continuum.fits', '/root/sunpy/data/hmi.ic_720s.20221208_234800_TAI.3.continuum.fits', '/root/sunpy/data/hmi.ic_720s.20221209_000000_TAI.3.continuum.fits', '/root/sunpy/data/hmi.ic_720s.20221209_001200_TAI.3.continuum.fits', '/root/sunpy/data/hmi.ic_720s.20221209_002400_TAI.3.continuum.fits', '/root/sunpy/data/hmi.ic_720s.20221209_003600_TAI.3.continuum.fits', '/root/sunpy/data/hmi.ic_720s.20221209_004800_TAI.3.continuum.fits', '/root/sunpy/data/hmi.ic_720s.20221209_010000_TAI.3.continuum.fits', '/root/sunpy/data/hmi.ic_720s.20221209_011200_TAI.3.continuum.fits', '/root/sunpy/data/hmi.ic_720s.20221209_012400_TAI.3.continuum.fits', '/root/sunpy/data/hmi.ic_720s.20221209_013600_TAI.3.continuum.fits', '/root/sunpy/data/hmi.ic_720s.20221209_014800_TAI.3.continuum.fits', '/root/sunpy/data/hmi.ic_720s.20221209_020000_TAI.3.continuum.fits', '/root/sunpy/data/hmi.ic_720s.20221209_021200_TAI.3.continuum.fits', '/root/sunpy/data/hmi.ic_720s.20221209_022400_TAI.3.continuum.fits', '/root/sunpy/data/hmi.ic_720s.20221209_023600_TAI.3.continuum.fits', '/root/sunpy/data/hmi.ic_720s.20221209_024800_TAI.3.continuum.fits', '/root/sunpy/data/hmi.ic_720s.20221209_030000_TAI.3.continuum.fits', '/root/sunpy/data/hmi.ic_720s.20221209_031200_TAI.3.continuum.fits', '/root/sunpy/data/hmi.ic_720s.20221209_032400_TAI.3.continuum.fits', '/root/sunpy/data/hmi.ic_720s.20221209_033600_TAI.3.continuum.fits', '/root/sunpy/data/hmi.ic_720s.20221209_034800_TAI.3.continuum.fits', '/root/sunpy/data/hmi.ic_720s.20221209_040000_TAI.3.continuum.fits', '/root/sunpy/data/hmi.ic_720s.20221209_041200_TAI.3.continuum.fits', '/root/sunpy/data/hmi.ic_720s.20221209_042400_TAI.3.continuum.fits', '/root/sunpy/data/hmi.ic_720s.20221209_043600_TAI.3.continuum.fits', '/root/sunpy/data/hmi.ic_720s.20221209_044800_TAI.3.continuum.fits', '/root/sunpy/data/hmi.ic_720s.20221209_050000_TAI.3.continuum.fits', '/root/sunpy/data/hmi.ic_720s.20221209_051200_TAI.3.continuum.fits', '/root/sunpy/data/hmi.ic_720s.20221209_052400_TAI.3.continuum.fits', '/root/sunpy/data/hmi.ic_720s.20221209_053600_TAI.3.continuum.fits', '/root/sunpy/data/hmi.ic_720s.20221209_054800_TAI.3.continuum.fits', '/root/sunpy/data/hmi.ic_720s.20221209_060000_TAI.3.continuum.fits', '/root/sunpy/data/hmi.ic_720s.20221209_061200_TAI.3.continuum.fits', '/root/sunpy/data/hmi.ic_720s.20221209_062400_TAI.3.continuum.fits', '/root/sunpy/data/hmi.ic_720s.20221209_063600_TAI.3.continuum.fits', '/root/sunpy/data/hmi.ic_720s.20221209_064800_TAI.3.continuum.fits', '/root/sunpy/data/hmi.ic_720s.20221209_070000_TAI.3.continuum.fits', '/root/sunpy/data/hmi.ic_720s.20221209_071200_TAI.3.continuum.fits', '/root/sunpy/data/hmi.ic_720s.20221209_072400_TAI.3.continuum.fits', '/root/sunpy/data/hmi.ic_720s.20221209_073600_TAI.3.continuum.fits', '/root/sunpy/data/hmi.ic_720s.20221209_074800_TAI.3.continuum.fits', '/root/sunpy/data/hmi.ic_720s.20221209_080000_TAI.3.continuum.fits', '/root/sunpy/data/hmi.ic_720s.20221209_081200_TAI.3.continuum.fits', '/root/sunpy/data/hmi.ic_720s.20221209_082400_TAI.3.continuum.fits', '/root/sunpy/data/hmi.ic_720s.20221209_083600_TAI.3.continuum.fits', '/root/sunpy/data/hmi.ic_720s.20221209_084800_TAI.3.continuum.fits', '/root/sunpy/data/hmi.ic_720s.20221209_090000_TAI.3.continuum.fits', '/root/sunpy/data/hmi.ic_720s.20221209_091200_TAI.3.continuum.fits', '/root/sunpy/data/hmi.ic_720s.20221209_092400_TAI.3.continuum.fits', '/root/sunpy/data/hmi.ic_720s.20221209_093600_TAI.3.continuum.fits', '/root/sunpy/data/hmi.ic_720s.20221209_094800_TAI.3.continuum.fits', '/root/sunpy/data/hmi.ic_720s.20221209_100000_TAI.3.continuum.fits', '/root/sunpy/data/hmi.ic_720s.20221209_101200_TAI.3.continuum.fits', '/root/sunpy/data/hmi.ic_720s.20221209_102400_TAI.3.continuum.fits', '/root/sunpy/data/hmi.ic_720s.20221209_103600_TAI.3.continuum.fits', '/root/sunpy/data/hmi.ic_720s.20221209_104800_TAI.3.continuum.fits', '/root/sunpy/data/hmi.ic_720s.20221209_110000_TAI.3.continuum.fits', '/root/sunpy/data/hmi.ic_720s.20221209_111200_TAI.3.continuum.fits', '/root/sunpy/data/hmi.ic_720s.20221209_112400_TAI.3.continuum.fits', '/root/sunpy/data/hmi.ic_720s.20221209_113600_TAI.3.continuum.fits', '/root/sunpy/data/hmi.ic_720s.20221209_114800_TAI.3.continuum.fits', '/root/sunpy/data/hmi.ic_720s.20221209_120000_TAI.3.continuum.fits', '/root/sunpy/data/hmi.ic_720s.20221209_121200_TAI.3.continuum.fits', '/root/sunpy/data/hmi.ic_720s.20221209_122400_TAI.3.continuum.fits', '/root/sunpy/data/hmi.ic_720s.20221209_123600_TAI.3.continuum.fits', '/root/sunpy/data/hmi.ic_720s.20221209_124800_TAI.3.continuum.fits', '/root/sunpy/data/hmi.ic_720s.20221209_130000_TAI.3.continuum.fits', '/root/sunpy/data/hmi.ic_720s.20221209_131200_TAI.3.continuum.fits', '/root/sunpy/data/hmi.ic_720s.20221209_132400_TAI.3.continuum.fits', '/root/sunpy/data/hmi.ic_720s.20221209_133600_TAI.3.continuum.fits', '/root/sunpy/data/hmi.ic_720s.20221209_134800_TAI.3.continuum.fits', '/root/sunpy/data/hmi.ic_720s.20221209_140000_TAI.3.continuum.fits', '/root/sunpy/data/hmi.ic_720s.20221209_141200_TAI.3.continuum.fits', '/root/sunpy/data/hmi.ic_720s.20221209_142400_TAI.3.continuum.fits', '/root/sunpy/data/hmi.ic_720s.20221209_143600_TAI.3.continuum.fits', '/root/sunpy/data/hmi.ic_720s.20221209_144800_TAI.3.continuum.fits', '/root/sunpy/data/hmi.ic_720s.20221209_150000_TAI.3.continuum.fits', '/root/sunpy/data/hmi.ic_720s.20221209_151200_TAI.3.continuum.fits', '/root/sunpy/data/hmi.ic_720s.20221209_152400_TAI.3.continuum.fits', '/root/sunpy/data/hmi.ic_720s.20221209_153600_TAI.3.continuum.fits', '/root/sunpy/data/hmi.ic_720s.20221209_154800_TAI.3.continuum.fits', '/root/sunpy/data/hmi.ic_720s.20221209_160000_TAI.3.continuum.fits', '/root/sunpy/data/hmi.ic_720s.20221209_161200_TAI.3.continuum.fits', '/root/sunpy/data/hmi.ic_720s.20221209_162400_TAI.3.continuum.fits', '/root/sunpy/data/hmi.ic_720s.20221209_163600_TAI.3.continuum.fits', '/root/sunpy/data/hmi.ic_720s.20221209_164800_TAI.3.continuum.fits', '/root/sunpy/data/hmi.ic_720s.20221209_170000_TAI.3.continuum.fits', '/root/sunpy/data/hmi.ic_720s.20221209_171200_TAI.3.continuum.fits', '/root/sunpy/data/hmi.ic_720s.20221209_172400_TAI.3.continuum.fits', '/root/sunpy/data/hmi.ic_720s.20221209_173600_TAI.3.continuum.fits', '/root/sunpy/data/hmi.ic_720s.20221209_174800_TAI.3.continuum.fits', '/root/sunpy/data/hmi.ic_720s.20221209_180000_TAI.3.continuum.fits', '/root/sunpy/data/hmi.ic_720s.20221209_181200_TAI.3.continuum.fits', '/root/sunpy/data/hmi.ic_720s.20221209_182400_TAI.3.continuum.fits', '/root/sunpy/data/hmi.ic_720s.20221209_183600_TAI.3.continuum.fits', '/root/sunpy/data/hmi.ic_720s.20221209_184800_TAI.3.continuum.fits', '/root/sunpy/data/hmi.ic_720s.20221209_190000_TAI.3.continuum.fits', '/root/sunpy/data/hmi.ic_720s.20221209_191200_TAI.3.continuum.fits', '/root/sunpy/data/hmi.ic_720s.20221209_192400_TAI.3.continuum.fits', '/root/sunpy/data/hmi.ic_720s.20221209_193600_TAI.3.continuum.fits', '/root/sunpy/data/hmi.ic_720s.20221209_194800_TAI.3.continuum.fits', '/root/sunpy/data/hmi.ic_720s.20221209_200000_TAI.3.continuum.fits', '/root/sunpy/data/hmi.ic_720s.20221209_201200_TAI.3.continuum.fits', '/root/sunpy/data/hmi.ic_720s.20221209_202400_TAI.3.continuum.fits', '/root/sunpy/data/hmi.ic_720s.20221209_203600_TAI.3.continuum.fits', '/root/sunpy/data/hmi.ic_720s.20221209_204800_TAI.3.continuum.fits', '/root/sunpy/data/hmi.ic_720s.20221209_210000_TAI.3.continuum.fits', '/root/sunpy/data/hmi.ic_720s.20221209_211200_TAI.3.continuum.fits', '/root/sunpy/data/hmi.ic_720s.20221209_212400_TAI.3.continuum.fits', '/root/sunpy/data/hmi.ic_720s.20221209_213600_TAI.3.continuum.fits', '/root/sunpy/data/hmi.ic_720s.20221209_214800_TAI.3.continuum.fits', '/root/sunpy/data/hmi.ic_720s.20221209_220000_TAI.3.continuum.fits', '/root/sunpy/data/hmi.ic_720s.20221209_221200_TAI.3.continuum.fits', '/root/sunpy/data/hmi.ic_720s.20221209_222400_TAI.3.continuum.fits', '/root/sunpy/data/hmi.ic_720s.20221209_223600_TAI.3.continuum.fits', '/root/sunpy/data/hmi.ic_720s.20221209_224800_TAI.3.continuum.fits', '/root/sunpy/data/hmi.ic_720s.20221209_230000_TAI.3.continuum.fits', '/root/sunpy/data/hmi.ic_720s.20221209_231200_TAI.3.continuum.fits', '/root/sunpy/data/hmi.ic_720s.20221209_232400_TAI.3.continuum.fits', '/root/sunpy/data/hmi.ic_720s.20221209_233600_TAI.3.continuum.fits', '/root/sunpy/data/hmi.ic_720s.20221209_234800_TAI.3.continuum.fits', '/root/sunpy/data/hmi.ic_720s.20221210_000000_TAI.3.continuum.fits', '/root/sunpy/data/hmi.ic_720s.20221210_001200_TAI.3.continuum.fits', '/root/sunpy/data/hmi.ic_720s.20221210_002400_TAI.3.continuum.fits', '/root/sunpy/data/hmi.ic_720s.20221210_003600_TAI.3.continuum.fits', '/root/sunpy/data/hmi.ic_720s.20221210_004800_TAI.3.continuum.fits', '/root/sunpy/data/hmi.ic_720s.20221210_010000_TAI.3.continuum.fits', '/root/sunpy/data/hmi.ic_720s.20221210_011200_TAI.3.continuum.fits', '/root/sunpy/data/hmi.ic_720s.20221210_012400_TAI.3.continuum.fits', '/root/sunpy/data/hmi.ic_720s.20221210_013600_TAI.3.continuum.fits', '/root/sunpy/data/hmi.ic_720s.20221210_014800_TAI.3.continuum.fits', '/root/sunpy/data/hmi.ic_720s.20221210_020000_TAI.3.continuum.fits', '/root/sunpy/data/hmi.ic_720s.20221210_021200_TAI.3.continuum.fits', '/root/sunpy/data/hmi.ic_720s.20221210_022400_TAI.3.continuum.fits', '/root/sunpy/data/hmi.ic_720s.20221210_023600_TAI.3.continuum.fits', '/root/sunpy/data/hmi.ic_720s.20221210_024800_TAI.3.continuum.fits', '/root/sunpy/data/hmi.ic_720s.20221210_030000_TAI.3.continuum.fits', '/root/sunpy/data/hmi.ic_720s.20221210_031200_TAI.3.continuum.fits', '/root/sunpy/data/hmi.ic_720s.20221210_032400_TAI.3.continuum.fits', '/root/sunpy/data/hmi.ic_720s.20221210_033600_TAI.3.continuum.fits', '/root/sunpy/data/hmi.ic_720s.20221210_034800_TAI.3.continuum.fits', '/root/sunpy/data/hmi.ic_720s.20221210_040000_TAI.3.continuum.fits', '/root/sunpy/data/hmi.ic_720s.20221210_041200_TAI.3.continuum.fits', '/root/sunpy/data/hmi.ic_720s.20221210_042400_TAI.3.continuum.fits', '/root/sunpy/data/hmi.ic_720s.20221210_043600_TAI.3.continuum.fits', '/root/sunpy/data/hmi.ic_720s.20221210_044800_TAI.3.continuum.fits', '/root/sunpy/data/hmi.ic_720s.20221210_050000_TAI.3.continuum.fits', '/root/sunpy/data/hmi.ic_720s.20221210_051200_TAI.3.continuum.fits', '/root/sunpy/data/hmi.ic_720s.20221210_052400_TAI.3.continuum.fits', '/root/sunpy/data/hmi.ic_720s.20221210_053600_TAI.3.continuum.fits', '/root/sunpy/data/hmi.ic_720s.20221210_054800_TAI.3.continuum.fits', '/root/sunpy/data/hmi.ic_720s.20221210_060000_TAI.3.continuum.fits', '/root/sunpy/data/hmi.ic_720s.20221210_061200_TAI.3.continuum.fits', '/root/sunpy/data/hmi.ic_720s.20221210_062400_TAI.3.continuum.fits', '/root/sunpy/data/hmi.ic_720s.20221210_063600_TAI.3.continuum.fits', '/root/sunpy/data/hmi.ic_720s.20221210_064800_TAI.3.continuum.fits', '/root/sunpy/data/hmi.ic_720s.20221210_070000_TAI.3.continuum.fits', '/root/sunpy/data/hmi.ic_720s.20221210_071200_TAI.3.continuum.fits', '/root/sunpy/data/hmi.ic_720s.20221210_072400_TAI.3.continuum.fits', '/root/sunpy/data/hmi.ic_720s.20221210_073600_TAI.3.continuum.fits', '/root/sunpy/data/hmi.ic_720s.20221210_074800_TAI.3.continuum.fits', '/root/sunpy/data/hmi.ic_720s.20221210_080000_TAI.3.continuum.fits', '/root/sunpy/data/hmi.ic_720s.20221210_081200_TAI.3.continuum.fits', '/root/sunpy/data/hmi.ic_720s.20221210_082400_TAI.3.continuum.fits', '/root/sunpy/data/hmi.ic_720s.20221210_083600_TAI.3.continuum.fits', '/root/sunpy/data/hmi.ic_720s.20221210_084800_TAI.3.continuum.fits', '/root/sunpy/data/hmi.ic_720s.20221210_090000_TAI.3.continuum.fits', '/root/sunpy/data/hmi.ic_720s.20221210_091200_TAI.3.continuum.fits', '/root/sunpy/data/hmi.ic_720s.20221210_092400_TAI.3.continuum.fits', '/root/sunpy/data/hmi.ic_720s.20221210_093600_TAI.3.continuum.fits', '/root/sunpy/data/hmi.ic_720s.20221210_094800_TAI.3.continuum.fits', '/root/sunpy/data/hmi.ic_720s.20221210_100000_TAI.3.continuum.fits', '/root/sunpy/data/hmi.ic_720s.20221210_101200_TAI.3.continuum.fits', '/root/sunpy/data/hmi.ic_720s.20221210_102400_TAI.3.continuum.fits', '/root/sunpy/data/hmi.ic_720s.20221210_103600_TAI.3.continuum.fits', '/root/sunpy/data/hmi.ic_720s.20221210_104800_TAI.3.continuum.fits', '/root/sunpy/data/hmi.ic_720s.20221210_110000_TAI.3.continuum.fits', '/root/sunpy/data/hmi.ic_720s.20221210_111200_TAI.3.continuum.fits', '/root/sunpy/data/hmi.ic_720s.20221210_112400_TAI.3.continuum.fits', '/root/sunpy/data/hmi.ic_720s.20221210_113600_TAI.3.continuum.fits', '/root/sunpy/data/hmi.ic_720s.20221210_114800_TAI.3.continuum.fits', '/root/sunpy/data/hmi.ic_720s.20221210_120000_TAI.3.continuum.fits', '/root/sunpy/data/hmi.ic_720s.20221210_121200_TAI.3.continuum.fits', '/root/sunpy/data/hmi.ic_720s.20221210_122400_TAI.3.continuum.fits', '/root/sunpy/data/hmi.ic_720s.20221210_123600_TAI.3.continuum.fits', '/root/sunpy/data/hmi.ic_720s.20221210_124800_TAI.3.continuum.fits', '/root/sunpy/data/hmi.ic_720s.20221210_130000_TAI.3.continuum.fits', '/root/sunpy/data/hmi.ic_720s.20221210_131200_TAI.3.continuum.fits', '/root/sunpy/data/hmi.ic_720s.20221210_132400_TAI.3.continuum.fits', '/root/sunpy/data/hmi.ic_720s.20221210_133600_TAI.3.continuum.fits', '/root/sunpy/data/hmi.ic_720s.20221210_134800_TAI.3.continuum.fits', '/root/sunpy/data/hmi.ic_720s.20221210_140000_TAI.3.continuum.fits', '/root/sunpy/data/hmi.ic_720s.20221210_141200_TAI.3.continuum.fits', '/root/sunpy/data/hmi.ic_720s.20221210_142400_TAI.3.continuum.fits', '/root/sunpy/data/hmi.ic_720s.20221210_143600_TAI.3.continuum.fits', '/root/sunpy/data/hmi.ic_720s.20221210_144800_TAI.3.continuum.fits', '/root/sunpy/data/hmi.ic_720s.20221210_150000_TAI.3.continuum.fits', '/root/sunpy/data/hmi.ic_720s.20221210_151200_TAI.3.continuum.fits', '/root/sunpy/data/hmi.ic_720s.20221210_152400_TAI.3.continuum.fits', '/root/sunpy/data/hmi.ic_720s.20221210_153600_TAI.3.continuum.fits', '/root/sunpy/data/hmi.ic_720s.20221210_154800_TAI.3.continuum.fits', '/root/sunpy/data/hmi.ic_720s.20221210_160000_TAI.3.continuum.fits', '/root/sunpy/data/hmi.ic_720s.20221210_161200_TAI.3.continuum.fits', '/root/sunpy/data/hmi.ic_720s.20221210_162400_TAI.3.continuum.fits', '/root/sunpy/data/hmi.ic_720s.20221210_163600_TAI.3.continuum.fits', '/root/sunpy/data/hmi.ic_720s.20221210_164800_TAI.3.continuum.fits', '/root/sunpy/data/hmi.ic_720s.20221210_170000_TAI.3.continuum.fits', '/root/sunpy/data/hmi.ic_720s.20221210_171200_TAI.3.continuum.fits', '/root/sunpy/data/hmi.ic_720s.20221210_172400_TAI.3.continuum.fits', '/root/sunpy/data/hmi.ic_720s.20221210_173600_TAI.3.continuum.fits', '/root/sunpy/data/hmi.ic_720s.20221210_174800_TAI.3.continuum.fits', '/root/sunpy/data/hmi.ic_720s.20221210_180000_TAI.3.continuum.fits', '/root/sunpy/data/hmi.ic_720s.20221210_181200_TAI.3.continuum.fits', '/root/sunpy/data/hmi.ic_720s.20221210_182400_TAI.3.continuum.fits', '/root/sunpy/data/hmi.ic_720s.20221210_183600_TAI.3.continuum.fits', '/root/sunpy/data/hmi.ic_720s.20221210_184800_TAI.3.continuum.fits', '/root/sunpy/data/hmi.ic_720s.20221210_190000_TAI.3.continuum.fits', '/root/sunpy/data/hmi.ic_720s.20221210_191200_TAI.3.continuum.fits', '/root/sunpy/data/hmi.ic_720s.20221210_192400_TAI.3.continuum.fits', '/root/sunpy/data/hmi.ic_720s.20221210_193600_TAI.3.continuum.fits', '/root/sunpy/data/hmi.ic_720s.20221210_194800_TAI.3.continuum.fits', '/root/sunpy/data/hmi.ic_720s.20221210_200000_TAI.3.continuum.fits', '/root/sunpy/data/hmi.ic_720s.20221210_201200_TAI.3.continuum.fits', '/root/sunpy/data/hmi.ic_720s.20221210_202400_TAI.3.continuum.fits', '/root/sunpy/data/hmi.ic_720s.20221210_203600_TAI.3.continuum.fits', '/root/sunpy/data/hmi.ic_720s.20221210_204800_TAI.3.continuum.fits', '/root/sunpy/data/hmi.ic_720s.20221210_210000_TAI.3.continuum.fits', '/root/sunpy/data/hmi.ic_720s.20221210_211200_TAI.3.continuum.fits', '/root/sunpy/data/hmi.ic_720s.20221210_212400_TAI.3.continuum.fits', '/root/sunpy/data/hmi.ic_720s.20221210_213600_TAI.3.continuum.fits', '/root/sunpy/data/hmi.ic_720s.20221210_214800_TAI.3.continuum.fits', '/root/sunpy/data/hmi.ic_720s.20221210_220000_TAI.3.continuum.fits', '/root/sunpy/data/hmi.ic_720s.20221210_221200_TAI.3.continuum.fits', '/root/sunpy/data/hmi.ic_720s.20221210_222400_TAI.3.continuum.fits', '/root/sunpy/data/hmi.ic_720s.20221210_223600_TAI.3.continuum.fits', '/root/sunpy/data/hmi.ic_720s.20221210_224800_TAI.3.continuum.fits', '/root/sunpy/data/hmi.ic_720s.20221210_230000_TAI.3.continuum.fits', '/root/sunpy/data/hmi.ic_720s.20221210_231200_TAI.3.continuum.fits', '/root/sunpy/data/hmi.ic_720s.20221210_232400_TAI.3.continuum.fits', '/root/sunpy/data/hmi.ic_720s.20221210_233600_TAI.3.continuum.fits', '/root/sunpy/data/hmi.ic_720s.20221210_234800_TAI.3.continuum.fits', '/root/sunpy/data/hmi.ic_720s.20221211_000000_TAI.3.continuum.fits', '/root/sunpy/data/hmi.ic_720s.20221211_001200_TAI.3.continuum.fits', '/root/sunpy/data/hmi.ic_720s.20221211_002400_TAI.3.continuum.fits', '/root/sunpy/data/hmi.ic_720s.20221211_003600_TAI.3.continuum.fits', '/root/sunpy/data/hmi.ic_720s.20221211_004800_TAI.3.continuum.fits', '/root/sunpy/data/hmi.ic_720s.20221211_010000_TAI.3.continuum.fits', '/root/sunpy/data/hmi.ic_720s.20221211_011200_TAI.3.continuum.fits', '/root/sunpy/data/hmi.ic_720s.20221211_012400_TAI.3.continuum.fits', '/root/sunpy/data/hmi.ic_720s.20221211_013600_TAI.3.continuum.fits', '/root/sunpy/data/hmi.ic_720s.20221211_014800_TAI.3.continuum.fits', '/root/sunpy/data/hmi.ic_720s.20221211_020000_TAI.3.continuum.fits', '/root/sunpy/data/hmi.ic_720s.20221211_021200_TAI.3.continuum.fits', '/root/sunpy/data/hmi.ic_720s.20221211_022400_TAI.3.continuum.fits', '/root/sunpy/data/hmi.ic_720s.20221211_023600_TAI.3.continuum.fits', '/root/sunpy/data/hmi.ic_720s.20221211_024800_TAI.3.continuum.fits', '/root/sunpy/data/hmi.ic_720s.20221211_030000_TAI.3.continuum.fits', '/root/sunpy/data/hmi.ic_720s.20221211_031200_TAI.3.continuum.fits', '/root/sunpy/data/hmi.ic_720s.20221211_032400_TAI.3.continuum.fits', '/root/sunpy/data/hmi.ic_720s.20221211_033600_TAI.3.continuum.fits', '/root/sunpy/data/hmi.ic_720s.20221211_034800_TAI.3.continuum.fits', '/root/sunpy/data/hmi.ic_720s.20221211_040000_TAI.3.continuum.fits', '/root/sunpy/data/hmi.ic_720s.20221211_041200_TAI.3.continuum.fits', '/root/sunpy/data/hmi.ic_720s.20221211_042400_TAI.3.continuum.fits', '/root/sunpy/data/hmi.ic_720s.20221211_043600_TAI.3.continuum.fits', '/root/sunpy/data/hmi.ic_720s.20221211_044800_TAI.3.continuum.fits', '/root/sunpy/data/hmi.ic_720s.20221211_050000_TAI.3.continuum.fits', '/root/sunpy/data/hmi.ic_720s.20221211_051200_TAI.3.continuum.fits', '/root/sunpy/data/hmi.ic_720s.20221211_052400_TAI.3.continuum.fits', '/root/sunpy/data/hmi.ic_720s.20221211_053600_TAI.3.continuum.fits', '/root/sunpy/data/hmi.ic_720s.20221211_054800_TAI.3.continuum.fits', '/root/sunpy/data/hmi.ic_720s.20221211_060000_TAI.3.continuum.fits', '/root/sunpy/data/hmi.ic_720s.20221211_061200_TAI.3.continuum.fits', '/root/sunpy/data/hmi.ic_720s.20221211_062400_TAI.3.continuum.fits', '/root/sunpy/data/hmi.ic_720s.20221211_063600_TAI.3.continuum.fits', '/root/sunpy/data/hmi.ic_720s.20221211_064800_TAI.3.continuum.fits', '/root/sunpy/data/hmi.ic_720s.20221211_070000_TAI.3.continuum.fits', '/root/sunpy/data/hmi.ic_720s.20221211_071200_TAI.3.continuum.fits', '/root/sunpy/data/hmi.ic_720s.20221211_072400_TAI.3.continuum.fits', '/root/sunpy/data/hmi.ic_720s.20221211_073600_TAI.3.continuum.fits', '/root/sunpy/data/hmi.ic_720s.20221211_074800_TAI.3.continuum.fits', '/root/sunpy/data/hmi.ic_720s.20221211_080000_TAI.3.continuum.fits', '/root/sunpy/data/hmi.ic_720s.20221211_081200_TAI.3.continuum.fits', '/root/sunpy/data/hmi.ic_720s.20221211_082400_TAI.3.continuum.fits', '/root/sunpy/data/hmi.ic_720s.20221211_083600_TAI.3.continuum.fits', '/root/sunpy/data/hmi.ic_720s.20221211_084800_TAI.3.continuum.fits', '/root/sunpy/data/hmi.ic_720s.20221211_090000_TAI.3.continuum.fits', '/root/sunpy/data/hmi.ic_720s.20221211_091200_TAI.3.continuum.fits', '/root/sunpy/data/hmi.ic_720s.20221211_092400_TAI.3.continuum.fits', '/root/sunpy/data/hmi.ic_720s.20221211_093600_TAI.3.continuum.fits', '/root/sunpy/data/hmi.ic_720s.20221211_094800_TAI.3.continuum.fits', '/root/sunpy/data/hmi.ic_720s.20221211_100000_TAI.3.continuum.fits', '/root/sunpy/data/hmi.ic_720s.20221211_101200_TAI.3.continuum.fits', '/root/sunpy/data/hmi.ic_720s.20221211_102400_TAI.3.continuum.fits', '/root/sunpy/data/hmi.ic_720s.20221211_103600_TAI.3.continuum.fits', '/root/sunpy/data/hmi.ic_720s.20221211_104800_TAI.3.continuum.fits', '/root/sunpy/data/hmi.ic_720s.20221211_110000_TAI.3.continuum.fits', '/root/sunpy/data/hmi.ic_720s.20221211_111200_TAI.3.continuum.fits', '/root/sunpy/data/hmi.ic_720s.20221211_112400_TAI.3.continuum.fits', '/root/sunpy/data/hmi.ic_720s.20221211_113600_TAI.3.continuum.fits', '/root/sunpy/data/hmi.ic_720s.20221211_114800_TAI.3.continuum.fits', '/root/sunpy/data/hmi.ic_720s.20221211_120000_TAI.3.continuum.fits', '/root/sunpy/data/hmi.ic_720s.20221211_121200_TAI.3.continuum.fits', '/root/sunpy/data/hmi.ic_720s.20221211_122400_TAI.3.continuum.fits', '/root/sunpy/data/hmi.ic_720s.20221211_123600_TAI.3.continuum.fits', '/root/sunpy/data/hmi.ic_720s.20221211_124800_TAI.3.continuum.fits', '/root/sunpy/data/hmi.ic_720s.20221211_130000_TAI.3.continuum.fits', '/root/sunpy/data/hmi.ic_720s.20221211_131200_TAI.3.continuum.fits', '/root/sunpy/data/hmi.ic_720s.20221211_132400_TAI.3.continuum.fits', '/root/sunpy/data/hmi.ic_720s.20221211_133600_TAI.3.continuum.fits', '/root/sunpy/data/hmi.ic_720s.20221211_134800_TAI.3.continuum.fits', '/root/sunpy/data/hmi.ic_720s.20221211_140000_TAI.3.continuum.fits', '/root/sunpy/data/hmi.ic_720s.20221211_141200_TAI.3.continuum.fits', '/root/sunpy/data/hmi.ic_720s.20221211_142400_TAI.3.continuum.fits', '/root/sunpy/data/hmi.ic_720s.20221211_143600_TAI.3.continuum.fits', '/root/sunpy/data/hmi.ic_720s.20221211_144800_TAI.3.continuum.fits', '/root/sunpy/data/hmi.ic_720s.20221211_150000_TAI.3.continuum.fits', '/root/sunpy/data/hmi.ic_720s.20221211_151200_TAI.3.continuum.fits', '/root/sunpy/data/hmi.ic_720s.20221211_152400_TAI.3.continuum.fits', '/root/sunpy/data/hmi.ic_720s.20221211_153600_TAI.3.continuum.fits', '/root/sunpy/data/hmi.ic_720s.20221211_154800_TAI.3.continuum.fits', '/root/sunpy/data/hmi.ic_720s.20221211_160000_TAI.3.continuum.fits', '/root/sunpy/data/hmi.ic_720s.20221211_161200_TAI.3.continuum.fits', '/root/sunpy/data/hmi.ic_720s.20221211_162400_TAI.3.continuum.fits', '/root/sunpy/data/hmi.ic_720s.20221211_163600_TAI.3.continuum.fits', '/root/sunpy/data/hmi.ic_720s.20221211_164800_TAI.3.continuum.fits', '/root/sunpy/data/hmi.ic_720s.20221211_170000_TAI.3.continuum.fits', '/root/sunpy/data/hmi.ic_720s.20221211_171200_TAI.3.continuum.fits', '/root/sunpy/data/hmi.ic_720s.20221211_172400_TAI.3.continuum.fits', '/root/sunpy/data/hmi.ic_720s.20221211_173600_TAI.3.continuum.fits', '/root/sunpy/data/hmi.ic_720s.20221211_174800_TAI.3.continuum.fits', '/root/sunpy/data/hmi.ic_720s.20221211_180000_TAI.3.continuum.fits', '/root/sunpy/data/hmi.ic_720s.20221211_181200_TAI.3.continuum.fits', '/root/sunpy/data/hmi.ic_720s.20221211_182400_TAI.3.continuum.fits', '/root/sunpy/data/hmi.ic_720s.20221211_183600_TAI.3.continuum.fits', '/root/sunpy/data/hmi.ic_720s.20221211_184800_TAI.3.continuum.fits', '/root/sunpy/data/hmi.ic_720s.20221211_190000_TAI.3.continuum.fits', '/root/sunpy/data/hmi.ic_720s.20221211_191200_TAI.3.continuum.fits', '/root/sunpy/data/hmi.ic_720s.20221211_192400_TAI.3.continuum.fits', '/root/sunpy/data/hmi.ic_720s.20221211_193600_TAI.3.continuum.fits', '/root/sunpy/data/hmi.ic_720s.20221211_194800_TAI.3.continuum.fits', '/root/sunpy/data/hmi.ic_720s.20221211_200000_TAI.3.continuum.fits', '/root/sunpy/data/hmi.ic_720s.20221211_201200_TAI.3.continuum.fits', '/root/sunpy/data/hmi.ic_720s.20221211_202400_TAI.3.continuum.fits', '/root/sunpy/data/hmi.ic_720s.20221211_203600_TAI.3.continuum.fits', '/root/sunpy/data/hmi.ic_720s.20221211_204800_TAI.3.continuum.fits', '/root/sunpy/data/hmi.ic_720s.20221211_210000_TAI.3.continuum.fits', '/root/sunpy/data/hmi.ic_720s.20221211_211200_TAI.3.continuum.fits', '/root/sunpy/data/hmi.ic_720s.20221211_212400_TAI.3.continuum.fits', '/root/sunpy/data/hmi.ic_720s.20221211_213600_TAI.3.continuum.fits', '/root/sunpy/data/hmi.ic_720s.20221211_214800_TAI.3.continuum.fits', '/root/sunpy/data/hmi.ic_720s.20221211_220000_TAI.3.continuum.fits', '/root/sunpy/data/hmi.ic_720s.20221211_221200_TAI.3.continuum.fits', '/root/sunpy/data/hmi.ic_720s.20221211_222400_TAI.3.continuum.fits', '/root/sunpy/data/hmi.ic_720s.20221211_223600_TAI.3.continuum.fits', '/root/sunpy/data/hmi.ic_720s.20221211_224800_TAI.3.continuum.fits', '/root/sunpy/data/hmi.ic_720s.20221211_230000_TAI.3.continuum.fits', '/root/sunpy/data/hmi.ic_720s.20221211_231200_TAI.3.continuum.fits', '/root/sunpy/data/hmi.ic_720s.20221211_232400_TAI.3.continuum.fits', '/root/sunpy/data/hmi.ic_720s.20221211_233600_TAI.3.continuum.fits', '/root/sunpy/data/hmi.ic_720s.20221211_234800_TAI.3.continuum.fits', '/root/sunpy/data/hmi.ic_720s.20221212_000000_TAI.3.continuum.fits', '/root/sunpy/data/hmi.ic_720s.20221212_001200_TAI.3.continuum.fits', '/root/sunpy/data/hmi.ic_720s.20221212_002400_TAI.3.continuum.fits', '/root/sunpy/data/hmi.ic_720s.20221212_003600_TAI.3.continuum.fits', '/root/sunpy/data/hmi.ic_720s.20221212_004800_TAI.3.continuum.fits', '/root/sunpy/data/hmi.ic_720s.20221212_010000_TAI.3.continuum.fits', '/root/sunpy/data/hmi.ic_720s.20221212_011200_TAI.3.continuum.fits', '/root/sunpy/data/hmi.ic_720s.20221212_012400_TAI.3.continuum.fits', '/root/sunpy/data/hmi.ic_720s.20221212_013600_TAI.3.continuum.fits', '/root/sunpy/data/hmi.ic_720s.20221212_014800_TAI.3.continuum.fits', '/root/sunpy/data/hmi.ic_720s.20221212_020000_TAI.3.continuum.fits', '/root/sunpy/data/hmi.ic_720s.20221212_021200_TAI.3.continuum.fits', '/root/sunpy/data/hmi.ic_720s.20221212_022400_TAI.3.continuum.fits', '/root/sunpy/data/hmi.ic_720s.20221212_023600_TAI.3.continuum.fits', '/root/sunpy/data/hmi.ic_720s.20221212_024800_TAI.3.continuum.fits', '/root/sunpy/data/hmi.ic_720s.20221212_030000_TAI.3.continuum.fits', '/root/sunpy/data/hmi.ic_720s.20221212_031200_TAI.3.continuum.fits', '/root/sunpy/data/hmi.ic_720s.20221212_032400_TAI.3.continuum.fits', '/root/sunpy/data/hmi.ic_720s.20221212_033600_TAI.3.continuum.fits', '/root/sunpy/data/hmi.ic_720s.20221212_034800_TAI.3.continuum.fits', '/root/sunpy/data/hmi.ic_720s.20221212_040000_TAI.3.continuum.fits', '/root/sunpy/data/hmi.ic_720s.20221212_041200_TAI.3.continuum.fits', '/root/sunpy/data/hmi.ic_720s.20221212_042400_TAI.3.continuum.fits', '/root/sunpy/data/hmi.ic_720s.20221212_043600_TAI.3.continuum.fits', '/root/sunpy/data/hmi.ic_720s.20221212_044800_TAI.3.continuum.fits', '/root/sunpy/data/hmi.ic_720s.20221212_050000_TAI.3.continuum.fits', '/root/sunpy/data/hmi.ic_720s.20221212_051200_TAI.3.continuum.fits', '/root/sunpy/data/hmi.ic_720s.20221212_052400_TAI.3.continuum.fits', '/root/sunpy/data/hmi.ic_720s.20221212_053600_TAI.3.continuum.fits', '/root/sunpy/data/hmi.ic_720s.20221212_054800_TAI.3.continuum.fits', '/root/sunpy/data/hmi.ic_720s.20221212_060000_TAI.3.continuum.fits', '/root/sunpy/data/hmi.ic_720s.20221212_061200_TAI.3.continuum.fits', '/root/sunpy/data/hmi.ic_720s.20221212_062400_TAI.3.continuum.fits', '/root/sunpy/data/hmi.ic_720s.20221212_063600_TAI.3.continuum.fits', '/root/sunpy/data/hmi.ic_720s.20221212_064800_TAI.3.continuum.fits', '/root/sunpy/data/hmi.ic_720s.20221212_070000_TAI.3.continuum.fits', '/root/sunpy/data/hmi.ic_720s.20221212_071200_TAI.3.continuum.fits', '/root/sunpy/data/hmi.ic_720s.20221212_072400_TAI.3.continuum.fits', '/root/sunpy/data/hmi.ic_720s.20221212_073600_TAI.3.continuum.fits', '/root/sunpy/data/hmi.ic_720s.20221212_074800_TAI.3.continuum.fits', '/root/sunpy/data/hmi.ic_720s.20221212_080000_TAI.3.continuum.fits', '/root/sunpy/data/hmi.ic_720s.20221212_081200_TAI.3.continuum.fits', '/root/sunpy/data/hmi.ic_720s.20221212_082400_TAI.3.continuum.fits', '/root/sunpy/data/hmi.ic_720s.20221212_083600_TAI.3.continuum.fits', '/root/sunpy/data/hmi.ic_720s.20221212_084800_TAI.3.continuum.fits', '/root/sunpy/data/hmi.ic_720s.20221212_090000_TAI.3.continuum.fits', '/root/sunpy/data/hmi.ic_720s.20221212_091200_TAI.3.continuum.fits', '/root/sunpy/data/hmi.ic_720s.20221212_092400_TAI.3.continuum.fits', '/root/sunpy/data/hmi.ic_720s.20221212_093600_TAI.3.continuum.fits', '/root/sunpy/data/hmi.ic_720s.20221212_094800_TAI.3.continuum.fits', '/root/sunpy/data/hmi.ic_720s.20221212_100000_TAI.3.continuum.fits', '/root/sunpy/data/hmi.ic_720s.20221212_101200_TAI.3.continuum.fits', '/root/sunpy/data/hmi.ic_720s.20221212_102400_TAI.3.continuum.fits', '/root/sunpy/data/hmi.ic_720s.20221212_103600_TAI.3.continuum.fits', '/root/sunpy/data/hmi.ic_720s.20221212_104800_TAI.3.continuum.fits', '/root/sunpy/data/hmi.ic_720s.20221212_110000_TAI.3.continuum.fits', '/root/sunpy/data/hmi.ic_720s.20221212_111200_TAI.3.continuum.fits', '/root/sunpy/data/hmi.ic_720s.20221212_112400_TAI.3.continuum.fits', '/root/sunpy/data/hmi.ic_720s.20221212_113600_TAI.3.continuum.fits', '/root/sunpy/data/hmi.ic_720s.20221212_114800_TAI.3.continuum.fits', '/root/sunpy/data/hmi.ic_720s.20221212_120000_TAI.3.continuum.fits', '/root/sunpy/data/hmi.ic_720s.20221212_121200_TAI.3.continuum.fits', '/root/sunpy/data/hmi.ic_720s.20221212_122400_TAI.3.continuum.fits', '/root/sunpy/data/hmi.ic_720s.20221212_123600_TAI.3.continuum.fits', '/root/sunpy/data/hmi.ic_720s.20221212_124800_TAI.3.continuum.fits', '/root/sunpy/data/hmi.ic_720s.20221212_130000_TAI.3.continuum.fits', '/root/sunpy/data/hmi.ic_720s.20221212_131200_TAI.3.continuum.fits', '/root/sunpy/data/hmi.ic_720s.20221212_132400_TAI.3.continuum.fits', '/root/sunpy/data/hmi.ic_720s.20221212_133600_TAI.3.continuum.fits', '/root/sunpy/data/hmi.ic_720s.20221212_134800_TAI.3.continuum.fits', '/root/sunpy/data/hmi.ic_720s.20221212_140000_TAI.3.continuum.fits', '/root/sunpy/data/hmi.ic_720s.20221212_141200_TAI.3.continuum.fits', '/root/sunpy/data/hmi.ic_720s.20221212_142400_TAI.3.continuum.fits', '/root/sunpy/data/hmi.ic_720s.20221212_143600_TAI.3.continuum.fits', '/root/sunpy/data/hmi.ic_720s.20221212_144800_TAI.3.continuum.fits', '/root/sunpy/data/hmi.ic_720s.20221212_150000_TAI.3.continuum.fits', '/root/sunpy/data/hmi.ic_720s.20221212_151200_TAI.3.continuum.fits', '/root/sunpy/data/hmi.ic_720s.20221212_152400_TAI.3.continuum.fits', '/root/sunpy/data/hmi.ic_720s.20221212_153600_TAI.3.continuum.fits', '/root/sunpy/data/hmi.ic_720s.20221212_154800_TAI.3.continuum.fits', '/root/sunpy/data/hmi.ic_720s.20221212_160000_TAI.3.continuum.fits', '/root/sunpy/data/hmi.ic_720s.20221212_161200_TAI.3.continuum.fits', '/root/sunpy/data/hmi.ic_720s.20221212_162400_TAI.3.continuum.fits', '/root/sunpy/data/hmi.ic_720s.20221212_163600_TAI.3.continuum.fits', '/root/sunpy/data/hmi.ic_720s.20221212_164800_TAI.3.continuum.fits', '/root/sunpy/data/hmi.ic_720s.20221212_170000_TAI.3.continuum.fits', '/root/sunpy/data/hmi.ic_720s.20221212_171200_TAI.3.continuum.fits', '/root/sunpy/data/hmi.ic_720s.20221212_172400_TAI.3.continuum.fits', '/root/sunpy/data/hmi.ic_720s.20221212_173600_TAI.3.continuum.fits', '/root/sunpy/data/hmi.ic_720s.20221212_174800_TAI.3.continuum.fits', '/root/sunpy/data/hmi.ic_720s.20221212_180000_TAI.3.continuum.fits', '/root/sunpy/data/hmi.ic_720s.20221212_181200_TAI.3.continuum.fits', '/root/sunpy/data/hmi.ic_720s.20221212_182400_TAI.3.continuum.fits', '/root/sunpy/data/hmi.ic_720s.20221212_183600_TAI.3.continuum.fits', '/root/sunpy/data/hmi.ic_720s.20221212_184800_TAI.3.continuum.fits', '/root/sunpy/data/hmi.ic_720s.20221212_190000_TAI.3.continuum.fits', '/root/sunpy/data/hmi.ic_720s.20221212_191200_TAI.3.continuum.fits', '/root/sunpy/data/hmi.ic_720s.20221212_192400_TAI.3.continuum.fits', '/root/sunpy/data/hmi.ic_720s.20221212_193600_TAI.3.continuum.fits', '/root/sunpy/data/hmi.ic_720s.20221212_194800_TAI.3.continuum.fits', '/root/sunpy/data/hmi.ic_720s.20221212_200000_TAI.3.continuum.fits', '/root/sunpy/data/hmi.ic_720s.20221212_201200_TAI.3.continuum.fits', '/root/sunpy/data/hmi.ic_720s.20221212_202400_TAI.3.continuum.fits', '/root/sunpy/data/hmi.ic_720s.20221212_203600_TAI.3.continuum.fits', '/root/sunpy/data/hmi.ic_720s.20221212_204800_TAI.3.continuum.fits', '/root/sunpy/data/hmi.ic_720s.20221212_224800_TAI.3.continuum.fits', '/root/sunpy/data/hmi.ic_720s.20221212_230000_TAI.3.continuum.fits', '/root/sunpy/data/hmi.ic_720s.20221212_231200_TAI.3.continuum.fits', '/root/sunpy/data/hmi.ic_720s.20221212_232400_TAI.3.continuum.fits', '/root/sunpy/data/hmi.ic_720s.20221212_233600_TAI.3.continuum.fits', '/root/sunpy/data/hmi.ic_720s.20221212_234800_TAI.3.continuum.fits', '/root/sunpy/data/hmi.ic_720s.20221213_000000_TAI.3.continuum.fits', '/root/sunpy/data/hmi.ic_720s.20221213_001200_TAI.3.continuum.fits', '/root/sunpy/data/hmi.ic_720s.20221213_002400_TAI.3.continuum.fits', '/root/sunpy/data/hmi.ic_720s.20221213_003600_TAI.3.continuum.fits', '/root/sunpy/data/hmi.ic_720s.20221213_004800_TAI.3.continuum.fits', '/root/sunpy/data/hmi.ic_720s.20221213_010000_TAI.3.continuum.fits', '/root/sunpy/data/hmi.ic_720s.20221213_011200_TAI.3.continuum.fits', '/root/sunpy/data/hmi.ic_720s.20221213_012400_TAI.3.continuum.fits', '/root/sunpy/data/hmi.ic_720s.20221213_013600_TAI.3.continuum.fits', '/root/sunpy/data/hmi.ic_720s.20221213_014800_TAI.3.continuum.fits', '/root/sunpy/data/hmi.ic_720s.20221213_020000_TAI.3.continuum.fits', '/root/sunpy/data/hmi.ic_720s.20221213_021200_TAI.3.continuum.fits', '/root/sunpy/data/hmi.ic_720s.20221213_022400_TAI.3.continuum.fits', '/root/sunpy/data/hmi.ic_720s.20221213_023600_TAI.3.continuum.fits', '/root/sunpy/data/hmi.ic_720s.20221213_024800_TAI.3.continuum.fits', '/root/sunpy/data/hmi.ic_720s.20221213_030000_TAI.3.continuum.fits', '/root/sunpy/data/hmi.ic_720s.20221213_031200_TAI.3.continuum.fits', '/root/sunpy/data/hmi.ic_720s.20221213_032400_TAI.3.continuum.fits', '/root/sunpy/data/hmi.ic_720s.20221213_033600_TAI.3.continuum.fits', '/root/sunpy/data/hmi.ic_720s.20221213_034800_TAI.3.continuum.fits', '/root/sunpy/data/hmi.ic_720s.20221213_040000_TAI.3.continuum.fits', '/root/sunpy/data/hmi.ic_720s.20221213_041200_TAI.3.continuum.fits', '/root/sunpy/data/hmi.ic_720s.20221213_042400_TAI.3.continuum.fits', '/root/sunpy/data/hmi.ic_720s.20221213_043600_TAI.3.continuum.fits', '/root/sunpy/data/hmi.ic_720s.20221213_044800_TAI.3.continuum.fits', '/root/sunpy/data/hmi.ic_720s.20221213_050000_TAI.3.continuum.fits', '/root/sunpy/data/hmi.ic_720s.20221213_051200_TAI.3.continuum.fits', '/root/sunpy/data/hmi.ic_720s.20221213_052400_TAI.3.continuum.fits', '/root/sunpy/data/hmi.ic_720s.20221213_053600_TAI.3.continuum.fits', '/root/sunpy/data/hmi.ic_720s.20221213_054800_TAI.3.continuum.fits', '/root/sunpy/data/hmi.ic_720s.20221213_060000_TAI.3.continuum.fits', '/root/sunpy/data/hmi.ic_720s.20221213_061200_TAI.3.continuum.fits', '/root/sunpy/data/hmi.ic_720s.20221213_062400_TAI.3.continuum.fits', '/root/sunpy/data/hmi.ic_720s.20221213_063600_TAI.3.continuum.fits', '/root/sunpy/data/hmi.ic_720s.20221213_064800_TAI.3.continuum.fits', '/root/sunpy/data/hmi.ic_720s.20221213_070000_TAI.3.continuum.fits', '/root/sunpy/data/hmi.ic_720s.20221213_071200_TAI.3.continuum.fits', '/root/sunpy/data/hmi.ic_720s.20221213_072400_TAI.3.continuum.fits', '/root/sunpy/data/hmi.ic_720s.20221213_073600_TAI.3.continuum.fits', '/root/sunpy/data/hmi.ic_720s.20221213_074800_TAI.3.continuum.fits', '/root/sunpy/data/hmi.ic_720s.20221213_080000_TAI.3.continuum.fits', '/root/sunpy/data/hmi.ic_720s.20221213_081200_TAI.3.continuum.fits', '/root/sunpy/data/hmi.ic_720s.20221213_082400_TAI.3.continuum.fits', '/root/sunpy/data/hmi.ic_720s.20221213_083600_TAI.3.continuum.fits', '/root/sunpy/data/hmi.ic_720s.20221213_084800_TAI.3.continuum.fits', '/root/sunpy/data/hmi.ic_720s.20221213_090000_TAI.3.continuum.fits', '/root/sunpy/data/hmi.ic_720s.20221213_091200_TAI.3.continuum.fits', '/root/sunpy/data/hmi.ic_720s.20221213_092400_TAI.3.continuum.fits', '/root/sunpy/data/hmi.ic_720s.20221213_093600_TAI.3.continuum.fits', '/root/sunpy/data/hmi.ic_720s.20221213_094800_TAI.3.continuum.fits', '/root/sunpy/data/hmi.ic_720s.20221213_100000_TAI.3.continuum.fits', '/root/sunpy/data/hmi.ic_720s.20221213_101200_TAI.3.continuum.fits', '/root/sunpy/data/hmi.ic_720s.20221213_102400_TAI.3.continuum.fits', '/root/sunpy/data/hmi.ic_720s.20221213_103600_TAI.3.continuum.fits', '/root/sunpy/data/hmi.ic_720s.20221213_104800_TAI.3.continuum.fits', '/root/sunpy/data/hmi.ic_720s.20221213_110000_TAI.3.continuum.fits', '/root/sunpy/data/hmi.ic_720s.20221213_111200_TAI.3.continuum.fits', '/root/sunpy/data/hmi.ic_720s.20221213_112400_TAI.3.continuum.fits', '/root/sunpy/data/hmi.ic_720s.20221213_113600_TAI.3.continuum.fits', '/root/sunpy/data/hmi.ic_720s.20221213_114800_TAI.3.continuum.fits', '/root/sunpy/data/hmi.ic_720s.20221213_120000_TAI.3.continuum.fits', '/root/sunpy/data/hmi.ic_720s.20221213_121200_TAI.3.continuum.fits', '/root/sunpy/data/hmi.ic_720s.20221213_122400_TAI.3.continuum.fits', '/root/sunpy/data/hmi.ic_720s.20221213_123600_TAI.3.continuum.fits', '/root/sunpy/data/hmi.ic_720s.20221213_124800_TAI.3.continuum.fits', '/root/sunpy/data/hmi.ic_720s.20221213_130000_TAI.3.continuum.fits', '/root/sunpy/data/hmi.ic_720s.20221213_131200_TAI.3.continuum.fits', '/root/sunpy/data/hmi.ic_720s.20221213_132400_TAI.3.continuum.fits', '/root/sunpy/data/hmi.ic_720s.20221213_133600_TAI.3.continuum.fits', '/root/sunpy/data/hmi.ic_720s.20221213_134800_TAI.3.continuum.fits', '/root/sunpy/data/hmi.ic_720s.20221213_140000_TAI.3.continuum.fits', '/root/sunpy/data/hmi.ic_720s.20221213_141200_TAI.3.continuum.fits', '/root/sunpy/data/hmi.ic_720s.20221213_142400_TAI.3.continuum.fits', '/root/sunpy/data/hmi.ic_720s.20221213_143600_TAI.3.continuum.fits', '/root/sunpy/data/hmi.ic_720s.20221213_144800_TAI.3.continuum.fits', '/root/sunpy/data/hmi.ic_720s.20221213_150000_TAI.3.continuum.fits', '/root/sunpy/data/hmi.ic_720s.20221213_151200_TAI.3.continuum.fits', '/root/sunpy/data/hmi.ic_720s.20221213_152400_TAI.3.continuum.fits', '/root/sunpy/data/hmi.ic_720s.20221213_153600_TAI.3.continuum.fits', '/root/sunpy/data/hmi.ic_720s.20221213_154800_TAI.3.continuum.fits', '/root/sunpy/data/hmi.ic_720s.20221213_160000_TAI.3.continuum.fits', '/root/sunpy/data/hmi.ic_720s.20221213_161200_TAI.3.continuum.fits', '/root/sunpy/data/hmi.ic_720s.20221213_162400_TAI.3.continuum.fits', '/root/sunpy/data/hmi.ic_720s.20221213_163600_TAI.3.continuum.fits', '/root/sunpy/data/hmi.ic_720s.20221213_164800_TAI.3.continuum.fits', '/root/sunpy/data/hmi.ic_720s.20221213_170000_TAI.3.continuum.fits', '/root/sunpy/data/hmi.ic_720s.20221213_171200_TAI.3.continuum.fits', '/root/sunpy/data/hmi.ic_720s.20221213_172400_TAI.3.continuum.fits', '/root/sunpy/data/hmi.ic_720s.20221213_173600_TAI.3.continuum.fits', '/root/sunpy/data/hmi.ic_720s.20221213_174800_TAI.3.continuum.fits', '/root/sunpy/data/hmi.ic_720s.20221213_180000_TAI.3.continuum.fits', '/root/sunpy/data/hmi.ic_720s.20221213_181200_TAI.3.continuum.fits', '/root/sunpy/data/hmi.ic_720s.20221213_182400_TAI.3.continuum.fits', '/root/sunpy/data/hmi.ic_720s.20221213_183600_TAI.3.continuum.fits', '/root/sunpy/data/hmi.ic_720s.20221213_184800_TAI.3.continuum.fits', '/root/sunpy/data/hmi.ic_720s.20221213_190000_TAI.3.continuum.fits', '/root/sunpy/data/hmi.ic_720s.20221213_191200_TAI.3.continuum.fits', '/root/sunpy/data/hmi.ic_720s.20221213_192400_TAI.3.continuum.fits', '/root/sunpy/data/hmi.ic_720s.20221213_193600_TAI.3.continuum.fits', '/root/sunpy/data/hmi.ic_720s.20221213_194800_TAI.3.continuum.fits', '/root/sunpy/data/hmi.ic_720s.20221213_200000_TAI.3.continuum.fits', '/root/sunpy/data/hmi.ic_720s.20221213_201200_TAI.3.continuum.fits', '/root/sunpy/data/hmi.ic_720s.20221213_202400_TAI.3.continuum.fits', '/root/sunpy/data/hmi.ic_720s.20221213_203600_TAI.3.continuum.fits', '/root/sunpy/data/hmi.ic_720s.20221213_204800_TAI.3.continuum.fits', '/root/sunpy/data/hmi.ic_720s.20221213_210000_TAI.3.continuum.fits', '/root/sunpy/data/hmi.ic_720s.20221213_211200_TAI.3.continuum.fits', '/root/sunpy/data/hmi.ic_720s.20221213_212400_TAI.3.continuum.fits', '/root/sunpy/data/hmi.ic_720s.20221213_213600_TAI.3.continuum.fits', '/root/sunpy/data/hmi.ic_720s.20221213_214800_TAI.3.continuum.fits', '/root/sunpy/data/hmi.ic_720s.20221213_220000_TAI.3.continuum.fits', '/root/sunpy/data/hmi.ic_720s.20221213_221200_TAI.3.continuum.fits', '/root/sunpy/data/hmi.ic_720s.20221213_222400_TAI.3.continuum.fits', '/root/sunpy/data/hmi.ic_720s.20221213_223600_TAI.3.continuum.fits', '/root/sunpy/data/hmi.ic_720s.20221213_224800_TAI.3.continuum.fits', '/root/sunpy/data/hmi.ic_720s.20221213_230000_TAI.3.continuum.fits', '/root/sunpy/data/hmi.ic_720s.20221213_231200_TAI.3.continuum.fits', '/root/sunpy/data/hmi.ic_720s.20221213_232400_TAI.3.continuum.fits', '/root/sunpy/data/hmi.ic_720s.20221213_233600_TAI.3.continuum.fits', '/root/sunpy/data/hmi.ic_720s.20221213_234800_TAI.3.continuum.fits', '/root/sunpy/data/hmi.ic_720s.20221214_000000_TAI.3.continuum.fits', '/root/sunpy/data/hmi.ic_720s.20221214_001200_TAI.3.continuum.fits', '/root/sunpy/data/hmi.ic_720s.20221214_002400_TAI.3.continuum.fits', '/root/sunpy/data/hmi.ic_720s.20221214_003600_TAI.3.continuum.fits', '/root/sunpy/data/hmi.ic_720s.20221214_004800_TAI.3.continuum.fits', '/root/sunpy/data/hmi.ic_720s.20221214_010000_TAI.3.continuum.fits', '/root/sunpy/data/hmi.ic_720s.20221214_011200_TAI.3.continuum.fits', '/root/sunpy/data/hmi.ic_720s.20221214_012400_TAI.3.continuum.fits', '/root/sunpy/data/hmi.ic_720s.20221214_013600_TAI.3.continuum.fits', '/root/sunpy/data/hmi.ic_720s.20221214_014800_TAI.3.continuum.fits', '/root/sunpy/data/hmi.ic_720s.20221214_020000_TAI.3.continuum.fits', '/root/sunpy/data/hmi.ic_720s.20221214_021200_TAI.3.continuum.fits', '/root/sunpy/data/hmi.ic_720s.20221214_022400_TAI.3.continuum.fits', '/root/sunpy/data/hmi.ic_720s.20221214_023600_TAI.3.continuum.fits', '/root/sunpy/data/hmi.ic_720s.20221214_024800_TAI.3.continuum.fits', '/root/sunpy/data/hmi.ic_720s.20221214_030000_TAI.3.continuum.fits', '/root/sunpy/data/hmi.ic_720s.20221214_031200_TAI.3.continuum.fits', '/root/sunpy/data/hmi.ic_720s.20221214_032400_TAI.3.continuum.fits', '/root/sunpy/data/hmi.ic_720s.20221214_033600_TAI.3.continuum.fits', '/root/sunpy/data/hmi.ic_720s.20221214_034800_TAI.3.continuum.fits', '/root/sunpy/data/hmi.ic_720s.20221214_040000_TAI.3.continuum.fits', '/root/sunpy/data/hmi.ic_720s.20221214_041200_TAI.3.continuum.fits', '/root/sunpy/data/hmi.ic_720s.20221214_042400_TAI.3.continuum.fits', '/root/sunpy/data/hmi.ic_720s.20221214_043600_TAI.3.continuum.fits', '/root/sunpy/data/hmi.ic_720s.20221214_044800_TAI.3.continuum.fits', '/root/sunpy/data/hmi.ic_720s.20221214_050000_TAI.3.continuum.fits', '/root/sunpy/data/hmi.ic_720s.20221214_051200_TAI.3.continuum.fits', '/root/sunpy/data/hmi.ic_720s.20221214_052400_TAI.3.continuum.fits', '/root/sunpy/data/hmi.ic_720s.20221214_053600_TAI.3.continuum.fits', '/root/sunpy/data/hmi.ic_720s.20221214_054800_TAI.3.continuum.fits', '/root/sunpy/data/hmi.ic_720s.20221214_060000_TAI.3.continuum.fits', '/root/sunpy/data/hmi.ic_720s.20221214_061200_TAI.3.continuum.fits', '/root/sunpy/data/hmi.ic_720s.20221214_062400_TAI.3.continuum.fits', '/root/sunpy/data/hmi.ic_720s.20221214_063600_TAI.3.continuum.fits', '/root/sunpy/data/hmi.ic_720s.20221214_064800_TAI.3.continuum.fits', '/root/sunpy/data/hmi.ic_720s.20221214_070000_TAI.3.continuum.fits', '/root/sunpy/data/hmi.ic_720s.20221214_071200_TAI.3.continuum.fits', '/root/sunpy/data/hmi.ic_720s.20221214_072400_TAI.3.continuum.fits', '/root/sunpy/data/hmi.ic_720s.20221214_073600_TAI.3.continuum.fits', '/root/sunpy/data/hmi.ic_720s.20221214_074800_TAI.3.continuum.fits', '/root/sunpy/data/hmi.ic_720s.20221214_080000_TAI.3.continuum.fits', '/root/sunpy/data/hmi.ic_720s.20221214_081200_TAI.3.continuum.fits', '/root/sunpy/data/hmi.ic_720s.20221214_082400_TAI.3.continuum.fits', '/root/sunpy/data/hmi.ic_720s.20221214_083600_TAI.3.continuum.fits', '/root/sunpy/data/hmi.ic_720s.20221214_084800_TAI.3.continuum.fits', '/root/sunpy/data/hmi.ic_720s.20221214_090000_TAI.3.continuum.fits', '/root/sunpy/data/hmi.ic_720s.20221214_091200_TAI.3.continuum.fits', '/root/sunpy/data/hmi.ic_720s.20221214_092400_TAI.3.continuum.fits', '/root/sunpy/data/hmi.ic_720s.20221214_093600_TAI.3.continuum.fits', '/root/sunpy/data/hmi.ic_720s.20221214_094800_TAI.3.continuum.fits', '/root/sunpy/data/hmi.ic_720s.20221214_100000_TAI.3.continuum.fits', '/root/sunpy/data/hmi.ic_720s.20221214_101200_TAI.3.continuum.fits', '/root/sunpy/data/hmi.ic_720s.20221214_102400_TAI.3.continuum.fits', '/root/sunpy/data/hmi.ic_720s.20221214_103600_TAI.3.continuum.fits', '/root/sunpy/data/hmi.ic_720s.20221214_104800_TAI.3.continuum.fits', '/root/sunpy/data/hmi.ic_720s.20221214_110000_TAI.3.continuum.fits', '/root/sunpy/data/hmi.ic_720s.20221214_111200_TAI.3.continuum.fits', '/root/sunpy/data/hmi.ic_720s.20221214_112400_TAI.3.continuum.fits', '/root/sunpy/data/hmi.ic_720s.20221214_113600_TAI.3.continuum.fits', '/root/sunpy/data/hmi.ic_720s.20221214_114800_TAI.3.continuum.fits', '/root/sunpy/data/hmi.ic_720s.20221214_120000_TAI.3.continuum.fits']\n"
          ]
        }
      ],
      "source": [
        "## Submit the export request and download the data\n",
        "\n",
        "files = Fido.fetch(query)\n",
        "print(files)"
      ]
    },
    {
      "cell_type": "code",
      "source": [
        "!pip install sunpy\n",
        "import sunpy.map"
      ],
      "metadata": {
        "id": "frNUmE2QBk8t"
      },
      "execution_count": null,
      "outputs": []
    },
    {
      "cell_type": "code",
      "source": [
        "import matplotlib.pyplot as plt\n",
        "import numpy as np\n",
        "import numpy.ma as ma\n",
        "\n",
        "import astropy.units as u\n",
        "import sunpy.map"
      ],
      "metadata": {
        "id": "fBeu8zphBanK"
      },
      "execution_count": null,
      "outputs": []
    },
    {
      "cell_type": "code",
      "source": [
        "from PIL import Image\n",
        "import numpy as np\n",
        "\n",
        "# Load the image\n",
        "img_path = '/content/2022.12.08,L.png' # Replace with your image path\n",
        "img = Image.open(img_path)\n",
        "# Convert the image to a numpy array\n",
        "img_array = np.array(img)\n",
        "# Calculate the mean of all pixels\n",
        "mean_pixel_value = np.mean(img_array)\n",
        "\n",
        "print(\"Mean of all pixels:\", mean_pixel_value)\n"
      ],
      "metadata": {
        "colab": {
          "base_uri": "https://localhost:8080/"
        },
        "id": "sCUSdHC5Qh2R",
        "outputId": "6fc1ee67-00bb-4df2-fe44-71db8131c863"
      },
      "execution_count": 9,
      "outputs": [
        {
          "output_type": "stream",
          "name": "stdout",
          "text": [
            "Mean of all pixels: 169.66724491119385\n"
          ]
        }
      ]
    },
    {
      "cell_type": "code",
      "source": [],
      "metadata": {
        "id": "DcO9-egxRdvN"
      },
      "execution_count": null,
      "outputs": []
    }
  ],
  "metadata": {
    "colab": {
      "provenance": [],
      "authorship_tag": "ABX9TyOviFgIP6GLOQGbpmLipCTw",
      "include_colab_link": true
    },
    "kernelspec": {
      "display_name": "Python 3",
      "name": "python3"
    },
    "language_info": {
      "name": "python"
    },
    "widgets": {
      "application/vnd.jupyter.widget-state+json": {
        "a30090a0af6d49f1b130991d56717bcd": {
          "model_module": "@jupyter-widgets/controls",
          "model_name": "HBoxModel",
          "model_module_version": "1.5.0",
          "state": {
            "_dom_classes": [],
            "_model_module": "@jupyter-widgets/controls",
            "_model_module_version": "1.5.0",
            "_model_name": "HBoxModel",
            "_view_count": null,
            "_view_module": "@jupyter-widgets/controls",
            "_view_module_version": "1.5.0",
            "_view_name": "HBoxView",
            "box_style": "",
            "children": [
              "IPY_MODEL_9cb019a3552046bf9a9a479face5e231",
              "IPY_MODEL_a9694f0ff3594eb0a06761c18d8842e0",
              "IPY_MODEL_ab9ef7d3b27d4ecb93a8be47e24e862d"
            ],
            "layout": "IPY_MODEL_797f8025491f417e994e51024752cb7c"
          }
        },
        "9cb019a3552046bf9a9a479face5e231": {
          "model_module": "@jupyter-widgets/controls",
          "model_name": "HTMLModel",
          "model_module_version": "1.5.0",
          "state": {
            "_dom_classes": [],
            "_model_module": "@jupyter-widgets/controls",
            "_model_module_version": "1.5.0",
            "_model_name": "HTMLModel",
            "_view_count": null,
            "_view_module": "@jupyter-widgets/controls",
            "_view_module_version": "1.5.0",
            "_view_name": "HTMLView",
            "description": "",
            "description_tooltip": null,
            "layout": "IPY_MODEL_051b0bbb27e64583aec5d1cc57f6304b",
            "placeholder": "​",
            "style": "IPY_MODEL_609cf0add2a44970a88756d2bb24158a",
            "value": "Files Downloaded: 100%"
          }
        },
        "a9694f0ff3594eb0a06761c18d8842e0": {
          "model_module": "@jupyter-widgets/controls",
          "model_name": "FloatProgressModel",
          "model_module_version": "1.5.0",
          "state": {
            "_dom_classes": [],
            "_model_module": "@jupyter-widgets/controls",
            "_model_module_version": "1.5.0",
            "_model_name": "FloatProgressModel",
            "_view_count": null,
            "_view_module": "@jupyter-widgets/controls",
            "_view_module_version": "1.5.0",
            "_view_name": "ProgressView",
            "bar_style": "success",
            "description": "",
            "description_tooltip": null,
            "layout": "IPY_MODEL_a990a0b150ba4b068b821541cbf51abf",
            "max": 1608,
            "min": 0,
            "orientation": "horizontal",
            "style": "IPY_MODEL_328e1bb62d4a4612a35bcdab17fdab62",
            "value": 1608
          }
        },
        "ab9ef7d3b27d4ecb93a8be47e24e862d": {
          "model_module": "@jupyter-widgets/controls",
          "model_name": "HTMLModel",
          "model_module_version": "1.5.0",
          "state": {
            "_dom_classes": [],
            "_model_module": "@jupyter-widgets/controls",
            "_model_module_version": "1.5.0",
            "_model_name": "HTMLModel",
            "_view_count": null,
            "_view_module": "@jupyter-widgets/controls",
            "_view_module_version": "1.5.0",
            "_view_name": "HTMLView",
            "description": "",
            "description_tooltip": null,
            "layout": "IPY_MODEL_4782ac99dd5846f8a527d4c4c295b942",
            "placeholder": "​",
            "style": "IPY_MODEL_a023f4cd90a74d27af2e0e7012fcbc63",
            "value": " 1608/1608 [03:09&lt;00:00,  8.36file/s]"
          }
        },
        "797f8025491f417e994e51024752cb7c": {
          "model_module": "@jupyter-widgets/base",
          "model_name": "LayoutModel",
          "model_module_version": "1.2.0",
          "state": {
            "_model_module": "@jupyter-widgets/base",
            "_model_module_version": "1.2.0",
            "_model_name": "LayoutModel",
            "_view_count": null,
            "_view_module": "@jupyter-widgets/base",
            "_view_module_version": "1.2.0",
            "_view_name": "LayoutView",
            "align_content": null,
            "align_items": null,
            "align_self": null,
            "border": null,
            "bottom": null,
            "display": null,
            "flex": null,
            "flex_flow": null,
            "grid_area": null,
            "grid_auto_columns": null,
            "grid_auto_flow": null,
            "grid_auto_rows": null,
            "grid_column": null,
            "grid_gap": null,
            "grid_row": null,
            "grid_template_areas": null,
            "grid_template_columns": null,
            "grid_template_rows": null,
            "height": null,
            "justify_content": null,
            "justify_items": null,
            "left": null,
            "margin": null,
            "max_height": null,
            "max_width": null,
            "min_height": null,
            "min_width": null,
            "object_fit": null,
            "object_position": null,
            "order": null,
            "overflow": null,
            "overflow_x": null,
            "overflow_y": null,
            "padding": null,
            "right": null,
            "top": null,
            "visibility": null,
            "width": null
          }
        },
        "051b0bbb27e64583aec5d1cc57f6304b": {
          "model_module": "@jupyter-widgets/base",
          "model_name": "LayoutModel",
          "model_module_version": "1.2.0",
          "state": {
            "_model_module": "@jupyter-widgets/base",
            "_model_module_version": "1.2.0",
            "_model_name": "LayoutModel",
            "_view_count": null,
            "_view_module": "@jupyter-widgets/base",
            "_view_module_version": "1.2.0",
            "_view_name": "LayoutView",
            "align_content": null,
            "align_items": null,
            "align_self": null,
            "border": null,
            "bottom": null,
            "display": null,
            "flex": null,
            "flex_flow": null,
            "grid_area": null,
            "grid_auto_columns": null,
            "grid_auto_flow": null,
            "grid_auto_rows": null,
            "grid_column": null,
            "grid_gap": null,
            "grid_row": null,
            "grid_template_areas": null,
            "grid_template_columns": null,
            "grid_template_rows": null,
            "height": null,
            "justify_content": null,
            "justify_items": null,
            "left": null,
            "margin": null,
            "max_height": null,
            "max_width": null,
            "min_height": null,
            "min_width": null,
            "object_fit": null,
            "object_position": null,
            "order": null,
            "overflow": null,
            "overflow_x": null,
            "overflow_y": null,
            "padding": null,
            "right": null,
            "top": null,
            "visibility": null,
            "width": null
          }
        },
        "609cf0add2a44970a88756d2bb24158a": {
          "model_module": "@jupyter-widgets/controls",
          "model_name": "DescriptionStyleModel",
          "model_module_version": "1.5.0",
          "state": {
            "_model_module": "@jupyter-widgets/controls",
            "_model_module_version": "1.5.0",
            "_model_name": "DescriptionStyleModel",
            "_view_count": null,
            "_view_module": "@jupyter-widgets/base",
            "_view_module_version": "1.2.0",
            "_view_name": "StyleView",
            "description_width": ""
          }
        },
        "a990a0b150ba4b068b821541cbf51abf": {
          "model_module": "@jupyter-widgets/base",
          "model_name": "LayoutModel",
          "model_module_version": "1.2.0",
          "state": {
            "_model_module": "@jupyter-widgets/base",
            "_model_module_version": "1.2.0",
            "_model_name": "LayoutModel",
            "_view_count": null,
            "_view_module": "@jupyter-widgets/base",
            "_view_module_version": "1.2.0",
            "_view_name": "LayoutView",
            "align_content": null,
            "align_items": null,
            "align_self": null,
            "border": null,
            "bottom": null,
            "display": null,
            "flex": null,
            "flex_flow": null,
            "grid_area": null,
            "grid_auto_columns": null,
            "grid_auto_flow": null,
            "grid_auto_rows": null,
            "grid_column": null,
            "grid_gap": null,
            "grid_row": null,
            "grid_template_areas": null,
            "grid_template_columns": null,
            "grid_template_rows": null,
            "height": null,
            "justify_content": null,
            "justify_items": null,
            "left": null,
            "margin": null,
            "max_height": null,
            "max_width": null,
            "min_height": null,
            "min_width": null,
            "object_fit": null,
            "object_position": null,
            "order": null,
            "overflow": null,
            "overflow_x": null,
            "overflow_y": null,
            "padding": null,
            "right": null,
            "top": null,
            "visibility": null,
            "width": null
          }
        },
        "328e1bb62d4a4612a35bcdab17fdab62": {
          "model_module": "@jupyter-widgets/controls",
          "model_name": "ProgressStyleModel",
          "model_module_version": "1.5.0",
          "state": {
            "_model_module": "@jupyter-widgets/controls",
            "_model_module_version": "1.5.0",
            "_model_name": "ProgressStyleModel",
            "_view_count": null,
            "_view_module": "@jupyter-widgets/base",
            "_view_module_version": "1.2.0",
            "_view_name": "StyleView",
            "bar_color": null,
            "description_width": ""
          }
        },
        "4782ac99dd5846f8a527d4c4c295b942": {
          "model_module": "@jupyter-widgets/base",
          "model_name": "LayoutModel",
          "model_module_version": "1.2.0",
          "state": {
            "_model_module": "@jupyter-widgets/base",
            "_model_module_version": "1.2.0",
            "_model_name": "LayoutModel",
            "_view_count": null,
            "_view_module": "@jupyter-widgets/base",
            "_view_module_version": "1.2.0",
            "_view_name": "LayoutView",
            "align_content": null,
            "align_items": null,
            "align_self": null,
            "border": null,
            "bottom": null,
            "display": null,
            "flex": null,
            "flex_flow": null,
            "grid_area": null,
            "grid_auto_columns": null,
            "grid_auto_flow": null,
            "grid_auto_rows": null,
            "grid_column": null,
            "grid_gap": null,
            "grid_row": null,
            "grid_template_areas": null,
            "grid_template_columns": null,
            "grid_template_rows": null,
            "height": null,
            "justify_content": null,
            "justify_items": null,
            "left": null,
            "margin": null,
            "max_height": null,
            "max_width": null,
            "min_height": null,
            "min_width": null,
            "object_fit": null,
            "object_position": null,
            "order": null,
            "overflow": null,
            "overflow_x": null,
            "overflow_y": null,
            "padding": null,
            "right": null,
            "top": null,
            "visibility": null,
            "width": null
          }
        },
        "a023f4cd90a74d27af2e0e7012fcbc63": {
          "model_module": "@jupyter-widgets/controls",
          "model_name": "DescriptionStyleModel",
          "model_module_version": "1.5.0",
          "state": {
            "_model_module": "@jupyter-widgets/controls",
            "_model_module_version": "1.5.0",
            "_model_name": "DescriptionStyleModel",
            "_view_count": null,
            "_view_module": "@jupyter-widgets/base",
            "_view_module_version": "1.2.0",
            "_view_name": "StyleView",
            "description_width": ""
          }
        }
      }
    }
  },
  "nbformat": 4,
  "nbformat_minor": 0
}