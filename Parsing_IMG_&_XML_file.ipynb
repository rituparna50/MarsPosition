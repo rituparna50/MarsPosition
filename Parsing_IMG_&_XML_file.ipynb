{
  "nbformat": 4,
  "nbformat_minor": 0,
  "metadata": {
    "colab": {
      "provenance": [],
      "authorship_tag": "ABX9TyNcMJk+u/x/RZYPxuDeBai6",
      "include_colab_link": true
    },
    "kernelspec": {
      "name": "python3",
      "display_name": "Python 3"
    },
    "language_info": {
      "name": "python"
    }
  },
  "cells": [
    {
      "cell_type": "markdown",
      "metadata": {
        "id": "view-in-github",
        "colab_type": "text"
      },
      "source": [
        "<a href=\"https://colab.research.google.com/github/rituparna50/MarsPosition/blob/main/Parsing_IMG_%26_XML_file.ipynb\" target=\"_parent\"><img src=\"https://colab.research.google.com/assets/colab-badge.svg\" alt=\"Open In Colab\"/></a>"
      ]
    },
    {
      "cell_type": "code",
      "execution_count": 3,
      "metadata": {
        "colab": {
          "base_uri": "https://localhost:8080/"
        },
        "id": "FekdAPPUhqaL",
        "outputId": "7e2324cf-8b6f-4804-bef2-cc6e56e40ff6"
      },
      "outputs": [
        {
          "output_type": "stream",
          "name": "stdout",
          "text": [
            "Requirement already satisfied: Pillow in /usr/local/lib/python3.10/dist-packages (9.4.0)\n"
          ]
        }
      ],
      "source": [
        "pip install Pillow"
      ]
    },
    {
      "cell_type": "code",
      "source": [
        "from PIL import Image"
      ],
      "metadata": {
        "id": "2I2tHk0ohzB4"
      },
      "execution_count": 4,
      "outputs": []
    },
    {
      "cell_type": "code",
      "source": [
        "import os"
      ],
      "metadata": {
        "id": "SYbwdMfii4LI"
      },
      "execution_count": 5,
      "outputs": []
    },
    {
      "cell_type": "code",
      "source": [
        "downloads_path = os.path.join('/content/trialxml.xml')"
      ],
      "metadata": {
        "id": "b-BcZqUomHi9"
      },
      "execution_count": 6,
      "outputs": []
    },
    {
      "cell_type": "code",
      "source": [
        "#Open and read the contents of the xml file\n",
        "with open(downloads_path, 'r') as file:\n",
        "  xml_content = file.read()"
      ],
      "metadata": {
        "id": "rgO0iPL5mfZB",
        "colab": {
          "base_uri": "https://localhost:8080/",
          "height": 210
        },
        "outputId": "7c023364-f6f2-428a-e22b-32967a09240a"
      },
      "execution_count": 8,
      "outputs": [
        {
          "output_type": "error",
          "ename": "FileNotFoundError",
          "evalue": "ignored",
          "traceback": [
            "\u001b[0;31m---------------------------------------------------------------------------\u001b[0m",
            "\u001b[0;31mFileNotFoundError\u001b[0m                         Traceback (most recent call last)",
            "\u001b[0;32m<ipython-input-8-f6bb01289245>\u001b[0m in \u001b[0;36m<cell line: 2>\u001b[0;34m()\u001b[0m\n\u001b[1;32m      1\u001b[0m \u001b[0;31m#Open and read the contents of the xml file\u001b[0m\u001b[0;34m\u001b[0m\u001b[0;34m\u001b[0m\u001b[0m\n\u001b[0;32m----> 2\u001b[0;31m \u001b[0;32mwith\u001b[0m \u001b[0mopen\u001b[0m\u001b[0;34m(\u001b[0m\u001b[0mdownloads_path\u001b[0m\u001b[0;34m,\u001b[0m \u001b[0;34m'r'\u001b[0m\u001b[0;34m)\u001b[0m \u001b[0;32mas\u001b[0m \u001b[0mfile\u001b[0m\u001b[0;34m:\u001b[0m\u001b[0;34m\u001b[0m\u001b[0;34m\u001b[0m\u001b[0m\n\u001b[0m\u001b[1;32m      3\u001b[0m   \u001b[0mxml_content\u001b[0m \u001b[0;34m=\u001b[0m \u001b[0mfile\u001b[0m\u001b[0;34m.\u001b[0m\u001b[0mread\u001b[0m\u001b[0;34m(\u001b[0m\u001b[0;34m)\u001b[0m\u001b[0;34m\u001b[0m\u001b[0;34m\u001b[0m\u001b[0m\n",
            "\u001b[0;31mFileNotFoundError\u001b[0m: [Errno 2] No such file or directory: '/content/trialxml.xml'"
          ]
        }
      ]
    },
    {
      "cell_type": "markdown",
      "source": [
        "# New Section"
      ],
      "metadata": {
        "id": "iGJvsJvSNGYy"
      }
    },
    {
      "cell_type": "code",
      "source": [
        "#printing xml file\n",
        "print(xml_content)"
      ],
      "metadata": {
        "id": "MWJwgh45muZM"
      },
      "execution_count": null,
      "outputs": []
    },
    {
      "cell_type": "code",
      "source": [
        "#open the file and count the lines\n",
        "with open('trialxml.xml','r') as file:\n",
        "    lines = file.readlines()\n",
        "    line_count = len(lines)\n",
        "\n",
        "print(f\"The XML file has {line_count} lines.\")"
      ],
      "metadata": {
        "colab": {
          "base_uri": "https://localhost:8080/"
        },
        "id": "IeOW33SYniZd",
        "outputId": "915f475c-7d75-4718-a812-75855da49ff4"
      },
      "execution_count": 9,
      "outputs": [
        {
          "output_type": "stream",
          "name": "stdout",
          "text": [
            "The XML file has 1538 lines.\n"
          ]
        }
      ]
    },
    {
      "cell_type": "markdown",
      "source": [
        "# Parsing XML file"
      ],
      "metadata": {
        "id": "vyTDsNvscS31"
      }
    },
    {
      "cell_type": "markdown",
      "source": [
        "TO begin parsing an XML file and extracting metadata like \"start time\", \"stop time\" and \"file name\",we can use Python's in-built XML libraries. Lets use 'xml.etree.ElementTree, which is a part of the Python standard library and doesnt require additional installation. MOre tutorial here - [XML Parsing](https://docs.python.org/3/library/xml.etree.elementtree.html)"
      ],
      "metadata": {
        "id": "5Z0QJAkacauu"
      }
    },
    {
      "cell_type": "code",
      "source": [
        "import xml.etree.ElementTree as ET"
      ],
      "metadata": {
        "id": "a3K0Y1b9caaW"
      },
      "execution_count": 1,
      "outputs": []
    },
    {
      "cell_type": "code",
      "source": [
        "#LOad an parse the XML file\n",
        "tree = ET.parse('trialxml.xml')\n",
        "root = tree.getroot()"
      ],
      "metadata": {
        "id": "gMDloj3fo5Hu"
      },
      "execution_count": 9,
      "outputs": []
    },
    {
      "cell_type": "code",
      "source": [
        "for start_date_time in root.findall('.//start_date_time'):\n",
        "  print(start_date_time.text)"
      ],
      "metadata": {
        "id": "Pxk6I2bGStKE"
      },
      "execution_count": 14,
      "outputs": []
    },
    {
      "cell_type": "code",
      "source": [
        "#FUnction to find and print information\n",
        "def print_metadata(root, tag_name):\n",
        "  for elem in root.findall('.//' + tag_name): #THis XPath searches for all elements with the tag\n",
        "    print(tag_name + ':', elem.text)\n",
        "\n",
        "#Replace 'start time', 'stop_time' and 'file_name' with the actual tag names in my XML\n",
        "print_metadata(root, 'start_date_time')\n",
        "print_metadata(root, 'name')\n",
        "\n"
      ],
      "metadata": {
        "id": "OYRoCZJsd3sV"
      },
      "execution_count": 11,
      "outputs": []
    },
    {
      "cell_type": "code",
      "source": [
        "#Print the first few lines of the XML file to understand its structure\n",
        "with open('trialxml.xml','r') as file:\n",
        "  for _ in range(10):  # Adjust the range to print more or fewer lines\n",
        "    print(file.readline().strip())"
      ],
      "metadata": {
        "colab": {
          "base_uri": "https://localhost:8080/"
        },
        "id": "6PR37D9bN1aw",
        "outputId": "855ac5fb-7115-4bbd-a073-cba038490a42"
      },
      "execution_count": 12,
      "outputs": [
        {
          "output_type": "stream",
          "name": "stdout",
          "text": [
            "<?xml version=\"1.0\" encoding=\"UTF-8\" standalone=\"no\"?>\n",
            "<!-- MIPL PDS4 Velocity templates version: 8b7fe906a081fcabe0699b376cac54e77617b9a2 -->\n",
            "<?xml-model href=\"https://pds.nasa.gov/pds4/pds/v1/PDS4_PDS_1G00.sch\" schematypens=\"http://purl.oclc.org/dsdl/schematron\"?>\n",
            "<?xml-model href=\"https://pds.nasa.gov/pds4/cart/v1/PDS4_CART_1G00_1950.sch\" schematypens=\"http://purl.oclc.org/dsdl/schematron\"?>\n",
            "<?xml-model href=\"https://pds.nasa.gov/pds4/disp/v1/PDS4_DISP_1G00_1500.sch\" schematypens=\"http://purl.oclc.org/dsdl/schematron\"?>\n",
            "<?xml-model href=\"https://pds.nasa.gov/pds4/img/v1/PDS4_IMG_1G00_1860.sch\" schematypens=\"http://purl.oclc.org/dsdl/schematron\"?>\n",
            "<?xml-model href=\"https://pds.nasa.gov/pds4/geom/v1/PDS4_GEOM_1G00_1960.sch\" schematypens=\"http://purl.oclc.org/dsdl/schematron\"?>\n",
            "<?xml-model href=\"https://pds.nasa.gov/pds4/proc/v1/PDS4_PROC_1G00_1210.sch\" schematypens=\"http://purl.oclc.org/dsdl/schematron\"?>\n",
            "<?xml-model href=\"https://pds.nasa.gov/pds4/msn/v1/PDS4_MSN_1G00_1300.sch\" schematypens=\"http://purl.oclc.org/dsdl/schematron\"?>\n",
            "<?xml-model href=\"https://pds.nasa.gov/pds4/msn_surface/v1/PDS4_MSN_SURFACE_1G00_1220.sch\" schematypens=\"http://purl.oclc.org/dsdl/schematron\"?>\n"
          ]
        }
      ]
    },
    {
      "cell_type": "code",
      "source": [],
      "metadata": {
        "id": "lWyRFtccOg7W"
      },
      "execution_count": null,
      "outputs": []
    }
  ]
}