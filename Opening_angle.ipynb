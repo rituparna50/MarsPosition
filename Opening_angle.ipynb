{
  "nbformat": 4,
  "nbformat_minor": 0,
  "metadata": {
    "colab": {
      "provenance": [],
      "authorship_tag": "ABX9TyNU2YTjLLoPlGMKPB9io4tp",
      "include_colab_link": true
    },
    "kernelspec": {
      "name": "python3",
      "display_name": "Python 3"
    },
    "language_info": {
      "name": "python"
    }
  },
  "cells": [
    {
      "cell_type": "markdown",
      "metadata": {
        "id": "view-in-github",
        "colab_type": "text"
      },
      "source": [
        "<a href=\"https://colab.research.google.com/github/rituparna50/MarsPosition/blob/main/Opening_angle.ipynb\" target=\"_parent\"><img src=\"https://colab.research.google.com/assets/colab-badge.svg\" alt=\"Open In Colab\"/></a>"
      ]
    },
    {
      "cell_type": "code",
      "execution_count": 1,
      "metadata": {
        "id": "ppXLKr0R-Ize"
      },
      "outputs": [],
      "source": [
        "import astropy\n",
        "from astropy.time import Time"
      ]
    },
    {
      "cell_type": "code",
      "source": [
        "pip install skyfield numpy datetime"
      ],
      "metadata": {
        "colab": {
          "base_uri": "https://localhost:8080/"
        },
        "id": "ufpK6gQc-Tzc",
        "outputId": "3281077c-4384-4aea-e342-5b1f306b53f6"
      },
      "execution_count": 3,
      "outputs": [
        {
          "output_type": "stream",
          "name": "stdout",
          "text": [
            "Installing collected packages: sgp4, zope.interface, jplephem, skyfield, datetime\n",
            "Successfully installed datetime-5.2 jplephem-2.19 sgp4-2.22 skyfield-1.46 zope.interface-6.1\n"
          ]
        }
      ]
    },
    {
      "cell_type": "code",
      "source": [
        "from skyfield.api import load, Topos\n",
        "import math\n",
        "from datetime import datetime\n",
        "import numpy as np\n"
      ],
      "metadata": {
        "id": "CMpITEQg-NzE"
      },
      "execution_count": 4,
      "outputs": []
    },
    {
      "cell_type": "code",
      "source": [
        "def calculate_opening_angle(date_str):\n",
        "    # Load planetary ephemerides\n",
        "    planets = load('de421.bsp')\n",
        "\n",
        "    # Get positions of Earth and Mars\n",
        "    earth, mars = planets['earth'], planets['mars']\n",
        "\n",
        "    # Convert the date string to a datetime object\n",
        "    date = datetime.strptime(date_str, '%Y-%m-%d')\n",
        "\n",
        "    # Create a Skyfield time object\n",
        "    ts = load.timescale()\n",
        "    t = ts.utc(date.year, date.month, date.day)\n",
        "\n",
        "    # Compute positions of Earth and Mars at the specified time\n",
        "    astrometric_earth = earth.at(t)\n",
        "    astrometric_mars = mars.at(t)\n",
        "\n",
        "    # Calculate the vector from Earth to Mars\n",
        "    vector_earth_to_mars = astrometric_mars.position.km - astrometric_earth.position.km\n",
        "\n",
        "    # Calculate the opening angle using the dot product\n",
        "    angle_radians = math.acos(sum(vector_earth_to_mars * astrometric_earth.position.km) /\n",
        "                              (np.linalg.norm(vector_earth_to_mars) * np.linalg.norm(astrometric_earth.position.km)))\n",
        "\n",
        "    # Convert the angle from radians to degrees\n",
        "    angle_degrees = math.degrees(angle_radians)\n",
        "\n",
        "    return angle_degrees\n",
        "\n",
        "# Get user input for the date\n",
        "date_str = input(\"Enter a date in 'yyyy-mm-dd' format: \")\n",
        "\n",
        "angle = calculate_opening_angle(date_str)\n",
        "print(f\"Opening angle between Mars and Earth on {date_str}: {angle:.0f} degrees\")\n",
        "\n",
        "# If you want to change the significant digits, you can update the '.0f' value.\n",
        "# In the code cell below, I have changed it to '.0f' since we shouldn't need to care about precision on a da"
      ],
      "metadata": {
        "colab": {
          "base_uri": "https://localhost:8080/"
        },
        "id": "7E7gs1MC-q-h",
        "outputId": "3e45237f-e9e3-4998-d6e5-ad7509654f3e"
      },
      "execution_count": 7,
      "outputs": [
        {
          "output_type": "stream",
          "name": "stdout",
          "text": [
            "Enter a date in 'yyyy-mm-dd' format: 2023-10-24\n",
            "Opening angle between Mars and Earth on 2023-10-24: 172 degrees\n"
          ]
        }
      ]
    },
    {
      "cell_type": "code",
      "source": [],
      "metadata": {
        "id": "AxAKA19w-8Ae"
      },
      "execution_count": null,
      "outputs": []
    }
  ]
}