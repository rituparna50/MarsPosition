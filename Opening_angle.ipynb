{
  "nbformat": 4,
  "nbformat_minor": 0,
  "metadata": {
    "colab": {
      "provenance": [],
      "authorship_tag": "ABX9TyMtTTYM/HVkLsbnJ8NnKfh+",
      "include_colab_link": true
    },
    "kernelspec": {
      "name": "python3",
      "display_name": "Python 3"
    },
    "language_info": {
      "name": "python"
    }
  },
  "cells": [
    {
      "cell_type": "markdown",
      "metadata": {
        "id": "view-in-github",
        "colab_type": "text"
      },
      "source": [
        "<a href=\"https://colab.research.google.com/github/rituparna50/MarsPosition/blob/main/Opening_angle.ipynb\" target=\"_parent\"><img src=\"https://colab.research.google.com/assets/colab-badge.svg\" alt=\"Open In Colab\"/></a>"
      ]
    },
    {
      "cell_type": "code",
      "execution_count": 4,
      "metadata": {
        "id": "ppXLKr0R-Ize"
      },
      "outputs": [],
      "source": [
        "import astropy\n",
        "from astropy.time import Time"
      ]
    },
    {
      "cell_type": "code",
      "source": [
        "pip install skyfield numpy datetime"
      ],
      "metadata": {
        "colab": {
          "base_uri": "https://localhost:8080/"
        },
        "id": "ufpK6gQc-Tzc",
        "outputId": "d398f9c9-7b16-4e4e-92b1-a93a11c08b41"
      },
      "execution_count": 5,
      "outputs": [
        {
          "output_type": "stream",
          "name": "stdout",
          "text": [
            "Collecting skyfield\n",
            "  Downloading skyfield-1.46-py3-none-any.whl (446 kB)\n",
            "\u001b[?25l     \u001b[90m━━━━━━━━━━━━━━━━━━━━━━━━━━━━━━━━━━━━━━━━\u001b[0m \u001b[32m0.0/446.0 kB\u001b[0m \u001b[31m?\u001b[0m eta \u001b[36m-:--:--\u001b[0m\r\u001b[2K     \u001b[91m━━━━━━━━\u001b[0m\u001b[90m╺\u001b[0m\u001b[90m━━━━━━━━━━━━━━━━━━━━━━━━━━━━━━━\u001b[0m \u001b[32m92.2/446.0 kB\u001b[0m \u001b[31m2.6 MB/s\u001b[0m eta \u001b[36m0:00:01\u001b[0m\r\u001b[2K     \u001b[90m━━━━━━━━━━━━━━━━━━━━━━━━━━━━━━━━━━━━━━━━\u001b[0m \u001b[32m446.0/446.0 kB\u001b[0m \u001b[31m6.4 MB/s\u001b[0m eta \u001b[36m0:00:00\u001b[0m\n",
            "\u001b[?25hRequirement already satisfied: numpy in /usr/local/lib/python3.10/dist-packages (1.23.5)\n",
            "Collecting datetime\n",
            "  Downloading DateTime-5.2-py3-none-any.whl (52 kB)\n",
            "\u001b[2K     \u001b[90m━━━━━━━━━━━━━━━━━━━━━━━━━━━━━━━━━━━━━━━━\u001b[0m \u001b[32m52.2/52.2 kB\u001b[0m \u001b[31m5.8 MB/s\u001b[0m eta \u001b[36m0:00:00\u001b[0m\n",
            "\u001b[?25hRequirement already satisfied: certifi>=2017.4.17 in /usr/local/lib/python3.10/dist-packages (from skyfield) (2023.7.22)\n",
            "Collecting jplephem>=2.13 (from skyfield)\n",
            "  Downloading jplephem-2.19-py3-none-any.whl (47 kB)\n",
            "\u001b[2K     \u001b[90m━━━━━━━━━━━━━━━━━━━━━━━━━━━━━━━━━━━━━━━━\u001b[0m \u001b[32m47.2/47.2 kB\u001b[0m \u001b[31m3.6 MB/s\u001b[0m eta \u001b[36m0:00:00\u001b[0m\n",
            "\u001b[?25hCollecting sgp4>=2.2 (from skyfield)\n",
            "  Downloading sgp4-2.22-cp310-cp310-manylinux_2_5_x86_64.manylinux1_x86_64.manylinux_2_17_x86_64.manylinux2014_x86_64.whl (232 kB)\n",
            "\u001b[2K     \u001b[90m━━━━━━━━━━━━━━━━━━━━━━━━━━━━━━━━━━━━━━━━\u001b[0m \u001b[32m232.1/232.1 kB\u001b[0m \u001b[31m21.5 MB/s\u001b[0m eta \u001b[36m0:00:00\u001b[0m\n",
            "\u001b[?25hCollecting zope.interface (from datetime)\n",
            "  Downloading zope.interface-6.1-cp310-cp310-manylinux_2_5_x86_64.manylinux1_x86_64.manylinux_2_17_x86_64.manylinux2014_x86_64.whl (247 kB)\n",
            "\u001b[2K     \u001b[90m━━━━━━━━━━━━━━━━━━━━━━━━━━━━━━━━━━━━━━━━\u001b[0m \u001b[32m247.1/247.1 kB\u001b[0m \u001b[31m24.0 MB/s\u001b[0m eta \u001b[36m0:00:00\u001b[0m\n",
            "\u001b[?25hRequirement already satisfied: pytz in /usr/local/lib/python3.10/dist-packages (from datetime) (2023.3.post1)\n",
            "Requirement already satisfied: setuptools in /usr/local/lib/python3.10/dist-packages (from zope.interface->datetime) (67.7.2)\n",
            "Installing collected packages: sgp4, zope.interface, jplephem, skyfield, datetime\n",
            "Successfully installed datetime-5.2 jplephem-2.19 sgp4-2.22 skyfield-1.46 zope.interface-6.1\n"
          ]
        }
      ]
    },
    {
      "cell_type": "code",
      "source": [
        "from skyfield.api import load, Topos\n",
        "import math\n",
        "from datetime import datetime\n",
        "import numpy as np\n"
      ],
      "metadata": {
        "id": "CMpITEQg-NzE"
      },
      "execution_count": 6,
      "outputs": []
    },
    {
      "cell_type": "code",
      "source": [
        "def calculate_opening_angle(date_str):\n",
        "    # Load planetary ephemerides\n",
        "    planets = load('de421.bsp')\n",
        "\n",
        "    # Get positions of Earth and Mars\n",
        "    earth, mars = planets['earth'], planets['mars']\n",
        "\n",
        "    # Convert the date string to a datetime object\n",
        "    date = datetime.strptime(date_str, '%Y-%m-%d')\n",
        "\n",
        "    # Create a Skyfield time object\n",
        "    ts = load.timescale()\n",
        "    t = ts.utc(date.year, date.month, date.day)\n",
        "\n",
        "    # Compute positions of Earth and Mars at the specified time\n",
        "    astrometric_earth = earth.at(t)\n",
        "    astrometric_mars = mars.at(t)\n",
        "\n",
        "    # Calculate the vector from Earth to Mars\n",
        "    vector_earth_to_mars = astrometric_mars.position.km - astrometric_earth.position.km\n",
        "\n",
        "    # Calculate the opening angle using the dot product\n",
        "    angle_radians = math.acos(sum(vector_earth_to_mars * astrometric_earth.position.km) /\n",
        "                              (np.linalg.norm(vector_earth_to_mars) * np.linalg.norm(astrometric_earth.position.km)))\n",
        "\n",
        "    # Convert the angle from radians to degrees\n",
        "    angle_degrees = math.degrees(angle_radians)\n",
        "\n",
        "    return angle_degrees\n",
        "\n",
        "# Get user input for the date\n",
        "date_str = input(\"Enter a date in 'yyyy-mm-dd' format: \")\n",
        "\n",
        "angle = calculate_opening_angle(date_str)\n",
        "print(f\"Opening angle between Mars and Earth on {date_str}: {angle:.0f} degrees\")\n",
        "\n",
        "# If you want to change the significant digits, you can update the '.0f' value.\n",
        "# In the code cell below, I have changed it to '.0f' since we shouldn't need to care about precision on a da"
      ],
      "metadata": {
        "colab": {
          "base_uri": "https://localhost:8080/",
          "height": 390
        },
        "id": "7E7gs1MC-q-h",
        "outputId": "5155ba60-5519-4da4-db0e-9f42b36c06c0"
      },
      "execution_count": 7,
      "outputs": [
        {
          "output_type": "error",
          "ename": "KeyboardInterrupt",
          "evalue": "ignored",
          "traceback": [
            "\u001b[0;31m---------------------------------------------------------------------------\u001b[0m",
            "\u001b[0;31mKeyboardInterrupt\u001b[0m                         Traceback (most recent call last)",
            "\u001b[0;32m<ipython-input-7-8f521c76536f>\u001b[0m in \u001b[0;36m<cell line: 32>\u001b[0;34m()\u001b[0m\n\u001b[1;32m     30\u001b[0m \u001b[0;34m\u001b[0m\u001b[0m\n\u001b[1;32m     31\u001b[0m \u001b[0;31m# Get user input for the date\u001b[0m\u001b[0;34m\u001b[0m\u001b[0;34m\u001b[0m\u001b[0m\n\u001b[0;32m---> 32\u001b[0;31m \u001b[0mdate_str\u001b[0m \u001b[0;34m=\u001b[0m \u001b[0minput\u001b[0m\u001b[0;34m(\u001b[0m\u001b[0;34m\"Enter a date in 'yyyy-mm-dd' format: \"\u001b[0m\u001b[0;34m)\u001b[0m\u001b[0;34m\u001b[0m\u001b[0;34m\u001b[0m\u001b[0m\n\u001b[0m\u001b[1;32m     33\u001b[0m \u001b[0;34m\u001b[0m\u001b[0m\n\u001b[1;32m     34\u001b[0m \u001b[0mangle\u001b[0m \u001b[0;34m=\u001b[0m \u001b[0mcalculate_opening_angle\u001b[0m\u001b[0;34m(\u001b[0m\u001b[0mdate_str\u001b[0m\u001b[0;34m)\u001b[0m\u001b[0;34m\u001b[0m\u001b[0;34m\u001b[0m\u001b[0m\n",
            "\u001b[0;32m/usr/local/lib/python3.10/dist-packages/ipykernel/kernelbase.py\u001b[0m in \u001b[0;36mraw_input\u001b[0;34m(self, prompt)\u001b[0m\n\u001b[1;32m    849\u001b[0m                 \u001b[0;34m\"raw_input was called, but this frontend does not support input requests.\"\u001b[0m\u001b[0;34m\u001b[0m\u001b[0;34m\u001b[0m\u001b[0m\n\u001b[1;32m    850\u001b[0m             )\n\u001b[0;32m--> 851\u001b[0;31m         return self._input_request(str(prompt),\n\u001b[0m\u001b[1;32m    852\u001b[0m             \u001b[0mself\u001b[0m\u001b[0;34m.\u001b[0m\u001b[0m_parent_ident\u001b[0m\u001b[0;34m,\u001b[0m\u001b[0;34m\u001b[0m\u001b[0;34m\u001b[0m\u001b[0m\n\u001b[1;32m    853\u001b[0m             \u001b[0mself\u001b[0m\u001b[0;34m.\u001b[0m\u001b[0m_parent_header\u001b[0m\u001b[0;34m,\u001b[0m\u001b[0;34m\u001b[0m\u001b[0;34m\u001b[0m\u001b[0m\n",
            "\u001b[0;32m/usr/local/lib/python3.10/dist-packages/ipykernel/kernelbase.py\u001b[0m in \u001b[0;36m_input_request\u001b[0;34m(self, prompt, ident, parent, password)\u001b[0m\n\u001b[1;32m    893\u001b[0m             \u001b[0;32mexcept\u001b[0m \u001b[0mKeyboardInterrupt\u001b[0m\u001b[0;34m:\u001b[0m\u001b[0;34m\u001b[0m\u001b[0;34m\u001b[0m\u001b[0m\n\u001b[1;32m    894\u001b[0m                 \u001b[0;31m# re-raise KeyboardInterrupt, to truncate traceback\u001b[0m\u001b[0;34m\u001b[0m\u001b[0;34m\u001b[0m\u001b[0m\n\u001b[0;32m--> 895\u001b[0;31m                 \u001b[0;32mraise\u001b[0m \u001b[0mKeyboardInterrupt\u001b[0m\u001b[0;34m(\u001b[0m\u001b[0;34m\"Interrupted by user\"\u001b[0m\u001b[0;34m)\u001b[0m \u001b[0;32mfrom\u001b[0m \u001b[0;32mNone\u001b[0m\u001b[0;34m\u001b[0m\u001b[0;34m\u001b[0m\u001b[0m\n\u001b[0m\u001b[1;32m    896\u001b[0m             \u001b[0;32mexcept\u001b[0m \u001b[0mException\u001b[0m \u001b[0;32mas\u001b[0m \u001b[0me\u001b[0m\u001b[0;34m:\u001b[0m\u001b[0;34m\u001b[0m\u001b[0;34m\u001b[0m\u001b[0m\n\u001b[1;32m    897\u001b[0m                 \u001b[0mself\u001b[0m\u001b[0;34m.\u001b[0m\u001b[0mlog\u001b[0m\u001b[0;34m.\u001b[0m\u001b[0mwarning\u001b[0m\u001b[0;34m(\u001b[0m\u001b[0;34m\"Invalid Message:\"\u001b[0m\u001b[0;34m,\u001b[0m \u001b[0mexc_info\u001b[0m\u001b[0;34m=\u001b[0m\u001b[0;32mTrue\u001b[0m\u001b[0;34m)\u001b[0m\u001b[0;34m\u001b[0m\u001b[0;34m\u001b[0m\u001b[0m\n",
            "\u001b[0;31mKeyboardInterrupt\u001b[0m: Interrupted by user"
          ]
        }
      ]
    },
    {
      "cell_type": "markdown",
      "source": [
        "**VALIDATING OPENING ANGLE RANGE**\n",
        "\n",
        "In order to find the correct time range we need to work with, we have to validate that the opening angle between EArth and Mars is between 90 and 270 degrees. Wethen have t find the time range when the angle falls between these min.angle and max.angle."
      ],
      "metadata": {
        "id": "ymX4KZ-nA35u"
      }
    },
    {
      "cell_type": "markdown",
      "source": [
        " NOw I need the code to generate a range of date or timeframe, when the opening angle between the earth and mars is between 90 degree and 270 degree. Generate a code for me using the above information in pictures, such that with the given information that I need opening angle between earth and mars to be between 90 and 270 degree, give me a range of dates"
      ],
      "metadata": {
        "id": "6MrtG3Pu_iGv"
      }
    },
    {
      "cell_type": "code",
      "source": [
        "from datetime import datetime, timedelta  # Import required libraries for working with dates and time intervals\n",
        "\n",
        "# Assuming you already have the calculate_opening_angle function from your previous image\n",
        "\n",
        "def find_date_range_for_angle(min_angle, max_angle, start_date_str=\"2022-01-01\", max_days_to_check=365):\n",
        "    # Convert the start date string to a datetime object\n",
        "    current_date = datetime.strptime(start_date_str, '%Y-%m-%d')\n",
        "\n",
        "    # Initialize variables to keep track of the start and end dates of the desired range\n",
        "    start_date_of_range = None\n",
        "    end_date_of_range = None\n",
        "\n",
        "    # Loop through the specified number of days starting from the provided date\n",
        "    for _ in range(max_days_to_check):\n",
        "        # Calculate the opening angle for the current date\n",
        "        angle = calculate_opening_angle(current_date.strftime('%Y-%m-%d'))\n",
        "\n",
        "        # Check if the angle falls within the specified range\n",
        "        if min_angle <= angle <= max_angle:\n",
        "            # If this is the first date in the desired range, set the start_date_of_range\n",
        "            if start_date_of_range is None:\n",
        "                start_date_of_range = current_date\n",
        "            # Update the end_date_of_range with the current date\n",
        "            end_date_of_range = current_date\n",
        "        # If the angle is outside the specified range and we have already found a start date, exit the loop\n",
        "        elif start_date_of_range is not None:\n",
        "            break\n",
        "\n",
        "        # Increment the current date by one day and continue the loop\n",
        "        current_date += timedelta(days=1)\n",
        "\n",
        "    # Return the found start and end dates\n",
        "    return start_date_of_range, end_date_of_range\n",
        "\n",
        "# Prompt the user to input the desired angle range\n",
        "min_angle = float(input(\"Enter the minimum opening angle (in degrees): \"))\n",
        "max_angle = float(input(\"Enter the maximum opening angle (in degrees): \"))\n",
        "\n",
        "# Call the function to find the date range for the specified angle range\n",
        "start_date_of_range, end_date_of_range = find_date_range_for_angle(min_angle, max_angle)\n",
        "\n",
        "# Display the results to the user\n",
        "if start_date_of_range and end_date_of_range:\n",
        "    print(f\"\\nThe range of dates when the opening angle is between {min_angle} and {max_angle} degrees is:\")\n",
        "    print(f\"From {start_date_of_range.strftime('%Y-%m-%d')} to {end_date_of_range.strftime('%Y-%m-%d')}\")\n",
        "else:\n",
        "    print(f\"\\nNo range found within 1 year of starting date where the opening angle is between {min_angle} and {max_angle} degrees.\")\n"
      ],
      "metadata": {
        "id": "c91LxYL8_mt-",
        "outputId": "35e7c83a-84c5-4443-b670-c0c78218d871",
        "colab": {
          "base_uri": "https://localhost:8080/"
        }
      },
      "execution_count": 8,
      "outputs": [
        {
          "name": "stdout",
          "output_type": "stream",
          "text": [
            "Enter the minimum opening angle (in degrees): 90\n",
            "Enter the maximum opening angle (in degrees): 270\n"
          ]
        },
        {
          "output_type": "stream",
          "name": "stderr",
          "text": [
            "[#################################] 100% de421.bsp\n"
          ]
        },
        {
          "output_type": "stream",
          "name": "stdout",
          "text": [
            "\n",
            "The range of dates when the opening angle is between 90.0 and 270.0 degrees is:\n",
            "From 2022-01-01 to 2022-08-27\n"
          ]
        }
      ]
    },
    {
      "cell_type": "code",
      "source": [
        "from datetime import datetime, timedelta  # Import required libraries for working with dates and time intervals\n",
        "\n",
        "# Assuming you already have the calculate_opening_angle function from your previous image\n",
        "\n",
        "def find_date_range_for_angle(min_angle, max_angle):\n",
        "    # Prompt the user to input the desired start date\n",
        "    start_date_str = input(\"Enter your desired start date in 'yyyy-mm-dd' format: \")\n",
        "    # Convert the start date string to a datetime object\n",
        "    current_date = datetime.strptime(start_date_str, '%Y-%m-%d')\n",
        "\n",
        "    # Prompt the user to input the maximum number of days to check\n",
        "    max_days_to_check = int(input(\"Enter the maximum number of days you want to check: \"))\n",
        "\n",
        "    # Initialize variables to keep track of the start and end dates of the desired range\n",
        "    start_date_of_range = None\n",
        "    end_date_of_range = None\n",
        "\n",
        "    # Loop through the specified number of days starting from the provided date\n",
        "    for _ in range(max_days_to_check):\n",
        "        # Calculate the opening angle for the current date\n",
        "        angle = calculate_opening_angle(current_date.strftime('%Y-%m-%d'))\n",
        "\n",
        "        # Check if the angle falls within the specified range\n",
        "        if min_angle <= angle <= max_angle:\n",
        "            # If this is the first date in the desired range, set the start_date_of_range\n",
        "            if start_date_of_range is None:\n",
        "                start_date_of_range = current_date\n",
        "            # Update the end_date_of_range with the current date\n",
        "            end_date_of_range = current_date\n",
        "        # If the angle is outside the specified range and we have already found a start date, exit the loop\n",
        "        elif start_date_of_range is not None:\n",
        "            break\n",
        "\n",
        "        # Increment the current date by one day and continue the loop\n",
        "        current_date += timedelta(days=1)\n",
        "\n",
        "    # Return the found start and end dates\n",
        "    return start_date_of_range, end_date_of_range\n",
        "\n",
        "# Prompt the user to input the desired angle range\n",
        "min_angle = float(input(\"Enter the minimum opening angle (in degrees): \"))\n",
        "max_angle = float(input(\"Enter the maximum opening angle (in degrees): \"))\n",
        "\n",
        "# Call the function to find the date range for the specified angle range\n",
        "start_date_of_range, end_date_of_range = find_date_range_for_angle(min_angle, max_angle)\n",
        "\n",
        "# Display the results to the user\n",
        "if start_date_of_range and end_date_of_range:\n",
        "    print(f\"\\nThe range of dates when the opening angle is between {min_angle} and {max_angle} degrees is:\")\n",
        "    print(f\"From {start_date_of_range.strftime('%Y-%m-%d')} to {end_date_of_range.strftime('%Y-%m-%d')}\")\n",
        "else:\n",
        "    print(f\"\\nNo range found within {max_days_to_check} days of {start_date_str} where the opening angle is between {min_angle} and {max_angle} degrees.\")\n"
      ],
      "metadata": {
        "id": "4btchqlHtAiO",
        "colab": {
          "base_uri": "https://localhost:8080/"
        },
        "outputId": "79b62750-663a-437e-b474-6c31521790f4"
      },
      "execution_count": 11,
      "outputs": [
        {
          "output_type": "stream",
          "name": "stdout",
          "text": [
            "Enter the minimum opening angle (in degrees): 90\n",
            "Enter the maximum opening angle (in degrees): 270\n",
            "Enter your desired start date in 'yyyy-mm-dd' format: 2022-09-01\n",
            "Enter the maximum number of days you want to check: 365\n",
            "\n",
            "The range of dates when the opening angle is between 90.0 and 270.0 degrees is:\n",
            "From 2023-03-17 to 2023-08-31\n"
          ]
        }
      ]
    },
    {
      "cell_type": "markdown",
      "source": [
        "If I dont want to specify the maximum number of days...----"
      ],
      "metadata": {
        "id": "i2TM9wvs5bsm"
      }
    },
    {
      "cell_type": "code",
      "source": [
        "from datetime import datetime, timedelta  # Import required libraries for working with dates and time intervals\n",
        "\n",
        "# Assuming you already have the calculate_opening_angle function from your previous image\n",
        "\n",
        "def find_date_range_for_angle(min_angle, max_angle):\n",
        "    # Prompt the user to input the desired start date\n",
        "    start_date_str = input(\"Enter your desired start date in 'yyyy-mm-dd' format: \")\n",
        "    # Convert the start date string to a datetime object\n",
        "    current_date = datetime.strptime(start_date_str, '%Y-%m-%d')\n",
        "\n",
        "    # Initialize variables to keep track of the start and end dates of the desired range\n",
        "    start_date_of_range = None\n",
        "    end_date_of_range = None\n",
        "\n",
        "    # Loop indefinitely until a matching date range is found or the user stops the program\n",
        "    while True:\n",
        "        # Calculate the opening angle for the current date\n",
        "        angle = calculate_opening_angle(current_date.strftime('%Y-%m-%d'))\n",
        "\n",
        "        # Check if the angle falls within the specified range\n",
        "        if min_angle <= angle <= max_angle:\n",
        "            # If this is the first date in the desired range, set the start_date_of_range\n",
        "            if start_date_of_range is None:\n",
        "                start_date_of_range = current_date\n",
        "            # Update the end_date_of_range with the current date\n",
        "            end_date_of_range = current_date\n",
        "        # If the angle is outside the specified range and we have already found a start date, exit the loop\n",
        "        elif start_date_of_range is not None:\n",
        "            break\n",
        "\n",
        "        # Increment the current date by one day and continue the loop\n",
        "        current_date += timedelta(days=1)\n",
        "\n",
        "    # Return the found start and end dates\n",
        "    return start_date_of_range, end_date_of_range\n",
        "\n",
        "# Prompt the user to input the desired angle range\n",
        "min_angle = float(input(\"Enter the minimum opening angle (in degrees): \"))\n",
        "max_angle = float(input(\"Enter the maximum opening angle (in degrees): \"))\n",
        "\n",
        "# Call the function to find the date range for the specified angle range\n",
        "start_date_of_range, end_date_of_range = find_date_range_for_angle(min_angle, max_angle)\n",
        "\n",
        "# Display the results to the user\n",
        "if start_date_of_range and end_date_of_range:\n",
        "    print(f\"\\nThe range of dates when the opening angle is between {min_angle} and {max_angle} degrees is:\")\n",
        "    print(f\"From {start_date_of_range.strftime('%Y-%m-%d')} to {end_date_of_range.strftime('%Y-%m-%d')}\")\n",
        "else:\n",
        "    print(f\"\\nNo range found starting from {start_date_str} where the opening angle is between {min_angle} and {max_angle} degrees.\")\n"
      ],
      "metadata": {
        "colab": {
          "base_uri": "https://localhost:8080/"
        },
        "id": "NKlk96eN5bT5",
        "outputId": "3b73c469-3b0d-4550-b7c2-70d4795fe1bc"
      },
      "execution_count": 12,
      "outputs": [
        {
          "output_type": "stream",
          "name": "stdout",
          "text": [
            "Enter the minimum opening angle (in degrees): 90\n",
            "Enter the maximum opening angle (in degrees): 270\n",
            "Enter your desired start date in 'yyyy-mm-dd' format: 2021-02-20\n",
            "\n",
            "The range of dates when the opening angle is between 90.0 and 270.0 degrees is:\n",
            "From 2021-02-20 to 2022-08-27\n"
          ]
        }
      ]
    },
    {
      "cell_type": "markdown",
      "source": [
        "In the second code (without a maximum number of days defined), the code searches indefinitely starting from the user-defined start date. However, the way the code is currently written, it stops searching as soon as it finds a date range that satisfies the condition of the opening angle being between the specified min and max angles. Once it finds such a range, it breaks out of the loop and doesn't search further.\n",
        "\n",
        "To get a list of date ranges, you'd need to modify the code to store multiple date ranges and continue the search even after finding a satisfactory range. Here's a modification that should achieve this"
      ],
      "metadata": {
        "id": "g_qf28TA70L6"
      }
    }
  ]
}