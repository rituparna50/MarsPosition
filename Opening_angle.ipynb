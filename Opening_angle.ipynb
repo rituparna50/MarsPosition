{
  "nbformat": 4,
  "nbformat_minor": 0,
  "metadata": {
    "colab": {
      "provenance": [],
      "authorship_tag": "ABX9TyO417y65ePt4yc+6IwmR08l",
      "include_colab_link": true
    },
    "kernelspec": {
      "name": "python3",
      "display_name": "Python 3"
    },
    "language_info": {
      "name": "python"
    }
  },
  "cells": [
    {
      "cell_type": "markdown",
      "metadata": {
        "id": "view-in-github",
        "colab_type": "text"
      },
      "source": [
        "<a href=\"https://colab.research.google.com/github/rituparna50/MarsPosition/blob/main/Opening_angle.ipynb\" target=\"_parent\"><img src=\"https://colab.research.google.com/assets/colab-badge.svg\" alt=\"Open In Colab\"/></a>"
      ]
    },
    {
      "cell_type": "code",
      "execution_count": 1,
      "metadata": {
        "id": "ppXLKr0R-Ize"
      },
      "outputs": [],
      "source": [
        "import astropy\n",
        "from astropy.time import Time"
      ]
    },
    {
      "cell_type": "code",
      "source": [
        "pip install skyfield numpy datetime"
      ],
      "metadata": {
        "colab": {
          "base_uri": "https://localhost:8080/"
        },
        "id": "ufpK6gQc-Tzc",
        "outputId": "3281077c-4384-4aea-e342-5b1f306b53f6"
      },
      "execution_count": 3,
      "outputs": [
        {
          "output_type": "stream",
          "name": "stdout",
          "text": [
            "Installing collected packages: sgp4, zope.interface, jplephem, skyfield, datetime\n",
            "Successfully installed datetime-5.2 jplephem-2.19 sgp4-2.22 skyfield-1.46 zope.interface-6.1\n"
          ]
        }
      ]
    },
    {
      "cell_type": "code",
      "source": [
        "from skyfield.api import load, Topos\n",
        "import math\n",
        "from datetime import datetime\n",
        "import numpy as np\n"
      ],
      "metadata": {
        "id": "CMpITEQg-NzE"
      },
      "execution_count": 4,
      "outputs": []
    },
    {
      "cell_type": "code",
      "source": [
        "def calculate_opening_angle(date_str):\n",
        "    # Load planetary ephemerides\n",
        "    planets = load('de421.bsp')\n",
        "\n",
        "    # Get positions of Earth and Mars\n",
        "    earth, mars = planets['earth'], planets['mars']\n",
        "\n",
        "    # Convert the date string to a datetime object\n",
        "    date = datetime.strptime(date_str, '%Y-%m-%d')\n",
        "\n",
        "    # Create a Skyfield time object\n",
        "    ts = load.timescale()\n",
        "    t = ts.utc(date.year, date.month, date.day)\n",
        "\n",
        "    # Compute positions of Earth and Mars at the specified time\n",
        "    astrometric_earth = earth.at(t)\n",
        "    astrometric_mars = mars.at(t)\n",
        "\n",
        "    # Calculate the vector from Earth to Mars\n",
        "    vector_earth_to_mars = astrometric_mars.position.km - astrometric_earth.position.km\n",
        "\n",
        "    # Calculate the opening angle using the dot product\n",
        "    angle_radians = math.acos(sum(vector_earth_to_mars * astrometric_earth.position.km) /\n",
        "                              (np.linalg.norm(vector_earth_to_mars) * np.linalg.norm(astrometric_earth.position.km)))\n",
        "\n",
        "    # Convert the angle from radians to degrees\n",
        "    angle_degrees = math.degrees(angle_radians)\n",
        "\n",
        "    return angle_degrees\n",
        "\n",
        "# Get user input for the date\n",
        "date_str = input(\"Enter a date in 'yyyy-mm-dd' format: \")\n",
        "\n",
        "angle = calculate_opening_angle(date_str)\n",
        "print(f\"Opening angle between Mars and Earth on {date_str}: {angle:.0f} degrees\")\n",
        "\n",
        "# If you want to change the significant digits, you can update the '.0f' value.\n",
        "# In the code cell below, I have changed it to '.0f' since we shouldn't need to care about precision on a da"
      ],
      "metadata": {
        "colab": {
          "base_uri": "https://localhost:8080/"
        },
        "id": "7E7gs1MC-q-h",
        "outputId": "3e45237f-e9e3-4998-d6e5-ad7509654f3e"
      },
      "execution_count": 7,
      "outputs": [
        {
          "output_type": "stream",
          "name": "stdout",
          "text": [
            "Enter a date in 'yyyy-mm-dd' format: 2023-10-24\n",
            "Opening angle between Mars and Earth on 2023-10-24: 172 degrees\n"
          ]
        }
      ]
    },
    {
      "cell_type": "markdown",
      "source": [
        "**VALIDATING OPENING ANGLE RANGE**\n",
        "\n",
        "In order to find the correct time range we need to work with, we have to validate that the opening angle between EArth and Mars is between 90 and 270 degrees. Wethen have t find the time range when the angle falls between these min.angle and max.angle."
      ],
      "metadata": {
        "id": "ymX4KZ-nA35u"
      }
    },
    {
      "cell_type": "markdown",
      "source": [
        " NOw I need the code to generate a range of date or timeframe, when the opening angle between the earth and mars is between 90 degree and 270 degree. Generate a code for me using the above information in pictures, such that with the given information that I need opening angle between earth and mars to be between 90 and 270 degree, give me a range of dates"
      ],
      "metadata": {
        "id": "6MrtG3Pu_iGv"
      }
    },
    {
      "cell_type": "code",
      "source": [
        "from datetime import datetime, timedelta  # Import required libraries for working with dates and time intervals\n",
        "\n",
        "# Assuming you already have the calculate_opening_angle function from your previous image\n",
        "\n",
        "def find_date_range_for_angle(min_angle, max_angle, start_date_str=\"2022-01-01\", max_days_to_check=365):\n",
        "    # Convert the start date string to a datetime object\n",
        "    current_date = datetime.strptime(start_date_str, '%Y-%m-%d')\n",
        "\n",
        "    # Initialize variables to keep track of the start and end dates of the desired range\n",
        "    start_date_of_range = None\n",
        "    end_date_of_range = None\n",
        "\n",
        "    # Loop through the specified number of days starting from the provided date\n",
        "    for _ in range(max_days_to_check):\n",
        "        # Calculate the opening angle for the current date\n",
        "        angle = calculate_opening_angle(current_date.strftime('%Y-%m-%d'))\n",
        "\n",
        "        # Check if the angle falls within the specified range\n",
        "        if min_angle <= angle <= max_angle:\n",
        "            # If this is the first date in the desired range, set the start_date_of_range\n",
        "            if start_date_of_range is None:\n",
        "                start_date_of_range = current_date\n",
        "            # Update the end_date_of_range with the current date\n",
        "            end_date_of_range = current_date\n",
        "        # If the angle is outside the specified range and we have already found a start date, exit the loop\n",
        "        elif start_date_of_range is not None:\n",
        "            break\n",
        "\n",
        "        # Increment the current date by one day and continue the loop\n",
        "        current_date += timedelta(days=1)\n",
        "\n",
        "    # Return the found start and end dates\n",
        "    return start_date_of_range, end_date_of_range\n",
        "\n",
        "# Prompt the user to input the desired angle range\n",
        "min_angle = float(input(\"Enter the minimum opening angle (in degrees): \"))\n",
        "max_angle = float(input(\"Enter the maximum opening angle (in degrees): \"))\n",
        "\n",
        "# Call the function to find the date range for the specified angle range\n",
        "start_date_of_range, end_date_of_range = find_date_range_for_angle(min_angle, max_angle)\n",
        "\n",
        "# Display the results to the user\n",
        "if start_date_of_range and end_date_of_range:\n",
        "    print(f\"\\nThe range of dates when the opening angle is between {min_angle} and {max_angle} degrees is:\")\n",
        "    print(f\"From {start_date_of_range.strftime('%Y-%m-%d')} to {end_date_of_range.strftime('%Y-%m-%d')}\")\n",
        "else:\n",
        "    print(f\"\\nNo range found within 1 year of starting date where the opening angle is between {min_angle} and {max_angle} degrees.\")\n"
      ],
      "metadata": {
        "colab": {
          "base_uri": "https://localhost:8080/"
        },
        "id": "c91LxYL8_mt-",
        "outputId": "9aba9485-4252-4568-d472-e0310eed3097"
      },
      "execution_count": 9,
      "outputs": [
        {
          "output_type": "stream",
          "name": "stdout",
          "text": [
            "Enter the minimum opening angle (in degrees): 90\n",
            "Enter the maximum opening angle (in degrees): 270\n",
            "\n",
            "The range of dates when the opening angle is between 90.0 and 270.0 degrees is:\n",
            "From 2022-01-01 to 2022-08-27\n"
          ]
        }
      ]
    }
  ]
}